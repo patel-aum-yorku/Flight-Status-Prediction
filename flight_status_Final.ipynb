{
 "cells": [
  {
   "cell_type": "markdown",
   "id": "ae5c0d3b",
   "metadata": {},
   "source": [
    "# EECS 3401 Project \n",
    "\n",
    "## Filght Status Prediction\n"
   ]
  },
  {
   "cell_type": "markdown",
   "id": "13c6cfed",
   "metadata": {},
   "source": [
    "#### Can we predict if the flight is arriving late?\n",
    "\n",
    "Dataset Overview:\n",
    "\n",
    "The dataset used in this analysis contains information on thousands of flights, including details such as departure delays, arrival delays, airlines, airports, and more. We explore the dataset, preprocess the data, engineer relevant features, and train several machine learning models to predict flight delays.\n",
    "\n",
    "Note: Selection of ATL for Model Training\n",
    "\n",
    "Due to computational constraints and ATL's status as one of the world's busiest airports, our study exclusively trains models on data from Hartsfield-Jackson Atlanta International Airport. This focused approach ensures efficient use of resources while capturing diverse flight scenarios, enhancing the accuracy of our predictive models for flight delays and arrivals."
   ]
  },
  {
   "cell_type": "code",
   "execution_count": 50,
   "id": "e2e3ec60",
   "metadata": {
    "ExecuteTime": {
     "end_time": "2024-03-22T01:59:08.307633400Z",
     "start_time": "2024-03-22T01:59:08.076264800Z"
    }
   },
   "outputs": [],
   "source": [
    "import zipfile\n",
    "import pandas as pd\n",
    "import numpy as np\n",
    "import sklearn\n",
    "import matplotlib.pyplot as plt\n",
    "import seaborn as sns\n",
    "\n"
   ]
  },
  {
   "cell_type": "code",
   "execution_count": 51,
   "id": "9bbb0270",
   "metadata": {
    "ExecuteTime": {
     "end_time": "2024-03-22T01:59:41.607556400Z",
     "start_time": "2024-03-22T01:59:08.308642900Z"
    }
   },
   "outputs": [
    {
     "data": {
      "text/html": [
       "<div>\n",
       "<style scoped>\n",
       "    .dataframe tbody tr th:only-of-type {\n",
       "        vertical-align: middle;\n",
       "    }\n",
       "\n",
       "    .dataframe tbody tr th {\n",
       "        vertical-align: top;\n",
       "    }\n",
       "\n",
       "    .dataframe thead th {\n",
       "        text-align: right;\n",
       "    }\n",
       "</style>\n",
       "<table border=\"1\" class=\"dataframe\">\n",
       "  <thead>\n",
       "    <tr style=\"text-align: right;\">\n",
       "      <th></th>\n",
       "      <th>FlightDate</th>\n",
       "      <th>Airline</th>\n",
       "      <th>Origin</th>\n",
       "      <th>Dest</th>\n",
       "      <th>Cancelled</th>\n",
       "      <th>Diverted</th>\n",
       "      <th>CRSDepTime</th>\n",
       "      <th>DepTime</th>\n",
       "      <th>DepDelayMinutes</th>\n",
       "      <th>DepDelay</th>\n",
       "      <th>...</th>\n",
       "      <th>WheelsOff</th>\n",
       "      <th>WheelsOn</th>\n",
       "      <th>TaxiIn</th>\n",
       "      <th>CRSArrTime</th>\n",
       "      <th>ArrDelay</th>\n",
       "      <th>ArrDel15</th>\n",
       "      <th>ArrivalDelayGroups</th>\n",
       "      <th>ArrTimeBlk</th>\n",
       "      <th>DistanceGroup</th>\n",
       "      <th>DivAirportLandings</th>\n",
       "    </tr>\n",
       "  </thead>\n",
       "  <tbody>\n",
       "    <tr>\n",
       "      <th>0</th>\n",
       "      <td>2022-04-04</td>\n",
       "      <td>Commutair Aka Champlain Enterprises, Inc.</td>\n",
       "      <td>GJT</td>\n",
       "      <td>DEN</td>\n",
       "      <td>False</td>\n",
       "      <td>False</td>\n",
       "      <td>1133</td>\n",
       "      <td>1123.0</td>\n",
       "      <td>0.0</td>\n",
       "      <td>-10.0</td>\n",
       "      <td>...</td>\n",
       "      <td>1140.0</td>\n",
       "      <td>1220.0</td>\n",
       "      <td>8.0</td>\n",
       "      <td>1245</td>\n",
       "      <td>-17.0</td>\n",
       "      <td>0.0</td>\n",
       "      <td>-2.0</td>\n",
       "      <td>1200-1259</td>\n",
       "      <td>1</td>\n",
       "      <td>0</td>\n",
       "    </tr>\n",
       "    <tr>\n",
       "      <th>1</th>\n",
       "      <td>2022-04-04</td>\n",
       "      <td>Commutair Aka Champlain Enterprises, Inc.</td>\n",
       "      <td>HRL</td>\n",
       "      <td>IAH</td>\n",
       "      <td>False</td>\n",
       "      <td>False</td>\n",
       "      <td>732</td>\n",
       "      <td>728.0</td>\n",
       "      <td>0.0</td>\n",
       "      <td>-4.0</td>\n",
       "      <td>...</td>\n",
       "      <td>744.0</td>\n",
       "      <td>839.0</td>\n",
       "      <td>9.0</td>\n",
       "      <td>849</td>\n",
       "      <td>-1.0</td>\n",
       "      <td>0.0</td>\n",
       "      <td>-1.0</td>\n",
       "      <td>0800-0859</td>\n",
       "      <td>2</td>\n",
       "      <td>0</td>\n",
       "    </tr>\n",
       "    <tr>\n",
       "      <th>2</th>\n",
       "      <td>2022-04-04</td>\n",
       "      <td>Commutair Aka Champlain Enterprises, Inc.</td>\n",
       "      <td>DRO</td>\n",
       "      <td>DEN</td>\n",
       "      <td>False</td>\n",
       "      <td>False</td>\n",
       "      <td>1529</td>\n",
       "      <td>1514.0</td>\n",
       "      <td>0.0</td>\n",
       "      <td>-15.0</td>\n",
       "      <td>...</td>\n",
       "      <td>1535.0</td>\n",
       "      <td>1622.0</td>\n",
       "      <td>14.0</td>\n",
       "      <td>1639</td>\n",
       "      <td>-3.0</td>\n",
       "      <td>0.0</td>\n",
       "      <td>-1.0</td>\n",
       "      <td>1600-1659</td>\n",
       "      <td>2</td>\n",
       "      <td>0</td>\n",
       "    </tr>\n",
       "    <tr>\n",
       "      <th>3</th>\n",
       "      <td>2022-04-04</td>\n",
       "      <td>Commutair Aka Champlain Enterprises, Inc.</td>\n",
       "      <td>IAH</td>\n",
       "      <td>GPT</td>\n",
       "      <td>False</td>\n",
       "      <td>False</td>\n",
       "      <td>1435</td>\n",
       "      <td>1430.0</td>\n",
       "      <td>0.0</td>\n",
       "      <td>-5.0</td>\n",
       "      <td>...</td>\n",
       "      <td>1446.0</td>\n",
       "      <td>1543.0</td>\n",
       "      <td>4.0</td>\n",
       "      <td>1605</td>\n",
       "      <td>-18.0</td>\n",
       "      <td>0.0</td>\n",
       "      <td>-2.0</td>\n",
       "      <td>1600-1659</td>\n",
       "      <td>2</td>\n",
       "      <td>0</td>\n",
       "    </tr>\n",
       "    <tr>\n",
       "      <th>4</th>\n",
       "      <td>2022-04-04</td>\n",
       "      <td>Commutair Aka Champlain Enterprises, Inc.</td>\n",
       "      <td>DRO</td>\n",
       "      <td>DEN</td>\n",
       "      <td>False</td>\n",
       "      <td>False</td>\n",
       "      <td>1135</td>\n",
       "      <td>1135.0</td>\n",
       "      <td>0.0</td>\n",
       "      <td>0.0</td>\n",
       "      <td>...</td>\n",
       "      <td>1154.0</td>\n",
       "      <td>1243.0</td>\n",
       "      <td>8.0</td>\n",
       "      <td>1245</td>\n",
       "      <td>6.0</td>\n",
       "      <td>0.0</td>\n",
       "      <td>0.0</td>\n",
       "      <td>1200-1259</td>\n",
       "      <td>2</td>\n",
       "      <td>0</td>\n",
       "    </tr>\n",
       "    <tr>\n",
       "      <th>5</th>\n",
       "      <td>2022-04-04</td>\n",
       "      <td>Commutair Aka Champlain Enterprises, Inc.</td>\n",
       "      <td>DEN</td>\n",
       "      <td>TUL</td>\n",
       "      <td>False</td>\n",
       "      <td>False</td>\n",
       "      <td>955</td>\n",
       "      <td>952.0</td>\n",
       "      <td>0.0</td>\n",
       "      <td>-3.0</td>\n",
       "      <td>...</td>\n",
       "      <td>1017.0</td>\n",
       "      <td>1234.0</td>\n",
       "      <td>4.0</td>\n",
       "      <td>1240</td>\n",
       "      <td>-2.0</td>\n",
       "      <td>0.0</td>\n",
       "      <td>-1.0</td>\n",
       "      <td>1200-1259</td>\n",
       "      <td>3</td>\n",
       "      <td>0</td>\n",
       "    </tr>\n",
       "    <tr>\n",
       "      <th>6</th>\n",
       "      <td>2022-04-04</td>\n",
       "      <td>Commutair Aka Champlain Enterprises, Inc.</td>\n",
       "      <td>IAH</td>\n",
       "      <td>LCH</td>\n",
       "      <td>False</td>\n",
       "      <td>False</td>\n",
       "      <td>2139</td>\n",
       "      <td>2136.0</td>\n",
       "      <td>0.0</td>\n",
       "      <td>-3.0</td>\n",
       "      <td>...</td>\n",
       "      <td>2147.0</td>\n",
       "      <td>2213.0</td>\n",
       "      <td>5.0</td>\n",
       "      <td>2231</td>\n",
       "      <td>-13.0</td>\n",
       "      <td>0.0</td>\n",
       "      <td>-1.0</td>\n",
       "      <td>2200-2259</td>\n",
       "      <td>1</td>\n",
       "      <td>0</td>\n",
       "    </tr>\n",
       "    <tr>\n",
       "      <th>7</th>\n",
       "      <td>2022-04-04</td>\n",
       "      <td>Commutair Aka Champlain Enterprises, Inc.</td>\n",
       "      <td>TYS</td>\n",
       "      <td>IAH</td>\n",
       "      <td>False</td>\n",
       "      <td>False</td>\n",
       "      <td>1129</td>\n",
       "      <td>1117.0</td>\n",
       "      <td>0.0</td>\n",
       "      <td>-12.0</td>\n",
       "      <td>...</td>\n",
       "      <td>1139.0</td>\n",
       "      <td>1255.0</td>\n",
       "      <td>16.0</td>\n",
       "      <td>1306</td>\n",
       "      <td>5.0</td>\n",
       "      <td>0.0</td>\n",
       "      <td>0.0</td>\n",
       "      <td>1300-1359</td>\n",
       "      <td>4</td>\n",
       "      <td>0</td>\n",
       "    </tr>\n",
       "    <tr>\n",
       "      <th>8</th>\n",
       "      <td>2022-04-04</td>\n",
       "      <td>Commutair Aka Champlain Enterprises, Inc.</td>\n",
       "      <td>IAH</td>\n",
       "      <td>AEX</td>\n",
       "      <td>False</td>\n",
       "      <td>False</td>\n",
       "      <td>1424</td>\n",
       "      <td>1414.0</td>\n",
       "      <td>0.0</td>\n",
       "      <td>-10.0</td>\n",
       "      <td>...</td>\n",
       "      <td>1430.0</td>\n",
       "      <td>1507.0</td>\n",
       "      <td>6.0</td>\n",
       "      <td>1524</td>\n",
       "      <td>-11.0</td>\n",
       "      <td>0.0</td>\n",
       "      <td>-1.0</td>\n",
       "      <td>1500-1559</td>\n",
       "      <td>1</td>\n",
       "      <td>0</td>\n",
       "    </tr>\n",
       "    <tr>\n",
       "      <th>9</th>\n",
       "      <td>2022-04-04</td>\n",
       "      <td>Commutair Aka Champlain Enterprises, Inc.</td>\n",
       "      <td>IAH</td>\n",
       "      <td>MOB</td>\n",
       "      <td>False</td>\n",
       "      <td>False</td>\n",
       "      <td>954</td>\n",
       "      <td>947.0</td>\n",
       "      <td>0.0</td>\n",
       "      <td>-7.0</td>\n",
       "      <td>...</td>\n",
       "      <td>1004.0</td>\n",
       "      <td>1104.0</td>\n",
       "      <td>6.0</td>\n",
       "      <td>1121</td>\n",
       "      <td>-11.0</td>\n",
       "      <td>0.0</td>\n",
       "      <td>-1.0</td>\n",
       "      <td>1100-1159</td>\n",
       "      <td>2</td>\n",
       "      <td>0</td>\n",
       "    </tr>\n",
       "  </tbody>\n",
       "</table>\n",
       "<p>10 rows × 61 columns</p>\n",
       "</div>"
      ],
      "text/plain": [
       "   FlightDate                                    Airline Origin Dest  \\\n",
       "0  2022-04-04  Commutair Aka Champlain Enterprises, Inc.    GJT  DEN   \n",
       "1  2022-04-04  Commutair Aka Champlain Enterprises, Inc.    HRL  IAH   \n",
       "2  2022-04-04  Commutair Aka Champlain Enterprises, Inc.    DRO  DEN   \n",
       "3  2022-04-04  Commutair Aka Champlain Enterprises, Inc.    IAH  GPT   \n",
       "4  2022-04-04  Commutair Aka Champlain Enterprises, Inc.    DRO  DEN   \n",
       "5  2022-04-04  Commutair Aka Champlain Enterprises, Inc.    DEN  TUL   \n",
       "6  2022-04-04  Commutair Aka Champlain Enterprises, Inc.    IAH  LCH   \n",
       "7  2022-04-04  Commutair Aka Champlain Enterprises, Inc.    TYS  IAH   \n",
       "8  2022-04-04  Commutair Aka Champlain Enterprises, Inc.    IAH  AEX   \n",
       "9  2022-04-04  Commutair Aka Champlain Enterprises, Inc.    IAH  MOB   \n",
       "\n",
       "   Cancelled  Diverted  CRSDepTime  DepTime  DepDelayMinutes  DepDelay  ...  \\\n",
       "0      False     False        1133   1123.0              0.0     -10.0  ...   \n",
       "1      False     False         732    728.0              0.0      -4.0  ...   \n",
       "2      False     False        1529   1514.0              0.0     -15.0  ...   \n",
       "3      False     False        1435   1430.0              0.0      -5.0  ...   \n",
       "4      False     False        1135   1135.0              0.0       0.0  ...   \n",
       "5      False     False         955    952.0              0.0      -3.0  ...   \n",
       "6      False     False        2139   2136.0              0.0      -3.0  ...   \n",
       "7      False     False        1129   1117.0              0.0     -12.0  ...   \n",
       "8      False     False        1424   1414.0              0.0     -10.0  ...   \n",
       "9      False     False         954    947.0              0.0      -7.0  ...   \n",
       "\n",
       "   WheelsOff  WheelsOn  TaxiIn  CRSArrTime  ArrDelay  ArrDel15  \\\n",
       "0     1140.0    1220.0     8.0        1245     -17.0       0.0   \n",
       "1      744.0     839.0     9.0         849      -1.0       0.0   \n",
       "2     1535.0    1622.0    14.0        1639      -3.0       0.0   \n",
       "3     1446.0    1543.0     4.0        1605     -18.0       0.0   \n",
       "4     1154.0    1243.0     8.0        1245       6.0       0.0   \n",
       "5     1017.0    1234.0     4.0        1240      -2.0       0.0   \n",
       "6     2147.0    2213.0     5.0        2231     -13.0       0.0   \n",
       "7     1139.0    1255.0    16.0        1306       5.0       0.0   \n",
       "8     1430.0    1507.0     6.0        1524     -11.0       0.0   \n",
       "9     1004.0    1104.0     6.0        1121     -11.0       0.0   \n",
       "\n",
       "   ArrivalDelayGroups  ArrTimeBlk  DistanceGroup  DivAirportLandings  \n",
       "0                -2.0   1200-1259              1                   0  \n",
       "1                -1.0   0800-0859              2                   0  \n",
       "2                -1.0   1600-1659              2                   0  \n",
       "3                -2.0   1600-1659              2                   0  \n",
       "4                 0.0   1200-1259              2                   0  \n",
       "5                -1.0   1200-1259              3                   0  \n",
       "6                -1.0   2200-2259              1                   0  \n",
       "7                 0.0   1300-1359              4                   0  \n",
       "8                -1.0   1500-1559              1                   0  \n",
       "9                -1.0   1100-1159              2                   0  \n",
       "\n",
       "[10 rows x 61 columns]"
      ]
     },
     "execution_count": 51,
     "metadata": {},
     "output_type": "execute_result"
    }
   ],
   "source": [
    "# Specify the path to your compressed folder and the CSV file inside\n",
    "compressed_folder_path = 'Combined_Flights_2022.zip'\n",
    "csv_file_name = 'Combined_Flights_2022.csv'\n",
    "\n",
    "# Extract the contents of the ZIP file\n",
    "with zipfile.ZipFile(compressed_folder_path, 'r') as zip_ref:\n",
    "    zip_ref.extractall('path/to/extracted/folder')\n",
    "\n",
    "# Create the full path to the extracted CSV file\n",
    "csv_file_path = f'path/to/extracted/folder/{csv_file_name}'\n",
    "\n",
    "# Read the CSV file using pandas\n",
    "df = pd.read_csv(csv_file_path)\n",
    "#df = pd.read_csv('Combined_Flights_2022.csv')\n",
    "df.head(10)"
   ]
  },
  {
   "cell_type": "markdown",
   "id": "33eb55ec",
   "metadata": {},
   "source": [
    "<!DOCTYPE html>\n",
    "<html lang=\"en\">\n",
    "<head>\n",
    "    <meta charset=\"UTF-8\">\n",
    "    <meta name=\"viewport\" content=\"width=device-width, initial-scale=1.0\">\n",
    "    <title>Extracting and Reading a CSV File from a ZIP Archive</title>\n",
    "</head>\n",
    "<body>\n",
    "    <header>\n",
    "        <h1>Exploring the columns </h1>\n",
    "    </header>\n",
    "    <ul>\n",
    "    <li>Number of columns show us the features of our dataset</li>\n",
    "    </ul>\n",
    "</body>\n",
    "</html>\n"
   ]
  },
  {
   "cell_type": "code",
   "execution_count": 52,
   "id": "1b6878c7",
   "metadata": {
    "ExecuteTime": {
     "end_time": "2024-03-22T01:59:41.659150400Z",
     "start_time": "2024-03-22T01:59:41.606550400Z"
    }
   },
   "outputs": [
    {
     "data": {
      "text/plain": [
       "61"
      ]
     },
     "execution_count": 52,
     "metadata": {},
     "output_type": "execute_result"
    }
   ],
   "source": [
    "columns = df.columns\n",
    "len(columns)"
   ]
  },
  {
   "cell_type": "code",
   "execution_count": 53,
   "id": "dc5d0a64",
   "metadata": {
    "ExecuteTime": {
     "end_time": "2024-03-22T01:59:41.677191500Z",
     "start_time": "2024-03-22T01:59:41.621071100Z"
    }
   },
   "outputs": [
    {
     "data": {
      "text/plain": [
       "Index(['FlightDate', 'Airline', 'Origin', 'Dest', 'Cancelled', 'Diverted',\n",
       "       'CRSDepTime', 'DepTime', 'DepDelayMinutes', 'DepDelay', 'ArrTime',\n",
       "       'ArrDelayMinutes', 'AirTime', 'CRSElapsedTime', 'ActualElapsedTime',\n",
       "       'Distance', 'Year', 'Quarter', 'Month', 'DayofMonth', 'DayOfWeek',\n",
       "       'Marketing_Airline_Network', 'Operated_or_Branded_Code_Share_Partners',\n",
       "       'DOT_ID_Marketing_Airline', 'IATA_Code_Marketing_Airline',\n",
       "       'Flight_Number_Marketing_Airline', 'Operating_Airline',\n",
       "       'DOT_ID_Operating_Airline', 'IATA_Code_Operating_Airline',\n",
       "       'Tail_Number', 'Flight_Number_Operating_Airline', 'OriginAirportID',\n",
       "       'OriginAirportSeqID', 'OriginCityMarketID', 'OriginCityName',\n",
       "       'OriginState', 'OriginStateFips', 'OriginStateName', 'OriginWac',\n",
       "       'DestAirportID', 'DestAirportSeqID', 'DestCityMarketID', 'DestCityName',\n",
       "       'DestState', 'DestStateFips', 'DestStateName', 'DestWac', 'DepDel15',\n",
       "       'DepartureDelayGroups', 'DepTimeBlk', 'TaxiOut', 'WheelsOff',\n",
       "       'WheelsOn', 'TaxiIn', 'CRSArrTime', 'ArrDelay', 'ArrDel15',\n",
       "       'ArrivalDelayGroups', 'ArrTimeBlk', 'DistanceGroup',\n",
       "       'DivAirportLandings'],\n",
       "      dtype='object')"
      ]
     },
     "execution_count": 53,
     "metadata": {},
     "output_type": "execute_result"
    }
   ],
   "source": [
    "columns"
   ]
  },
  {
   "cell_type": "code",
   "execution_count": 54,
   "id": "79014932",
   "metadata": {},
   "outputs": [
    {
     "data": {
      "text/plain": [
       "<bound method DataFrame.info of          FlightDate                                    Airline Origin Dest  \\\n",
       "0        2022-04-04  Commutair Aka Champlain Enterprises, Inc.    GJT  DEN   \n",
       "1        2022-04-04  Commutair Aka Champlain Enterprises, Inc.    HRL  IAH   \n",
       "2        2022-04-04  Commutair Aka Champlain Enterprises, Inc.    DRO  DEN   \n",
       "3        2022-04-04  Commutair Aka Champlain Enterprises, Inc.    IAH  GPT   \n",
       "4        2022-04-04  Commutair Aka Champlain Enterprises, Inc.    DRO  DEN   \n",
       "...             ...                                        ...    ...  ...   \n",
       "4078313  2022-03-31                          Republic Airlines    MSY  EWR   \n",
       "4078314  2022-03-17                          Republic Airlines    CLT  EWR   \n",
       "4078315  2022-03-08                          Republic Airlines    ALB  ORD   \n",
       "4078316  2022-03-25                          Republic Airlines    EWR  PIT   \n",
       "4078317  2022-03-07                          Republic Airlines    EWR  RDU   \n",
       "\n",
       "         Cancelled  Diverted  CRSDepTime  DepTime  DepDelayMinutes  DepDelay  \\\n",
       "0            False     False        1133   1123.0              0.0     -10.0   \n",
       "1            False     False         732    728.0              0.0      -4.0   \n",
       "2            False     False        1529   1514.0              0.0     -15.0   \n",
       "3            False     False        1435   1430.0              0.0      -5.0   \n",
       "4            False     False        1135   1135.0              0.0       0.0   \n",
       "...            ...       ...         ...      ...              ...       ...   \n",
       "4078313      False      True        1949   2014.0             25.0      25.0   \n",
       "4078314       True     False        1733   1817.0             44.0      44.0   \n",
       "4078315      False     False        1700   2318.0            378.0     378.0   \n",
       "4078316      False      True        2129   2322.0            113.0     113.0   \n",
       "4078317      False      True        1154   1148.0              0.0      -6.0   \n",
       "\n",
       "         ...  WheelsOff  WheelsOn  TaxiIn  CRSArrTime  ArrDelay  ArrDel15  \\\n",
       "0        ...     1140.0    1220.0     8.0        1245     -17.0       0.0   \n",
       "1        ...      744.0     839.0     9.0         849      -1.0       0.0   \n",
       "2        ...     1535.0    1622.0    14.0        1639      -3.0       0.0   \n",
       "3        ...     1446.0    1543.0     4.0        1605     -18.0       0.0   \n",
       "4        ...     1154.0    1243.0     8.0        1245       6.0       0.0   \n",
       "...      ...        ...       ...     ...         ...       ...       ...   \n",
       "4078313  ...     2031.0     202.0    32.0        2354       NaN       NaN   \n",
       "4078314  ...        NaN       NaN     NaN        1942       NaN       NaN   \n",
       "4078315  ...     2337.0      52.0     7.0        1838     381.0       1.0   \n",
       "4078316  ...     2347.0     933.0     6.0        2255       NaN       NaN   \n",
       "4078317  ...     1201.0    1552.0     4.0        1333       NaN       NaN   \n",
       "\n",
       "         ArrivalDelayGroups  ArrTimeBlk  DistanceGroup  DivAirportLandings  \n",
       "0                      -2.0   1200-1259              1                   0  \n",
       "1                      -1.0   0800-0859              2                   0  \n",
       "2                      -1.0   1600-1659              2                   0  \n",
       "3                      -2.0   1600-1659              2                   0  \n",
       "4                       0.0   1200-1259              2                   0  \n",
       "...                     ...         ...            ...                 ...  \n",
       "4078313                 NaN   2300-2359              5                   1  \n",
       "4078314                 NaN   1900-1959              3                   0  \n",
       "4078315                12.0   1800-1859              3                   0  \n",
       "4078316                 NaN   2200-2259              2                   1  \n",
       "4078317                 NaN   1300-1359              2                   1  \n",
       "\n",
       "[4078318 rows x 61 columns]>"
      ]
     },
     "execution_count": 54,
     "metadata": {},
     "output_type": "execute_result"
    }
   ],
   "source": [
    "# Getting info about the dataset\n",
    "df.info"
   ]
  },
  {
   "cell_type": "markdown",
   "id": "a4e686b0",
   "metadata": {},
   "source": [
    "# Number of Rows"
   ]
  },
  {
   "cell_type": "code",
   "execution_count": 55,
   "id": "123a8787",
   "metadata": {
    "ExecuteTime": {
     "end_time": "2024-03-22T01:59:41.739796600Z",
     "start_time": "2024-03-22T01:59:41.636106600Z"
    }
   },
   "outputs": [
    {
     "data": {
      "text/plain": [
       "4078318"
      ]
     },
     "execution_count": 55,
     "metadata": {},
     "output_type": "execute_result"
    }
   ],
   "source": [
    "# total no of rows in the dataset\n",
    "len(df.index)"
   ]
  },
  {
   "cell_type": "markdown",
   "id": "e9c46eb5",
   "metadata": {},
   "source": [
    "<!DOCTYPE html>\n",
    "<html lang=\"en\">\n",
    "<head>\n",
    "    <meta charset=\"UTF-8\">\n",
    "    <meta name=\"viewport\" content=\"width=device-width, initial-scale=1.0\">\n",
    "    <title>Rows</title>\n",
    "</head>\n",
    "<body>\n",
    "    <header>\n",
    "        <h1>Exploring the rows </h1>\n",
    "    </header>\n",
    "    <ul>\n",
    "    <li>Number of rows show us the samples of our dataset</li>\n",
    "    <li>For example : Origin is the one of the features and the different cities in which the airport is located , these are our samples. </li>\n",
    "    </ul>\n",
    "</body>\n",
    "</html> \n"
   ]
  },
  {
   "cell_type": "code",
   "execution_count": 56,
   "id": "a0726b2f",
   "metadata": {
    "ExecuteTime": {
     "end_time": "2024-03-22T01:59:42.006671400Z",
     "start_time": "2024-03-22T01:59:41.769342500Z"
    }
   },
   "outputs": [
    {
     "data": {
      "text/plain": [
       "array(['GJT', 'HRL', 'DRO', 'IAH', 'DEN', 'TYS', 'MOB', 'LNK', 'BHM',\n",
       "       'IAD', 'ECP', 'AEX', 'LFT', 'BTR', 'ABQ', 'BUF', 'ALB', 'HSV',\n",
       "       'TUL', 'CPR', 'CRP', 'EWR', 'DCA', 'STL', 'CVG', 'RIC', 'PVD',\n",
       "       'CLT', 'GSO', 'ERI', 'ORD', 'LEX', 'ABE', 'CAK', 'AVL', 'DAY',\n",
       "       'CHO', 'ROA', 'PWM', 'LIT', 'MKE', 'BTV', 'OMA', 'GRB', 'MLI',\n",
       "       'SDF', 'FNT', 'CHS', 'PIT', 'TVC', 'ATW', 'DLH', 'ROC', 'SPI',\n",
       "       'HPN', 'MBS', 'CID', 'MYR', 'CAE', 'SGF', 'AVP', 'GRR', 'DSM',\n",
       "       'CLE', 'PIA', 'MSN', 'MDT', 'SBN', 'MEM', 'ICT', 'SHV', 'XNA',\n",
       "       'DIK', 'GPT', 'PNS', 'LRD', 'LCH', 'MFE', 'FLG', 'BRO', 'SAF',\n",
       "       'PQI', 'ORF', 'LGA', 'SYR', 'RDU', 'ILM', 'IND', 'PHL', 'CMH',\n",
       "       'SCE', 'ITH', 'JAX', 'OKC', 'JAN', 'GSP', 'TXK', 'ELP', 'MAF',\n",
       "       'AUS', 'IDA', 'BNA', 'SAV', 'AMA', 'ATL', 'BDL', 'BLI', 'BOI',\n",
       "       'BOS', 'BUR', 'BWI', 'BZN', 'COS', 'DAL', 'DTW', 'EUG', 'FAT',\n",
       "       'FLL', 'GEG', 'HDN', 'HNL', 'HOU', 'ISP', 'ITO', 'KOA', 'LAS',\n",
       "       'LAX', 'LBB', 'LGB', 'LIH', 'MCI', 'MCO', 'MDW', 'MHT', 'MIA',\n",
       "       'MSP', 'MSY', 'MTJ', 'OAK', 'OGG', 'ONT', 'PBI', 'PDX', 'PHX',\n",
       "       'PSP', 'RNO', 'RSW', 'SAN', 'SAT', 'SBA', 'SEA', 'SFO', 'SJC',\n",
       "       'SJU', 'SLC', 'SMF', 'SNA', 'SRQ', 'TPA', 'TUS', 'VPS', 'DFW',\n",
       "       'HHH', 'BFL', 'FAR', 'YUM', 'MLB', 'FSD', 'MRY', 'BMI', 'RAP',\n",
       "       'DAB', 'FAY', 'GNV', 'MGM', 'STS', 'TLH', 'MFR', 'JFK', 'AGS',\n",
       "       'EYW', 'ORH', 'BGR', 'CHA', 'CRW', 'BQK', 'OAJ', 'LAN', 'AZO',\n",
       "       'DHN', 'TRI', 'BIS', 'VLD', 'ABY', 'GTR', 'MLU', 'MOT', 'RST',\n",
       "       'CWA', 'CSG', 'EVV', 'GFK', 'FWA', 'BGM', 'STT', 'EGE', 'JAC',\n",
       "       'MSO', 'STX', 'GUC', 'PHF', 'PGV', 'ART', 'HTS', 'LYH', 'FLO',\n",
       "       'SBY', 'ADQ', 'ANC', 'BET', 'BRW', 'SCC', 'JNU', 'KTN', 'CDV',\n",
       "       'YAK', 'FAI', 'SIT', 'PSG', 'WRG', 'OME', 'OTZ', 'PAE', 'ADK',\n",
       "       'BQN', 'PSE', 'BIL', 'FCA', 'TTN', 'ILG', 'SWF', 'USA', 'SFB',\n",
       "       'PIE', 'AZA', 'RFD', 'GRI', 'PBG', 'PGD', 'PVU', 'TOL', 'BLV',\n",
       "       'LCK', 'ELM', 'PSM', 'SCK', 'IAG', 'PSC', 'CKB', 'STC', 'HGR',\n",
       "       'OWB', 'SMX', 'GTF', 'RDM', 'OGD', 'PPG', 'GCK', 'ACT', 'ALO',\n",
       "       'LAW', 'GGG', 'COU', 'SPS', 'ABI', 'CMI', 'DRT', 'FSM', 'LSE',\n",
       "       'TYR', 'GRK', 'DBQ', 'BPT', 'MHK', 'SJT', 'SWO', 'MQT', 'SBP',\n",
       "       'CLL', 'ACY', 'LBE', 'EWN', 'ROW', 'SGU', 'ACV', 'ASE', 'XWA',\n",
       "       'HLN', 'OTH', 'SLN', 'LWS', 'HOB', 'HYS', 'ALS', 'CNY', 'RKS',\n",
       "       'DVL', 'JMS', 'PAH', 'PRC', 'RIW', 'BFF', 'DDC', 'SUX', 'CMX',\n",
       "       'MEI', 'JLN', 'EAU', 'GCC', 'SHR', 'TBN', 'FOD', 'LAR', 'VEL',\n",
       "       'OGS', 'PUB', 'VCT', 'DEC', 'CYS', 'LBF', 'JST', 'MCW', 'RDD',\n",
       "       'SHD', 'CGI', 'EAR', 'MKG', 'LWB', 'LBL', 'COD', 'PIB', 'BTM',\n",
       "       'SUN', 'IMT', 'RHI', 'ESC', 'APN', 'ABR', 'PLN', 'INL', 'BRD',\n",
       "       'HIB', 'CIU', 'PIH', 'TWF', 'EKO', 'BJI', 'CDC', 'YKM', 'PUW',\n",
       "       'ALW', 'EAT', 'DLG', 'AKN', 'GUM', 'SPN', 'BIH', 'WYS', 'ACK',\n",
       "       'BKG', 'GST', 'MVY', 'HYA', 'PIR', 'ATY'], dtype=object)"
      ]
     },
     "execution_count": 56,
     "metadata": {},
     "output_type": "execute_result"
    }
   ],
   "source": [
    "# Getting the airport codes \n",
    "origin_airtport_city = df['Origin'].unique()\n",
    "origin_airtport_city"
   ]
  },
  {
   "cell_type": "markdown",
   "id": "aa1e0e04",
   "metadata": {},
   "source": [
    "<!DOCTYPE html>\n",
    "<html lang=\"en\">\n",
    "<head>\n",
    "    <meta charset=\"UTF-8\">\n",
    "    <meta name=\"viewport\" content=\"width=device-width, initial-scale=1.0\">\n",
    "    <title>Rows</title>\n",
    "</head>\n",
    "<body>\n",
    "    <header>\n",
    "        <h1>Exploring different airports </h1>\n",
    "    </header>\n",
    "    <ul>\n",
    "    <li>Busiest airports</li>\n",
    "    <li>Our dataset is very large , so we will be considering only the busiest airports for model training  </li>\n",
    "    </ul>\n",
    "</body>\n",
    "</html> \n"
   ]
  },
  {
   "cell_type": "markdown",
   "id": "652b03af",
   "metadata": {},
   "source": [
    "##### TOP 10 Busiest Airports "
   ]
  },
  {
   "cell_type": "code",
   "execution_count": 57,
   "id": "37d1191e",
   "metadata": {
    "ExecuteTime": {
     "end_time": "2024-03-22T01:59:42.126132200Z",
     "start_time": "2024-03-22T01:59:41.843537800Z"
    }
   },
   "outputs": [
    {
     "data": {
      "text/plain": [
       "Origin\n",
       "ATL    183697\n",
       "ORD    172169\n",
       "DFW    161218\n",
       "DEN    158092\n",
       "CLT    126088\n",
       "LAX    111935\n",
       "LGA    100260\n",
       "SEA     98884\n",
       "LAS     97674\n",
       "PHX     96095\n",
       "Name: count, dtype: int64"
      ]
     },
     "execution_count": 57,
     "metadata": {},
     "output_type": "execute_result"
    }
   ],
   "source": [
    "# Getting the top 10 most busiest airports in USA for 2022\n",
    "busiest_airports = df['Origin'].value_counts().nlargest(10)\n",
    "busiest_airports"
   ]
  },
  {
   "cell_type": "markdown",
   "id": "2647f216",
   "metadata": {},
   "source": [
    "# Busiest Airports visualization"
   ]
  },
  {
   "cell_type": "code",
   "execution_count": 58,
   "id": "705ca389",
   "metadata": {},
   "outputs": [
    {
     "data": {
      "image/png": "[encoded data removed]",
      "text/plain": [
       "<Figure size 1000x600 with 1 Axes>"
      ]
     },
     "metadata": {},
     "output_type": "display_data"
    }
   ],
   "source": [
    "# Create a bar plot\n",
    "plt.figure(figsize=(10, 6))\n",
    "sns.barplot(x=busiest_airports.index, y=busiest_airports.values, palette='viridis')\n",
    "plt.title('Top 10 Busiest Airports in USA (2022)')\n",
    "plt.xlabel('Airport')\n",
    "plt.ylabel('Number of Flights')\n",
    "plt.xticks(rotation=45, ha='right')\n",
    "plt.tight_layout()\n",
    "plt.show()"
   ]
  },
  {
   "cell_type": "markdown",
   "id": "cf822e96",
   "metadata": {},
   "source": [
    "------------------------ EDA Ends Here --------------------------"
   ]
  },
  {
   "cell_type": "code",
   "execution_count": 59,
   "id": "b2b6bd62",
   "metadata": {
    "ExecuteTime": {
     "end_time": "2024-03-22T01:59:42.384885500Z",
     "start_time": "2024-03-22T01:59:42.075280400Z"
    }
   },
   "outputs": [
    {
     "data": {
      "text/html": [
       "<div>\n",
       "<style scoped>\n",
       "    .dataframe tbody tr th:only-of-type {\n",
       "        vertical-align: middle;\n",
       "    }\n",
       "\n",
       "    .dataframe tbody tr th {\n",
       "        vertical-align: top;\n",
       "    }\n",
       "\n",
       "    .dataframe thead th {\n",
       "        text-align: right;\n",
       "    }\n",
       "</style>\n",
       "<table border=\"1\" class=\"dataframe\">\n",
       "  <thead>\n",
       "    <tr style=\"text-align: right;\">\n",
       "      <th></th>\n",
       "      <th>FlightDate</th>\n",
       "      <th>Airline</th>\n",
       "      <th>Origin</th>\n",
       "      <th>Dest</th>\n",
       "      <th>Cancelled</th>\n",
       "      <th>Diverted</th>\n",
       "      <th>CRSDepTime</th>\n",
       "      <th>DepTime</th>\n",
       "      <th>DepDelayMinutes</th>\n",
       "      <th>DepDelay</th>\n",
       "      <th>...</th>\n",
       "      <th>WheelsOff</th>\n",
       "      <th>WheelsOn</th>\n",
       "      <th>TaxiIn</th>\n",
       "      <th>CRSArrTime</th>\n",
       "      <th>ArrDelay</th>\n",
       "      <th>ArrDel15</th>\n",
       "      <th>ArrivalDelayGroups</th>\n",
       "      <th>ArrTimeBlk</th>\n",
       "      <th>DistanceGroup</th>\n",
       "      <th>DivAirportLandings</th>\n",
       "    </tr>\n",
       "  </thead>\n",
       "  <tbody>\n",
       "    <tr>\n",
       "      <th>1855</th>\n",
       "      <td>2022-04-01</td>\n",
       "      <td>Southwest Airlines Co.</td>\n",
       "      <td>ATL</td>\n",
       "      <td>AUS</td>\n",
       "      <td>False</td>\n",
       "      <td>False</td>\n",
       "      <td>820</td>\n",
       "      <td>832.0</td>\n",
       "      <td>12.0</td>\n",
       "      <td>12.0</td>\n",
       "      <td>...</td>\n",
       "      <td>845.0</td>\n",
       "      <td>1000.0</td>\n",
       "      <td>4.0</td>\n",
       "      <td>1000</td>\n",
       "      <td>4.0</td>\n",
       "      <td>0.0</td>\n",
       "      <td>0.0</td>\n",
       "      <td>1000-1059</td>\n",
       "      <td>4</td>\n",
       "      <td>0</td>\n",
       "    </tr>\n",
       "    <tr>\n",
       "      <th>1856</th>\n",
       "      <td>2022-04-01</td>\n",
       "      <td>Southwest Airlines Co.</td>\n",
       "      <td>ATL</td>\n",
       "      <td>AUS</td>\n",
       "      <td>False</td>\n",
       "      <td>False</td>\n",
       "      <td>1440</td>\n",
       "      <td>1505.0</td>\n",
       "      <td>25.0</td>\n",
       "      <td>25.0</td>\n",
       "      <td>...</td>\n",
       "      <td>1516.0</td>\n",
       "      <td>1625.0</td>\n",
       "      <td>7.0</td>\n",
       "      <td>1615</td>\n",
       "      <td>17.0</td>\n",
       "      <td>1.0</td>\n",
       "      <td>1.0</td>\n",
       "      <td>1600-1659</td>\n",
       "      <td>4</td>\n",
       "      <td>0</td>\n",
       "    </tr>\n",
       "    <tr>\n",
       "      <th>1857</th>\n",
       "      <td>2022-04-01</td>\n",
       "      <td>Southwest Airlines Co.</td>\n",
       "      <td>ATL</td>\n",
       "      <td>AUS</td>\n",
       "      <td>False</td>\n",
       "      <td>False</td>\n",
       "      <td>1955</td>\n",
       "      <td>2105.0</td>\n",
       "      <td>70.0</td>\n",
       "      <td>70.0</td>\n",
       "      <td>...</td>\n",
       "      <td>2123.0</td>\n",
       "      <td>2232.0</td>\n",
       "      <td>5.0</td>\n",
       "      <td>2135</td>\n",
       "      <td>62.0</td>\n",
       "      <td>1.0</td>\n",
       "      <td>4.0</td>\n",
       "      <td>2100-2159</td>\n",
       "      <td>4</td>\n",
       "      <td>0</td>\n",
       "    </tr>\n",
       "    <tr>\n",
       "      <th>1858</th>\n",
       "      <td>2022-04-01</td>\n",
       "      <td>Southwest Airlines Co.</td>\n",
       "      <td>ATL</td>\n",
       "      <td>BNA</td>\n",
       "      <td>False</td>\n",
       "      <td>False</td>\n",
       "      <td>1510</td>\n",
       "      <td>1547.0</td>\n",
       "      <td>37.0</td>\n",
       "      <td>37.0</td>\n",
       "      <td>...</td>\n",
       "      <td>1601.0</td>\n",
       "      <td>1539.0</td>\n",
       "      <td>8.0</td>\n",
       "      <td>1510</td>\n",
       "      <td>37.0</td>\n",
       "      <td>1.0</td>\n",
       "      <td>2.0</td>\n",
       "      <td>1500-1559</td>\n",
       "      <td>1</td>\n",
       "      <td>0</td>\n",
       "    </tr>\n",
       "    <tr>\n",
       "      <th>1859</th>\n",
       "      <td>2022-04-01</td>\n",
       "      <td>Southwest Airlines Co.</td>\n",
       "      <td>ATL</td>\n",
       "      <td>BNA</td>\n",
       "      <td>False</td>\n",
       "      <td>False</td>\n",
       "      <td>820</td>\n",
       "      <td>819.0</td>\n",
       "      <td>0.0</td>\n",
       "      <td>-1.0</td>\n",
       "      <td>...</td>\n",
       "      <td>833.0</td>\n",
       "      <td>813.0</td>\n",
       "      <td>5.0</td>\n",
       "      <td>835</td>\n",
       "      <td>-17.0</td>\n",
       "      <td>0.0</td>\n",
       "      <td>-2.0</td>\n",
       "      <td>0800-0859</td>\n",
       "      <td>1</td>\n",
       "      <td>0</td>\n",
       "    </tr>\n",
       "  </tbody>\n",
       "</table>\n",
       "<p>5 rows × 61 columns</p>\n",
       "</div>"
      ],
      "text/plain": [
       "      FlightDate                 Airline Origin Dest  Cancelled  Diverted  \\\n",
       "1855  2022-04-01  Southwest Airlines Co.    ATL  AUS      False     False   \n",
       "1856  2022-04-01  Southwest Airlines Co.    ATL  AUS      False     False   \n",
       "1857  2022-04-01  Southwest Airlines Co.    ATL  AUS      False     False   \n",
       "1858  2022-04-01  Southwest Airlines Co.    ATL  BNA      False     False   \n",
       "1859  2022-04-01  Southwest Airlines Co.    ATL  BNA      False     False   \n",
       "\n",
       "      CRSDepTime  DepTime  DepDelayMinutes  DepDelay  ...  WheelsOff  \\\n",
       "1855         820    832.0             12.0      12.0  ...      845.0   \n",
       "1856        1440   1505.0             25.0      25.0  ...     1516.0   \n",
       "1857        1955   2105.0             70.0      70.0  ...     2123.0   \n",
       "1858        1510   1547.0             37.0      37.0  ...     1601.0   \n",
       "1859         820    819.0              0.0      -1.0  ...      833.0   \n",
       "\n",
       "      WheelsOn  TaxiIn  CRSArrTime  ArrDelay  ArrDel15  ArrivalDelayGroups  \\\n",
       "1855    1000.0     4.0        1000       4.0       0.0                 0.0   \n",
       "1856    1625.0     7.0        1615      17.0       1.0                 1.0   \n",
       "1857    2232.0     5.0        2135      62.0       1.0                 4.0   \n",
       "1858    1539.0     8.0        1510      37.0       1.0                 2.0   \n",
       "1859     813.0     5.0         835     -17.0       0.0                -2.0   \n",
       "\n",
       "      ArrTimeBlk  DistanceGroup  DivAirportLandings  \n",
       "1855   1000-1059              4                   0  \n",
       "1856   1600-1659              4                   0  \n",
       "1857   2100-2159              4                   0  \n",
       "1858   1500-1559              1                   0  \n",
       "1859   0800-0859              1                   0  \n",
       "\n",
       "[5 rows x 61 columns]"
      ]
     },
     "execution_count": 59,
     "metadata": {},
     "output_type": "execute_result"
    }
   ],
   "source": [
    "specific_origin_airport = ['ATL']  # Replace with the airport code you're interested in\n",
    "df_filtered = df[df['Origin'].isin(specific_origin_airport)]\n",
    "df_filtered.head()"
   ]
  },
  {
   "cell_type": "markdown",
   "id": "00c5e18b",
   "metadata": {},
   "source": [
    "## Dropping Unwanted columns\n",
    "\n",
    "These columns represent unique IDs and code which don't provide much value\n",
    "in the training the model and are unrealated to the data analysis."
   ]
  },
  {
   "cell_type": "code",
   "execution_count": 61,
   "id": "eeb6534d",
   "metadata": {
    "ExecuteTime": {
     "end_time": "2024-03-22T01:59:42.481070200Z",
     "start_time": "2024-03-22T01:59:42.375384400Z"
    }
   },
   "outputs": [
    {
     "name": "stdout",
     "output_type": "stream",
     "text": [
      "FlightDate               object\n",
      "Airline                  object\n",
      "Origin                   object\n",
      "Dest                     object\n",
      "Cancelled                  bool\n",
      "Diverted                   bool\n",
      "CRSDepTime                int64\n",
      "DepTime                 float64\n",
      "DepDelayMinutes         float64\n",
      "DepDelay                float64\n",
      "ArrTime                 float64\n",
      "ArrDelayMinutes         float64\n",
      "AirTime                 float64\n",
      "CRSElapsedTime          float64\n",
      "ActualElapsedTime       float64\n",
      "Distance                float64\n",
      "Year                      int64\n",
      "Quarter                   int64\n",
      "Month                     int64\n",
      "DayofMonth                int64\n",
      "DayOfWeek                 int64\n",
      "DepDel15                float64\n",
      "DepartureDelayGroups    float64\n",
      "DepTimeBlk               object\n",
      "TaxiOut                 float64\n",
      "WheelsOff               float64\n",
      "WheelsOn                float64\n",
      "TaxiIn                  float64\n",
      "CRSArrTime                int64\n",
      "ArrDelay                float64\n",
      "ArrDel15                float64\n",
      "ArrivalDelayGroups      float64\n",
      "ArrTimeBlk               object\n",
      "DistanceGroup             int64\n",
      "DivAirportLandings        int64\n",
      "dtype: object\n"
     ]
    }
   ],
   "source": [
    "# List of columns to drop (IDs)\n",
    "id_columns_to_drop = ['DOT_ID_Marketing_Airline', 'DOT_ID_Operating_Airline', 'OriginAirportID',\n",
    "                      'OriginAirportSeqID', 'OriginCityMarketID', 'DestAirportID', 'DestAirportSeqID',\n",
    "                      'DestCityMarketID', 'Flight_Number_Marketing_Airline', 'Flight_Number_Operating_Airline',\n",
    "                      'IATA_Code_Marketing_Airline', 'IATA_Code_Operating_Airline', 'Tail_Number',\n",
    "                      'Marketing_Airline_Network', 'Operated_or_Branded_Code_Share_Partners',\n",
    "                   'OriginCityName', 'OriginState', 'DestCityName', 'DestState',\n",
    "                      'OriginStateName','OriginStateFips','OriginWac'\n",
    "                  ,'DestStateName','DestStateFips','DestWac','Operating_Airline']\n",
    "\n",
    "# Drop ID columns from the DataFrame\n",
    "df_filtered = df_filtered.drop(columns=id_columns_to_drop)\n",
    "\n",
    "# Print data types of the remaining columns\n",
    "print(df_filtered.dtypes)"
   ]
  },
  {
   "cell_type": "markdown",
   "id": "a33aad42",
   "metadata": {},
   "source": [
    "## 4. Prepare the data for Machine Learning algorithms."
   ]
  },
  {
   "cell_type": "markdown",
   "id": "90c180e6",
   "metadata": {},
   "source": [
    "### - Exploring the columns."
   ]
  },
  {
   "cell_type": "code",
   "execution_count": 62,
   "id": "eb99fda0",
   "metadata": {
    "ExecuteTime": {
     "end_time": "2024-03-22T01:59:42.510799300Z",
     "start_time": "2024-03-22T01:59:42.422957700Z"
    }
   },
   "outputs": [
    {
     "data": {
      "text/plain": [
       "35"
      ]
     },
     "execution_count": 62,
     "metadata": {},
     "output_type": "execute_result"
    }
   ],
   "source": [
    "columns = df_filtered.columns\n",
    "len(columns)"
   ]
  },
  {
   "cell_type": "code",
   "execution_count": 63,
   "id": "e4091e64",
   "metadata": {
    "ExecuteTime": {
     "end_time": "2024-03-22T01:59:42.558353600Z",
     "start_time": "2024-03-22T01:59:42.437997900Z"
    }
   },
   "outputs": [
    {
     "data": {
      "text/plain": [
       "183697"
      ]
     },
     "execution_count": 63,
     "metadata": {},
     "output_type": "execute_result"
    }
   ],
   "source": [
    "len(df_filtered.index)"
   ]
  },
  {
   "cell_type": "code",
   "execution_count": 64,
   "id": "d304de13",
   "metadata": {
    "ExecuteTime": {
     "end_time": "2024-03-22T01:59:42.664257200Z",
     "start_time": "2024-03-22T01:59:42.471555600Z"
    }
   },
   "outputs": [
    {
     "data": {
      "text/plain": [
       "14"
      ]
     },
     "execution_count": 64,
     "metadata": {},
     "output_type": "execute_result"
    }
   ],
   "source": [
    "airlines = df_filtered['Airline'].unique()\n",
    "len(airlines)"
   ]
  },
  {
   "cell_type": "code",
   "execution_count": 65,
   "id": "b053978a",
   "metadata": {
    "ExecuteTime": {
     "end_time": "2024-03-22T01:59:42.709906800Z",
     "start_time": "2024-03-22T01:59:42.499610400Z"
    }
   },
   "outputs": [
    {
     "data": {
      "text/plain": [
       "154"
      ]
     },
     "execution_count": 65,
     "metadata": {},
     "output_type": "execute_result"
    }
   ],
   "source": [
    "dest = df_filtered['Dest'].unique()\n",
    "len(dest)"
   ]
  },
  {
   "cell_type": "code",
   "execution_count": 66,
   "id": "6d2e42a7",
   "metadata": {
    "ExecuteTime": {
     "end_time": "2024-03-22T02:12:34.782575700Z",
     "start_time": "2024-03-22T02:12:34.729373700Z"
    }
   },
   "outputs": [
    {
     "data": {
      "text/html": [
       "<div>\n",
       "<style scoped>\n",
       "    .dataframe tbody tr th:only-of-type {\n",
       "        vertical-align: middle;\n",
       "    }\n",
       "\n",
       "    .dataframe tbody tr th {\n",
       "        vertical-align: top;\n",
       "    }\n",
       "\n",
       "    .dataframe thead th {\n",
       "        text-align: right;\n",
       "    }\n",
       "</style>\n",
       "<table border=\"1\" class=\"dataframe\">\n",
       "  <thead>\n",
       "    <tr style=\"text-align: right;\">\n",
       "      <th></th>\n",
       "      <th>DepDelay</th>\n",
       "      <th>DepDelayMinutes</th>\n",
       "      <th>ArrTimeBlk</th>\n",
       "      <th>DepTimeBlk</th>\n",
       "      <th>FlightDate</th>\n",
       "      <th>Origin</th>\n",
       "      <th>Dest</th>\n",
       "      <th>DepartureDelayGroups</th>\n",
       "    </tr>\n",
       "  </thead>\n",
       "  <tbody>\n",
       "    <tr>\n",
       "      <th>1855</th>\n",
       "      <td>12.0</td>\n",
       "      <td>12.0</td>\n",
       "      <td>1000-1059</td>\n",
       "      <td>0800-0859</td>\n",
       "      <td>2022-04-01</td>\n",
       "      <td>ATL</td>\n",
       "      <td>AUS</td>\n",
       "      <td>0.0</td>\n",
       "    </tr>\n",
       "    <tr>\n",
       "      <th>1856</th>\n",
       "      <td>25.0</td>\n",
       "      <td>25.0</td>\n",
       "      <td>1600-1659</td>\n",
       "      <td>1400-1459</td>\n",
       "      <td>2022-04-01</td>\n",
       "      <td>ATL</td>\n",
       "      <td>AUS</td>\n",
       "      <td>1.0</td>\n",
       "    </tr>\n",
       "    <tr>\n",
       "      <th>1857</th>\n",
       "      <td>70.0</td>\n",
       "      <td>70.0</td>\n",
       "      <td>2100-2159</td>\n",
       "      <td>1900-1959</td>\n",
       "      <td>2022-04-01</td>\n",
       "      <td>ATL</td>\n",
       "      <td>AUS</td>\n",
       "      <td>4.0</td>\n",
       "    </tr>\n",
       "    <tr>\n",
       "      <th>1858</th>\n",
       "      <td>37.0</td>\n",
       "      <td>37.0</td>\n",
       "      <td>1500-1559</td>\n",
       "      <td>1500-1559</td>\n",
       "      <td>2022-04-01</td>\n",
       "      <td>ATL</td>\n",
       "      <td>BNA</td>\n",
       "      <td>2.0</td>\n",
       "    </tr>\n",
       "    <tr>\n",
       "      <th>1859</th>\n",
       "      <td>-1.0</td>\n",
       "      <td>0.0</td>\n",
       "      <td>0800-0859</td>\n",
       "      <td>0800-0859</td>\n",
       "      <td>2022-04-01</td>\n",
       "      <td>ATL</td>\n",
       "      <td>BNA</td>\n",
       "      <td>-1.0</td>\n",
       "    </tr>\n",
       "    <tr>\n",
       "      <th>...</th>\n",
       "      <td>...</td>\n",
       "      <td>...</td>\n",
       "      <td>...</td>\n",
       "      <td>...</td>\n",
       "      <td>...</td>\n",
       "      <td>...</td>\n",
       "      <td>...</td>\n",
       "      <td>...</td>\n",
       "    </tr>\n",
       "    <tr>\n",
       "      <th>4077926</th>\n",
       "      <td>11.0</td>\n",
       "      <td>11.0</td>\n",
       "      <td>2100-2159</td>\n",
       "      <td>1900-1959</td>\n",
       "      <td>2022-03-31</td>\n",
       "      <td>ATL</td>\n",
       "      <td>IAD</td>\n",
       "      <td>0.0</td>\n",
       "    </tr>\n",
       "    <tr>\n",
       "      <th>4077960</th>\n",
       "      <td>35.0</td>\n",
       "      <td>35.0</td>\n",
       "      <td>2200-2259</td>\n",
       "      <td>1900-1959</td>\n",
       "      <td>2022-03-31</td>\n",
       "      <td>ATL</td>\n",
       "      <td>EWR</td>\n",
       "      <td>2.0</td>\n",
       "    </tr>\n",
       "    <tr>\n",
       "      <th>4078230</th>\n",
       "      <td>29.0</td>\n",
       "      <td>29.0</td>\n",
       "      <td>2200-2259</td>\n",
       "      <td>1900-1959</td>\n",
       "      <td>2022-03-24</td>\n",
       "      <td>ATL</td>\n",
       "      <td>EWR</td>\n",
       "      <td>1.0</td>\n",
       "    </tr>\n",
       "    <tr>\n",
       "      <th>4078259</th>\n",
       "      <td>149.0</td>\n",
       "      <td>149.0</td>\n",
       "      <td>1900-1959</td>\n",
       "      <td>1700-1759</td>\n",
       "      <td>2022-03-13</td>\n",
       "      <td>ATL</td>\n",
       "      <td>EWR</td>\n",
       "      <td>9.0</td>\n",
       "    </tr>\n",
       "    <tr>\n",
       "      <th>4078304</th>\n",
       "      <td>-4.0</td>\n",
       "      <td>0.0</td>\n",
       "      <td>1400-1459</td>\n",
       "      <td>1200-1259</td>\n",
       "      <td>2022-03-31</td>\n",
       "      <td>ATL</td>\n",
       "      <td>EWR</td>\n",
       "      <td>-1.0</td>\n",
       "    </tr>\n",
       "  </tbody>\n",
       "</table>\n",
       "<p>183697 rows × 8 columns</p>\n",
       "</div>"
      ],
      "text/plain": [
       "         DepDelay  DepDelayMinutes ArrTimeBlk DepTimeBlk  FlightDate Origin  \\\n",
       "1855         12.0             12.0  1000-1059  0800-0859  2022-04-01    ATL   \n",
       "1856         25.0             25.0  1600-1659  1400-1459  2022-04-01    ATL   \n",
       "1857         70.0             70.0  2100-2159  1900-1959  2022-04-01    ATL   \n",
       "1858         37.0             37.0  1500-1559  1500-1559  2022-04-01    ATL   \n",
       "1859         -1.0              0.0  0800-0859  0800-0859  2022-04-01    ATL   \n",
       "...           ...              ...        ...        ...         ...    ...   \n",
       "4077926      11.0             11.0  2100-2159  1900-1959  2022-03-31    ATL   \n",
       "4077960      35.0             35.0  2200-2259  1900-1959  2022-03-31    ATL   \n",
       "4078230      29.0             29.0  2200-2259  1900-1959  2022-03-24    ATL   \n",
       "4078259     149.0            149.0  1900-1959  1700-1759  2022-03-13    ATL   \n",
       "4078304      -4.0              0.0  1400-1459  1200-1259  2022-03-31    ATL   \n",
       "\n",
       "        Dest  DepartureDelayGroups  \n",
       "1855     AUS                   0.0  \n",
       "1856     AUS                   1.0  \n",
       "1857     AUS                   4.0  \n",
       "1858     BNA                   2.0  \n",
       "1859     BNA                  -1.0  \n",
       "...      ...                   ...  \n",
       "4077926  IAD                   0.0  \n",
       "4077960  EWR                   2.0  \n",
       "4078230  EWR                   1.0  \n",
       "4078259  EWR                   9.0  \n",
       "4078304  EWR                  -1.0  \n",
       "\n",
       "[183697 rows x 8 columns]"
      ]
     },
     "execution_count": 66,
     "metadata": {},
     "output_type": "execute_result"
    }
   ],
   "source": [
    "df_filtered[['DepDelay','DepDelayMinutes','ArrTimeBlk','DepTimeBlk','FlightDate','Origin','Dest','DepartureDelayGroups']]"
   ]
  },
  {
   "cell_type": "markdown",
   "id": "d32b967b",
   "metadata": {},
   "source": [
    "# We can observe follwing - \n",
    "1. There are 20 unique airlines taking off from our list of airports. This information is required in model training.\n",
    "2. There are 300 destination.\n",
    "3. ArrTimeBlk and DepTimeBlk columns are represent hourly intervals so we will take into consideration the starting period of the hour\n",
    "for example - '1000-1059' we will on consider '10' hours.\n",
    "4. The columns representing _Delay and _DelayMinutes represent same things but have slight differnce in handling early departures and early arrivals, for our model we need to check by using both columns separately and compare which contributes to more accurate models.\n",
    "5. Origin column will be dropped cause its redundant for us.\n",
    "6. We will also drop the year and quarter columns, the  main reason for that is we are taking data from year 2022.\n",
    "7. We need to convert the columns reperesenting time in 'hhmm' format using sine and cosine function to capture their cyclical nature,\n",
    "if we don't do so then the machine learning algorithms will plot time as discrete form which is not the case.\n",
    "8. As we are predicting arrival delay in 15 minute intervals we need not use 'Dest','DepDelay','ArrDelay','Quarter', as they do not produce any relation to 'ArrDel15'.\n"
   ]
  },
  {
   "cell_type": "markdown",
   "id": "9845eef9",
   "metadata": {},
   "source": [
    "### - Dropping the uneccesary columns"
   ]
  },
  {
   "cell_type": "code",
   "execution_count": 67,
   "id": "66ab6e49",
   "metadata": {
    "ExecuteTime": {
     "end_time": "2024-03-22T02:13:16.611071Z",
     "start_time": "2024-03-22T02:13:16.554588500Z"
    }
   },
   "outputs": [
    {
     "name": "stdout",
     "output_type": "stream",
     "text": [
      "Airline                  object\n",
      "Cancelled                  bool\n",
      "Diverted                   bool\n",
      "CRSDepTime                int64\n",
      "DepTime                 float64\n",
      "DepDelayMinutes         float64\n",
      "ArrTime                 float64\n",
      "ArrDelayMinutes         float64\n",
      "AirTime                 float64\n",
      "CRSElapsedTime          float64\n",
      "ActualElapsedTime       float64\n",
      "Distance                float64\n",
      "Month                     int64\n",
      "DayofMonth                int64\n",
      "DayOfWeek                 int64\n",
      "DepDel15                float64\n",
      "DepartureDelayGroups    float64\n",
      "DepTimeBlk               object\n",
      "TaxiOut                 float64\n",
      "WheelsOff               float64\n",
      "WheelsOn                float64\n",
      "TaxiIn                  float64\n",
      "CRSArrTime                int64\n",
      "ArrDel15                float64\n",
      "ArrivalDelayGroups      float64\n",
      "ArrTimeBlk               object\n",
      "DistanceGroup             int64\n",
      "DivAirportLandings        int64\n",
      "dtype: object\n"
     ]
    }
   ],
   "source": [
    "# dropping columns that are not useful for model training.\n",
    "# Initially we will drop the ArrDelay and DepDelay for the first run\n",
    "list_cols_drop_ml = ['FlightDate','Year','Dest', 'DepDelay','ArrDelay','Quarter', 'Origin']\n",
    "df_filtered = df_filtered.drop(columns=list_cols_drop_ml)\n",
    "print(df_filtered.dtypes)\n",
    "\n"
   ]
  },
  {
   "cell_type": "markdown",
   "id": "38d2b0b8",
   "metadata": {},
   "source": [
    "Further we can only consider the columns that are directly contribute to the factors leading to delay in departures."
   ]
  },
  {
   "cell_type": "code",
   "execution_count": 68,
   "id": "b47448eb",
   "metadata": {},
   "outputs": [],
   "source": [
    "columns_to_keep = [\n",
    "    'TaxiIn', 'TaxiOut','ArrDel15','DepDel15','DayofMonth','Month',\n",
    "    'DepTime' ,'WheelsOff', 'WheelsOn', 'Distance','CRSDepTime','CRSArrTime',\n",
    "     'Airline','AirTime'\n",
    "]\n",
    "\n",
    "df_filtered = df_filtered[columns_to_keep]\n",
    "\n"
   ]
  },
  {
   "cell_type": "code",
   "execution_count": 69,
   "id": "9678453a",
   "metadata": {},
   "outputs": [
    {
     "data": {
      "text/html": [
       "<div>\n",
       "<style scoped>\n",
       "    .dataframe tbody tr th:only-of-type {\n",
       "        vertical-align: middle;\n",
       "    }\n",
       "\n",
       "    .dataframe tbody tr th {\n",
       "        vertical-align: top;\n",
       "    }\n",
       "\n",
       "    .dataframe thead th {\n",
       "        text-align: right;\n",
       "    }\n",
       "</style>\n",
       "<table border=\"1\" class=\"dataframe\">\n",
       "  <thead>\n",
       "    <tr style=\"text-align: right;\">\n",
       "      <th></th>\n",
       "      <th>TaxiIn</th>\n",
       "      <th>TaxiOut</th>\n",
       "      <th>ArrDel15</th>\n",
       "      <th>DepDel15</th>\n",
       "      <th>DayofMonth</th>\n",
       "      <th>Month</th>\n",
       "      <th>DepTime</th>\n",
       "      <th>WheelsOff</th>\n",
       "      <th>WheelsOn</th>\n",
       "      <th>Distance</th>\n",
       "      <th>CRSDepTime</th>\n",
       "      <th>CRSArrTime</th>\n",
       "      <th>Airline</th>\n",
       "      <th>AirTime</th>\n",
       "    </tr>\n",
       "  </thead>\n",
       "  <tbody>\n",
       "    <tr>\n",
       "      <th>1855</th>\n",
       "      <td>4.0</td>\n",
       "      <td>13.0</td>\n",
       "      <td>0.0</td>\n",
       "      <td>0.0</td>\n",
       "      <td>1</td>\n",
       "      <td>4</td>\n",
       "      <td>832.0</td>\n",
       "      <td>845.0</td>\n",
       "      <td>1000.0</td>\n",
       "      <td>813.0</td>\n",
       "      <td>820</td>\n",
       "      <td>1000</td>\n",
       "      <td>Southwest Airlines Co.</td>\n",
       "      <td>135.0</td>\n",
       "    </tr>\n",
       "    <tr>\n",
       "      <th>1856</th>\n",
       "      <td>7.0</td>\n",
       "      <td>11.0</td>\n",
       "      <td>1.0</td>\n",
       "      <td>1.0</td>\n",
       "      <td>1</td>\n",
       "      <td>4</td>\n",
       "      <td>1505.0</td>\n",
       "      <td>1516.0</td>\n",
       "      <td>1625.0</td>\n",
       "      <td>813.0</td>\n",
       "      <td>1440</td>\n",
       "      <td>1615</td>\n",
       "      <td>Southwest Airlines Co.</td>\n",
       "      <td>129.0</td>\n",
       "    </tr>\n",
       "    <tr>\n",
       "      <th>1857</th>\n",
       "      <td>5.0</td>\n",
       "      <td>18.0</td>\n",
       "      <td>1.0</td>\n",
       "      <td>1.0</td>\n",
       "      <td>1</td>\n",
       "      <td>4</td>\n",
       "      <td>2105.0</td>\n",
       "      <td>2123.0</td>\n",
       "      <td>2232.0</td>\n",
       "      <td>813.0</td>\n",
       "      <td>1955</td>\n",
       "      <td>2135</td>\n",
       "      <td>Southwest Airlines Co.</td>\n",
       "      <td>129.0</td>\n",
       "    </tr>\n",
       "    <tr>\n",
       "      <th>1858</th>\n",
       "      <td>8.0</td>\n",
       "      <td>14.0</td>\n",
       "      <td>1.0</td>\n",
       "      <td>1.0</td>\n",
       "      <td>1</td>\n",
       "      <td>4</td>\n",
       "      <td>1547.0</td>\n",
       "      <td>1601.0</td>\n",
       "      <td>1539.0</td>\n",
       "      <td>214.0</td>\n",
       "      <td>1510</td>\n",
       "      <td>1510</td>\n",
       "      <td>Southwest Airlines Co.</td>\n",
       "      <td>38.0</td>\n",
       "    </tr>\n",
       "    <tr>\n",
       "      <th>1859</th>\n",
       "      <td>5.0</td>\n",
       "      <td>14.0</td>\n",
       "      <td>0.0</td>\n",
       "      <td>0.0</td>\n",
       "      <td>1</td>\n",
       "      <td>4</td>\n",
       "      <td>819.0</td>\n",
       "      <td>833.0</td>\n",
       "      <td>813.0</td>\n",
       "      <td>214.0</td>\n",
       "      <td>820</td>\n",
       "      <td>835</td>\n",
       "      <td>Southwest Airlines Co.</td>\n",
       "      <td>40.0</td>\n",
       "    </tr>\n",
       "  </tbody>\n",
       "</table>\n",
       "</div>"
      ],
      "text/plain": [
       "      TaxiIn  TaxiOut  ArrDel15  DepDel15  DayofMonth  Month  DepTime  \\\n",
       "1855     4.0     13.0       0.0       0.0           1      4    832.0   \n",
       "1856     7.0     11.0       1.0       1.0           1      4   1505.0   \n",
       "1857     5.0     18.0       1.0       1.0           1      4   2105.0   \n",
       "1858     8.0     14.0       1.0       1.0           1      4   1547.0   \n",
       "1859     5.0     14.0       0.0       0.0           1      4    819.0   \n",
       "\n",
       "      WheelsOff  WheelsOn  Distance  CRSDepTime  CRSArrTime  \\\n",
       "1855      845.0    1000.0     813.0         820        1000   \n",
       "1856     1516.0    1625.0     813.0        1440        1615   \n",
       "1857     2123.0    2232.0     813.0        1955        2135   \n",
       "1858     1601.0    1539.0     214.0        1510        1510   \n",
       "1859      833.0     813.0     214.0         820         835   \n",
       "\n",
       "                     Airline  AirTime  \n",
       "1855  Southwest Airlines Co.    135.0  \n",
       "1856  Southwest Airlines Co.    129.0  \n",
       "1857  Southwest Airlines Co.    129.0  \n",
       "1858  Southwest Airlines Co.     38.0  \n",
       "1859  Southwest Airlines Co.     40.0  "
      ]
     },
     "execution_count": 69,
     "metadata": {},
     "output_type": "execute_result"
    }
   ],
   "source": [
    "df_filtered.head()"
   ]
  },
  {
   "cell_type": "code",
   "execution_count": 70,
   "id": "23b67337",
   "metadata": {
    "ExecuteTime": {
     "end_time": "2024-03-22T02:13:31.931363Z",
     "start_time": "2024-03-22T02:13:31.916844600Z"
    }
   },
   "outputs": [
    {
     "name": "stdout",
     "output_type": "stream",
     "text": [
      "Total columns - 14\n"
     ]
    }
   ],
   "source": [
    "columns = df_filtered.columns\n",
    "print('Total columns - ' + str(len(columns)))"
   ]
  },
  {
   "cell_type": "markdown",
   "id": "e52740f5",
   "metadata": {},
   "source": [
    "### - Handling columns with value in 'hhmm' format"
   ]
  },
  {
   "cell_type": "code",
   "execution_count": 71,
   "id": "e2703589",
   "metadata": {
    "ExecuteTime": {
     "end_time": "2024-03-22T02:14:11.246378200Z",
     "start_time": "2024-03-22T02:14:11.208427500Z"
    }
   },
   "outputs": [
    {
     "data": {
      "text/html": [
       "<div>\n",
       "<style scoped>\n",
       "    .dataframe tbody tr th:only-of-type {\n",
       "        vertical-align: middle;\n",
       "    }\n",
       "\n",
       "    .dataframe tbody tr th {\n",
       "        vertical-align: top;\n",
       "    }\n",
       "\n",
       "    .dataframe thead th {\n",
       "        text-align: right;\n",
       "    }\n",
       "</style>\n",
       "<table border=\"1\" class=\"dataframe\">\n",
       "  <thead>\n",
       "    <tr style=\"text-align: right;\">\n",
       "      <th></th>\n",
       "      <th>CRSDepTime</th>\n",
       "      <th>DepTime</th>\n",
       "      <th>CRSArrTime</th>\n",
       "      <th>WheelsOff</th>\n",
       "      <th>WheelsOn</th>\n",
       "    </tr>\n",
       "  </thead>\n",
       "  <tbody>\n",
       "    <tr>\n",
       "      <th>1855</th>\n",
       "      <td>820</td>\n",
       "      <td>832.0</td>\n",
       "      <td>1000</td>\n",
       "      <td>845.0</td>\n",
       "      <td>1000.0</td>\n",
       "    </tr>\n",
       "    <tr>\n",
       "      <th>1856</th>\n",
       "      <td>1440</td>\n",
       "      <td>1505.0</td>\n",
       "      <td>1615</td>\n",
       "      <td>1516.0</td>\n",
       "      <td>1625.0</td>\n",
       "    </tr>\n",
       "    <tr>\n",
       "      <th>1857</th>\n",
       "      <td>1955</td>\n",
       "      <td>2105.0</td>\n",
       "      <td>2135</td>\n",
       "      <td>2123.0</td>\n",
       "      <td>2232.0</td>\n",
       "    </tr>\n",
       "    <tr>\n",
       "      <th>1858</th>\n",
       "      <td>1510</td>\n",
       "      <td>1547.0</td>\n",
       "      <td>1510</td>\n",
       "      <td>1601.0</td>\n",
       "      <td>1539.0</td>\n",
       "    </tr>\n",
       "    <tr>\n",
       "      <th>1859</th>\n",
       "      <td>820</td>\n",
       "      <td>819.0</td>\n",
       "      <td>835</td>\n",
       "      <td>833.0</td>\n",
       "      <td>813.0</td>\n",
       "    </tr>\n",
       "    <tr>\n",
       "      <th>...</th>\n",
       "      <td>...</td>\n",
       "      <td>...</td>\n",
       "      <td>...</td>\n",
       "      <td>...</td>\n",
       "      <td>...</td>\n",
       "    </tr>\n",
       "    <tr>\n",
       "      <th>4077926</th>\n",
       "      <td>1929</td>\n",
       "      <td>1940.0</td>\n",
       "      <td>2120</td>\n",
       "      <td>1957.0</td>\n",
       "      <td>2108.0</td>\n",
       "    </tr>\n",
       "    <tr>\n",
       "      <th>4077960</th>\n",
       "      <td>1952</td>\n",
       "      <td>2027.0</td>\n",
       "      <td>2220</td>\n",
       "      <td>2050.0</td>\n",
       "      <td>2221.0</td>\n",
       "    </tr>\n",
       "    <tr>\n",
       "      <th>4078230</th>\n",
       "      <td>1947</td>\n",
       "      <td>2016.0</td>\n",
       "      <td>2200</td>\n",
       "      <td>2105.0</td>\n",
       "      <td>23.0</td>\n",
       "    </tr>\n",
       "    <tr>\n",
       "      <th>4078259</th>\n",
       "      <td>1704</td>\n",
       "      <td>1933.0</td>\n",
       "      <td>1918</td>\n",
       "      <td>1955.0</td>\n",
       "      <td>2145.0</td>\n",
       "    </tr>\n",
       "    <tr>\n",
       "      <th>4078304</th>\n",
       "      <td>1202</td>\n",
       "      <td>1158.0</td>\n",
       "      <td>1422</td>\n",
       "      <td>1216.0</td>\n",
       "      <td>1358.0</td>\n",
       "    </tr>\n",
       "  </tbody>\n",
       "</table>\n",
       "<p>183697 rows × 5 columns</p>\n",
       "</div>"
      ],
      "text/plain": [
       "         CRSDepTime  DepTime  CRSArrTime  WheelsOff  WheelsOn\n",
       "1855            820    832.0        1000      845.0    1000.0\n",
       "1856           1440   1505.0        1615     1516.0    1625.0\n",
       "1857           1955   2105.0        2135     2123.0    2232.0\n",
       "1858           1510   1547.0        1510     1601.0    1539.0\n",
       "1859            820    819.0         835      833.0     813.0\n",
       "...             ...      ...         ...        ...       ...\n",
       "4077926        1929   1940.0        2120     1957.0    2108.0\n",
       "4077960        1952   2027.0        2220     2050.0    2221.0\n",
       "4078230        1947   2016.0        2200     2105.0      23.0\n",
       "4078259        1704   1933.0        1918     1955.0    2145.0\n",
       "4078304        1202   1158.0        1422     1216.0    1358.0\n",
       "\n",
       "[183697 rows x 5 columns]"
      ]
     },
     "execution_count": 71,
     "metadata": {},
     "output_type": "execute_result"
    }
   ],
   "source": [
    "# Columns that are in the \"hhmm\" format\n",
    "df_filtered[['CRSDepTime','DepTime','CRSArrTime','WheelsOff',\n",
    "             'WheelsOn']]\n"
   ]
  },
  {
   "cell_type": "markdown",
   "id": "4769731d",
   "metadata": {},
   "source": [
    " # We will be focussing on transforming time-related columns.\n",
    "\n",
    "1. The code iterates over each column name in time_columns.\n",
    "\n",
    "2. For each column, it divides the column value by 100 to extract the hour portion . Similarly we calculate the remainder of the column value by dividing by 100 (% 100) to extract minutes.\n",
    "\n",
    "3. We apply trigonometric transformations to convert the time into a cyclical format using sine and cosine functions.\n",
    "\n",
    "4. After the transformations, the original time column and the intermediate hour and minute columns are dropped from the DataFrame, as they are no longer needed in their original forms.\n",
    "\n",
    "5. Finally, the code prints the data types of the updated DataFrame columns, likely to verify the successful creation of the new columns and the removal of the old ones.\n"
   ]
  },
  {
   "cell_type": "code",
   "execution_count": 72,
   "id": "1525317b",
   "metadata": {
    "ExecuteTime": {
     "end_time": "2024-03-02T17:33:51.250272300Z",
     "start_time": "2024-03-02T17:33:50.877126800Z"
    }
   },
   "outputs": [
    {
     "name": "stdout",
     "output_type": "stream",
     "text": [
      "TaxiIn            float64\n",
      "TaxiOut           float64\n",
      "ArrDel15          float64\n",
      "DepDel15          float64\n",
      "DayofMonth          int64\n",
      "Month               int64\n",
      "Distance          float64\n",
      "Airline            object\n",
      "AirTime           float64\n",
      "CRSDepTime_sin    float64\n",
      "CRSDepTime_cos    float64\n",
      "DepTime_sin       float64\n",
      "DepTime_cos       float64\n",
      "CRSArrTime_sin    float64\n",
      "CRSArrTime_cos    float64\n",
      "WheelsOff_sin     float64\n",
      "WheelsOff_cos     float64\n",
      "WheelsOn_sin      float64\n",
      "WheelsOn_cos      float64\n",
      "dtype: object\n"
     ]
    }
   ],
   "source": [
    "time_columns = ['CRSDepTime','DepTime','CRSArrTime','WheelsOff',\n",
    "                'WheelsOn']\n",
    "\n",
    "for column in time_columns:\n",
    "    # Extract hour and minute\n",
    "    df_filtered[column + '_hour'] = df_filtered[column] // 100\n",
    "    df_filtered[column + '_minute'] = df_filtered[column] % 100\n",
    "\n",
    "    # Apply trigonometric transformations\n",
    "    df_filtered[column + '_sin'] = np.sin(2 * np.pi * (df_filtered[column + '_hour'] * 60 + df_filtered[column + '_minute']) / (24 * 60))\n",
    "    df_filtered[column + '_cos'] = np.cos(2 * np.pi * (df_filtered[column + '_hour'] * 60 + df_filtered[column + '_minute']) / (24 * 60))\n",
    "\n",
    "    # Drop the original columns\n",
    "    df_filtered = df_filtered.drop(columns=[column, column + '_hour', column + '_minute'])\n",
    "\n",
    "# Print data types of the updated DataFrame\n",
    "print(df_filtered.dtypes)"
   ]
  },
  {
   "cell_type": "markdown",
   "id": "f6ecf81c81382b0",
   "metadata": {
    "collapsed": false
   },
   "source": [
    "### - Handling missing values in the dataset"
   ]
  },
  {
   "cell_type": "code",
   "execution_count": 73,
   "id": "a311b93dfa68f8fc",
   "metadata": {
    "ExecuteTime": {
     "end_time": "2024-03-02T17:42:19.278390500Z",
     "start_time": "2024-03-02T17:42:19.168550400Z"
    },
    "collapsed": false
   },
   "outputs": [
    {
     "name": "stdout",
     "output_type": "stream",
     "text": [
      "Missing Values :\n",
      "TaxiIn            3453\n",
      "TaxiOut           3425\n",
      "ArrDel15          3845\n",
      "DepDel15          3388\n",
      "DayofMonth           0\n",
      "Month                0\n",
      "Distance             0\n",
      "Airline              0\n",
      "AirTime           3845\n",
      "CRSDepTime_sin       0\n",
      "CRSDepTime_cos       0\n",
      "DepTime_sin       3388\n",
      "DepTime_cos       3388\n",
      "CRSArrTime_sin       0\n",
      "CRSArrTime_cos       0\n",
      "WheelsOff_sin     3425\n",
      "WheelsOff_cos     3425\n",
      "WheelsOn_sin      3453\n",
      "WheelsOn_cos      3453\n",
      "dtype: int64\n"
     ]
    }
   ],
   "source": [
    "# Verify that missing values are filled\n",
    "missing_values = df_filtered.isnull().sum()\n",
    "print(\"Missing Values :\")\n",
    "print(missing_values)"
   ]
  },
  {
   "cell_type": "code",
   "execution_count": 74,
   "id": "aae10658",
   "metadata": {},
   "outputs": [
    {
     "name": "stdout",
     "output_type": "stream",
     "text": [
      "Missing Values :\n",
      "TaxiIn            0\n",
      "TaxiOut           0\n",
      "ArrDel15          0\n",
      "DepDel15          0\n",
      "DayofMonth        0\n",
      "Month             0\n",
      "Distance          0\n",
      "Airline           0\n",
      "AirTime           0\n",
      "CRSDepTime_sin    0\n",
      "CRSDepTime_cos    0\n",
      "DepTime_sin       0\n",
      "DepTime_cos       0\n",
      "CRSArrTime_sin    0\n",
      "CRSArrTime_cos    0\n",
      "WheelsOff_sin     0\n",
      "WheelsOff_cos     0\n",
      "WheelsOn_sin      0\n",
      "WheelsOn_cos      0\n",
      "dtype: int64\n"
     ]
    },
    {
     "name": "stderr",
     "output_type": "stream",
     "text": [
      "C:\\Users\\Owner\\AppData\\Local\\Temp\\ipykernel_9304\\4205238897.py:2: UserWarning: Boolean Series key will be reindexed to match DataFrame index.\n",
      "  missing_values = df_filtered[df['ArrDel15']==1].isnull().sum()\n"
     ]
    }
   ],
   "source": [
    "# Verify that missing values are filled\n",
    "missing_values = df_filtered[df['ArrDel15']==1].isnull().sum()\n",
    "print(\"Missing Values :\")\n",
    "print(missing_values)"
   ]
  },
  {
   "cell_type": "code",
   "execution_count": 75,
   "id": "44d9eb3a",
   "metadata": {},
   "outputs": [
    {
     "data": {
      "text/plain": [
       "ArrDel15\n",
       "0.0    144410\n",
       "1.0     35442\n",
       "Name: count, dtype: int64"
      ]
     },
     "execution_count": 75,
     "metadata": {},
     "output_type": "execute_result"
    }
   ],
   "source": [
    "df_filtered['ArrDel15'].value_counts()"
   ]
  },
  {
   "cell_type": "markdown",
   "id": "58e00cfe",
   "metadata": {},
   "source": []
  },
  {
   "cell_type": "markdown",
   "id": "4a60acdb",
   "metadata": {},
   "source": [
    "# Pipeline\n",
    "1. The provided code sets up a data preprocessing pipeline using make_pipeline and ColumnTransformer. \n",
    "2. It identifies numerical and categorical columns, removes the target columns, and creates separate pipelines for numerical and categorical features. \n",
    "3. The num_pipeline imputes missing values and standardizes numerical features, while the cat_pipeline imputes missing values and one-hot encodes categorical features.\n",
    "4. The preprocessor combines both pipelines. This preprocessing ensures consistent feature scaling and handling of missing data before training machine learning models\n"
   ]
  },
  {
   "cell_type": "code",
   "execution_count": 76,
   "id": "0b493bb2",
   "metadata": {},
   "outputs": [],
   "source": [
    "from sklearn.pipeline import make_pipeline\n",
    "from sklearn.impute import SimpleImputer\n",
    "from sklearn.preprocessing import StandardScaler, OneHotEncoder\n",
    "from sklearn.compose import ColumnTransformer\n"
   ]
  },
  {
   "cell_type": "code",
   "execution_count": 77,
   "id": "6adb1b09",
   "metadata": {},
   "outputs": [],
   "source": [
    "\n",
    "# Define numerical and categorical columns\n",
    "num_cols = df_filtered.select_dtypes(include='number').columns.to_list()\n",
    "cat_cols = df_filtered.select_dtypes(exclude='number').columns.to_list()\n",
    "\n",
    "# Remove the target column from numerical columns\n",
    "num_cols.remove('DepDel15')\n",
    "num_cols.remove('ArrDel15')\n"
   ]
  },
  {
   "cell_type": "code",
   "execution_count": 78,
   "id": "d9e2a6dd",
   "metadata": {},
   "outputs": [],
   "source": [
    "# Create pipelines for numerical and categorical columns\n",
    "num_pipeline = make_pipeline(SimpleImputer(strategy='mean'), StandardScaler())\n",
    "cat_pipeline = make_pipeline(SimpleImputer(strategy='most_frequent'), OneHotEncoder())\n",
    "\n",
    "# Use ColumnTransformer to set the estimators and transformations\n",
    "preprocessor = ColumnTransformer(\n",
    "    transformers=[\n",
    "        ('num', num_pipeline, num_cols),\n",
    "        ('cat', cat_pipeline, cat_cols)\n",
    "    ],\n",
    "    remainder='passthrough'\n",
    ")\n"
   ]
  },
  {
   "cell_type": "code",
   "execution_count": 79,
   "id": "b37dfd82",
   "metadata": {},
   "outputs": [
    {
     "data": {
      "text/html": [
       "<style>#sk-container-id-2 {color: black;}#sk-container-id-2 pre{padding: 0;}#sk-container-id-2 div.sk-toggleable {background-color: white;}#sk-container-id-2 label.sk-toggleable__label {cursor: pointer;display: block;width: 100%;margin-bottom: 0;padding: 0.3em;box-sizing: border-box;text-align: center;}#sk-container-id-2 label.sk-toggleable__label-arrow:before {content: \"▸\";float: left;margin-right: 0.25em;color: #696969;}#sk-container-id-2 label.sk-toggleable__label-arrow:hover:before {color: black;}#sk-container-id-2 div.sk-estimator:hover label.sk-toggleable__label-arrow:before {color: black;}#sk-container-id-2 div.sk-toggleable__content {max-height: 0;max-width: 0;overflow: hidden;text-align: left;background-color: #f0f8ff;}#sk-container-id-2 div.sk-toggleable__content pre {margin: 0.2em;color: black;border-radius: 0.25em;background-color: #f0f8ff;}#sk-container-id-2 input.sk-toggleable__control:checked~div.sk-toggleable__content {max-height: 200px;max-width: 100%;overflow: auto;}#sk-container-id-2 input.sk-toggleable__control:checked~label.sk-toggleable__label-arrow:before {content: \"▾\";}#sk-container-id-2 div.sk-estimator input.sk-toggleable__control:checked~label.sk-toggleable__label {background-color: #d4ebff;}#sk-container-id-2 div.sk-label input.sk-toggleable__control:checked~label.sk-toggleable__label {background-color: #d4ebff;}#sk-container-id-2 input.sk-hidden--visually {border: 0;clip: rect(1px 1px 1px 1px);clip: rect(1px, 1px, 1px, 1px);height: 1px;margin: -1px;overflow: hidden;padding: 0;position: absolute;width: 1px;}#sk-container-id-2 div.sk-estimator {font-family: monospace;background-color: #f0f8ff;border: 1px dotted black;border-radius: 0.25em;box-sizing: border-box;margin-bottom: 0.5em;}#sk-container-id-2 div.sk-estimator:hover {background-color: #d4ebff;}#sk-container-id-2 div.sk-parallel-item::after {content: \"\";width: 100%;border-bottom: 1px solid gray;flex-grow: 1;}#sk-container-id-2 div.sk-label:hover label.sk-toggleable__label {background-color: #d4ebff;}#sk-container-id-2 div.sk-serial::before {content: \"\";position: absolute;border-left: 1px solid gray;box-sizing: border-box;top: 0;bottom: 0;left: 50%;z-index: 0;}#sk-container-id-2 div.sk-serial {display: flex;flex-direction: column;align-items: center;background-color: white;padding-right: 0.2em;padding-left: 0.2em;position: relative;}#sk-container-id-2 div.sk-item {position: relative;z-index: 1;}#sk-container-id-2 div.sk-parallel {display: flex;align-items: stretch;justify-content: center;background-color: white;position: relative;}#sk-container-id-2 div.sk-item::before, #sk-container-id-2 div.sk-parallel-item::before {content: \"\";position: absolute;border-left: 1px solid gray;box-sizing: border-box;top: 0;bottom: 0;left: 50%;z-index: -1;}#sk-container-id-2 div.sk-parallel-item {display: flex;flex-direction: column;z-index: 1;position: relative;background-color: white;}#sk-container-id-2 div.sk-parallel-item:first-child::after {align-self: flex-end;width: 50%;}#sk-container-id-2 div.sk-parallel-item:last-child::after {align-self: flex-start;width: 50%;}#sk-container-id-2 div.sk-parallel-item:only-child::after {width: 0;}#sk-container-id-2 div.sk-dashed-wrapped {border: 1px dashed gray;margin: 0 0.4em 0.5em 0.4em;box-sizing: border-box;padding-bottom: 0.4em;background-color: white;}#sk-container-id-2 div.sk-label label {font-family: monospace;font-weight: bold;display: inline-block;line-height: 1.2em;}#sk-container-id-2 div.sk-label-container {text-align: center;}#sk-container-id-2 div.sk-container {/* jupyter's `normalize.less` sets `[hidden] { display: none; }` but bootstrap.min.css set `[hidden] { display: none !important; }` so we also need the `!important` here to be able to override the default hidden behavior on the sphinx rendered scikit-learn.org. See: https://github.com/scikit-learn/scikit-learn/issues/21755 */display: inline-block !important;position: relative;}#sk-container-id-2 div.sk-text-repr-fallback {display: none;}</style><div id=\"sk-container-id-2\" class=\"sk-top-container\"><div class=\"sk-text-repr-fallback\"><pre>ColumnTransformer(remainder=&#x27;passthrough&#x27;,\n",
       "                  transformers=[(&#x27;num&#x27;,\n",
       "                                 Pipeline(steps=[(&#x27;simpleimputer&#x27;,\n",
       "                                                  SimpleImputer()),\n",
       "                                                 (&#x27;standardscaler&#x27;,\n",
       "                                                  StandardScaler())]),\n",
       "                                 [&#x27;TaxiIn&#x27;, &#x27;TaxiOut&#x27;, &#x27;DayofMonth&#x27;, &#x27;Month&#x27;,\n",
       "                                  &#x27;Distance&#x27;, &#x27;AirTime&#x27;, &#x27;CRSDepTime_sin&#x27;,\n",
       "                                  &#x27;CRSDepTime_cos&#x27;, &#x27;DepTime_sin&#x27;,\n",
       "                                  &#x27;DepTime_cos&#x27;, &#x27;CRSArrTime_sin&#x27;,\n",
       "                                  &#x27;CRSArrTime_cos&#x27;, &#x27;WheelsOff_sin&#x27;,\n",
       "                                  &#x27;WheelsOff_cos&#x27;, &#x27;WheelsOn_sin&#x27;,\n",
       "                                  &#x27;WheelsOn_cos&#x27;]),\n",
       "                                (&#x27;cat&#x27;,\n",
       "                                 Pipeline(steps=[(&#x27;simpleimputer&#x27;,\n",
       "                                                  SimpleImputer(strategy=&#x27;most_frequent&#x27;)),\n",
       "                                                 (&#x27;onehotencoder&#x27;,\n",
       "                                                  OneHotEncoder())]),\n",
       "                                 [&#x27;Airline&#x27;])])</pre><b>In a Jupyter environment, please rerun this cell to show the HTML representation or trust the notebook. <br />On GitHub, the HTML representation is unable to render, please try loading this page with nbviewer.org.</b></div><div class=\"sk-container\" hidden><div class=\"sk-item sk-dashed-wrapped\"><div class=\"sk-label-container\"><div class=\"sk-label sk-toggleable\"><input class=\"sk-toggleable__control sk-hidden--visually\" id=\"sk-estimator-id-10\" type=\"checkbox\" ><label for=\"sk-estimator-id-10\" class=\"sk-toggleable__label sk-toggleable__label-arrow\">ColumnTransformer</label><div class=\"sk-toggleable__content\"><pre>ColumnTransformer(remainder=&#x27;passthrough&#x27;,\n",
       "                  transformers=[(&#x27;num&#x27;,\n",
       "                                 Pipeline(steps=[(&#x27;simpleimputer&#x27;,\n",
       "                                                  SimpleImputer()),\n",
       "                                                 (&#x27;standardscaler&#x27;,\n",
       "                                                  StandardScaler())]),\n",
       "                                 [&#x27;TaxiIn&#x27;, &#x27;TaxiOut&#x27;, &#x27;DayofMonth&#x27;, &#x27;Month&#x27;,\n",
       "                                  &#x27;Distance&#x27;, &#x27;AirTime&#x27;, &#x27;CRSDepTime_sin&#x27;,\n",
       "                                  &#x27;CRSDepTime_cos&#x27;, &#x27;DepTime_sin&#x27;,\n",
       "                                  &#x27;DepTime_cos&#x27;, &#x27;CRSArrTime_sin&#x27;,\n",
       "                                  &#x27;CRSArrTime_cos&#x27;, &#x27;WheelsOff_sin&#x27;,\n",
       "                                  &#x27;WheelsOff_cos&#x27;, &#x27;WheelsOn_sin&#x27;,\n",
       "                                  &#x27;WheelsOn_cos&#x27;]),\n",
       "                                (&#x27;cat&#x27;,\n",
       "                                 Pipeline(steps=[(&#x27;simpleimputer&#x27;,\n",
       "                                                  SimpleImputer(strategy=&#x27;most_frequent&#x27;)),\n",
       "                                                 (&#x27;onehotencoder&#x27;,\n",
       "                                                  OneHotEncoder())]),\n",
       "                                 [&#x27;Airline&#x27;])])</pre></div></div></div><div class=\"sk-parallel\"><div class=\"sk-parallel-item\"><div class=\"sk-item\"><div class=\"sk-label-container\"><div class=\"sk-label sk-toggleable\"><input class=\"sk-toggleable__control sk-hidden--visually\" id=\"sk-estimator-id-11\" type=\"checkbox\" ><label for=\"sk-estimator-id-11\" class=\"sk-toggleable__label sk-toggleable__label-arrow\">num</label><div class=\"sk-toggleable__content\"><pre>[&#x27;TaxiIn&#x27;, &#x27;TaxiOut&#x27;, &#x27;DayofMonth&#x27;, &#x27;Month&#x27;, &#x27;Distance&#x27;, &#x27;AirTime&#x27;, &#x27;CRSDepTime_sin&#x27;, &#x27;CRSDepTime_cos&#x27;, &#x27;DepTime_sin&#x27;, &#x27;DepTime_cos&#x27;, &#x27;CRSArrTime_sin&#x27;, &#x27;CRSArrTime_cos&#x27;, &#x27;WheelsOff_sin&#x27;, &#x27;WheelsOff_cos&#x27;, &#x27;WheelsOn_sin&#x27;, &#x27;WheelsOn_cos&#x27;]</pre></div></div></div><div class=\"sk-serial\"><div class=\"sk-item\"><div class=\"sk-serial\"><div class=\"sk-item\"><div class=\"sk-estimator sk-toggleable\"><input class=\"sk-toggleable__control sk-hidden--visually\" id=\"sk-estimator-id-12\" type=\"checkbox\" ><label for=\"sk-estimator-id-12\" class=\"sk-toggleable__label sk-toggleable__label-arrow\">SimpleImputer</label><div class=\"sk-toggleable__content\"><pre>SimpleImputer()</pre></div></div></div><div class=\"sk-item\"><div class=\"sk-estimator sk-toggleable\"><input class=\"sk-toggleable__control sk-hidden--visually\" id=\"sk-estimator-id-13\" type=\"checkbox\" ><label for=\"sk-estimator-id-13\" class=\"sk-toggleable__label sk-toggleable__label-arrow\">StandardScaler</label><div class=\"sk-toggleable__content\"><pre>StandardScaler()</pre></div></div></div></div></div></div></div></div><div class=\"sk-parallel-item\"><div class=\"sk-item\"><div class=\"sk-label-container\"><div class=\"sk-label sk-toggleable\"><input class=\"sk-toggleable__control sk-hidden--visually\" id=\"sk-estimator-id-14\" type=\"checkbox\" ><label for=\"sk-estimator-id-14\" class=\"sk-toggleable__label sk-toggleable__label-arrow\">cat</label><div class=\"sk-toggleable__content\"><pre>[&#x27;Airline&#x27;]</pre></div></div></div><div class=\"sk-serial\"><div class=\"sk-item\"><div class=\"sk-serial\"><div class=\"sk-item\"><div class=\"sk-estimator sk-toggleable\"><input class=\"sk-toggleable__control sk-hidden--visually\" id=\"sk-estimator-id-15\" type=\"checkbox\" ><label for=\"sk-estimator-id-15\" class=\"sk-toggleable__label sk-toggleable__label-arrow\">SimpleImputer</label><div class=\"sk-toggleable__content\"><pre>SimpleImputer(strategy=&#x27;most_frequent&#x27;)</pre></div></div></div><div class=\"sk-item\"><div class=\"sk-estimator sk-toggleable\"><input class=\"sk-toggleable__control sk-hidden--visually\" id=\"sk-estimator-id-16\" type=\"checkbox\" ><label for=\"sk-estimator-id-16\" class=\"sk-toggleable__label sk-toggleable__label-arrow\">OneHotEncoder</label><div class=\"sk-toggleable__content\"><pre>OneHotEncoder()</pre></div></div></div></div></div></div></div></div><div class=\"sk-parallel-item\"><div class=\"sk-item\"><div class=\"sk-label-container\"><div class=\"sk-label sk-toggleable\"><input class=\"sk-toggleable__control sk-hidden--visually\" id=\"sk-estimator-id-17\" type=\"checkbox\" ><label for=\"sk-estimator-id-17\" class=\"sk-toggleable__label sk-toggleable__label-arrow\">remainder</label><div class=\"sk-toggleable__content\"><pre></pre></div></div></div><div class=\"sk-serial\"><div class=\"sk-item\"><div class=\"sk-estimator sk-toggleable\"><input class=\"sk-toggleable__control sk-hidden--visually\" id=\"sk-estimator-id-18\" type=\"checkbox\" ><label for=\"sk-estimator-id-18\" class=\"sk-toggleable__label sk-toggleable__label-arrow\">passthrough</label><div class=\"sk-toggleable__content\"><pre>passthrough</pre></div></div></div></div></div></div></div></div></div></div>"
      ],
      "text/plain": [
       "ColumnTransformer(remainder='passthrough',\n",
       "                  transformers=[('num',\n",
       "                                 Pipeline(steps=[('simpleimputer',\n",
       "                                                  SimpleImputer()),\n",
       "                                                 ('standardscaler',\n",
       "                                                  StandardScaler())]),\n",
       "                                 ['TaxiIn', 'TaxiOut', 'DayofMonth', 'Month',\n",
       "                                  'Distance', 'AirTime', 'CRSDepTime_sin',\n",
       "                                  'CRSDepTime_cos', 'DepTime_sin',\n",
       "                                  'DepTime_cos', 'CRSArrTime_sin',\n",
       "                                  'CRSArrTime_cos', 'WheelsOff_sin',\n",
       "                                  'WheelsOff_cos', 'WheelsOn_sin',\n",
       "                                  'WheelsOn_cos']),\n",
       "                                ('cat',\n",
       "                                 Pipeline(steps=[('simpleimputer',\n",
       "                                                  SimpleImputer(strategy='most_frequent')),\n",
       "                                                 ('onehotencoder',\n",
       "                                                  OneHotEncoder())]),\n",
       "                                 ['Airline'])])"
      ]
     },
     "execution_count": 79,
     "metadata": {},
     "output_type": "execute_result"
    }
   ],
   "source": [
    "preprocessor"
   ]
  },
  {
   "cell_type": "markdown",
   "id": "236da523",
   "metadata": {},
   "source": [
    "# Numerical Pipeline:\n",
    "\n",
    "1. SimpleImputer: Missing values are filled with the mean value of the feature.\n",
    "2. StandardScaler: Numerical features are scaled to have zero mean and unit variance.\n",
    "# Categorical Pipeline:\n",
    "\n",
    "1. SimpleImputer: Missing values are filled with the most frequent value (mode) of the feature.\n",
    "2. OneHotEncoder: Categorical features are transformed into binary numbers ( for example: 001,110) ."
   ]
  },
  {
   "cell_type": "code",
   "execution_count": 80,
   "id": "1139e822",
   "metadata": {},
   "outputs": [
    {
     "data": {
      "text/html": [
       "<div>\n",
       "<style scoped>\n",
       "    .dataframe tbody tr th:only-of-type {\n",
       "        vertical-align: middle;\n",
       "    }\n",
       "\n",
       "    .dataframe tbody tr th {\n",
       "        vertical-align: top;\n",
       "    }\n",
       "\n",
       "    .dataframe thead th {\n",
       "        text-align: right;\n",
       "    }\n",
       "</style>\n",
       "<table border=\"1\" class=\"dataframe\">\n",
       "  <thead>\n",
       "    <tr style=\"text-align: right;\">\n",
       "      <th></th>\n",
       "      <th>num__TaxiIn</th>\n",
       "      <th>num__TaxiOut</th>\n",
       "      <th>num__DayofMonth</th>\n",
       "      <th>num__Month</th>\n",
       "      <th>num__Distance</th>\n",
       "      <th>num__AirTime</th>\n",
       "      <th>num__CRSDepTime_sin</th>\n",
       "      <th>num__CRSDepTime_cos</th>\n",
       "      <th>num__DepTime_sin</th>\n",
       "      <th>num__DepTime_cos</th>\n",
       "      <th>...</th>\n",
       "      <th>cat__Airline_Frontier Airlines Inc.</th>\n",
       "      <th>cat__Airline_JetBlue Airways</th>\n",
       "      <th>cat__Airline_Mesa Airlines Inc.</th>\n",
       "      <th>cat__Airline_Republic Airlines</th>\n",
       "      <th>cat__Airline_SkyWest Airlines Inc.</th>\n",
       "      <th>cat__Airline_Southwest Airlines Co.</th>\n",
       "      <th>cat__Airline_Spirit Air Lines</th>\n",
       "      <th>cat__Airline_United Air Lines Inc.</th>\n",
       "      <th>remainder__ArrDel15</th>\n",
       "      <th>remainder__DepDel15</th>\n",
       "    </tr>\n",
       "  </thead>\n",
       "  <tbody>\n",
       "    <tr>\n",
       "      <th>0</th>\n",
       "      <td>-0.473227</td>\n",
       "      <td>-0.357425</td>\n",
       "      <td>-1.681281</td>\n",
       "      <td>-0.041593</td>\n",
       "      <td>0.318981</td>\n",
       "      <td>0.669132</td>\n",
       "      <td>1.552464</td>\n",
       "      <td>-0.473714</td>\n",
       "      <td>1.531226</td>\n",
       "      <td>-0.556689</td>\n",
       "      <td>...</td>\n",
       "      <td>0.0</td>\n",
       "      <td>0.0</td>\n",
       "      <td>0.0</td>\n",
       "      <td>0.0</td>\n",
       "      <td>0.0</td>\n",
       "      <td>1.0</td>\n",
       "      <td>0.0</td>\n",
       "      <td>0.0</td>\n",
       "      <td>0.0</td>\n",
       "      <td>0.0</td>\n",
       "    </tr>\n",
       "    <tr>\n",
       "      <th>1</th>\n",
       "      <td>0.060996</td>\n",
       "      <td>-0.654760</td>\n",
       "      <td>-1.681281</td>\n",
       "      <td>-0.041593</td>\n",
       "      <td>0.318981</td>\n",
       "      <td>0.569899</td>\n",
       "      <td>-0.651478</td>\n",
       "      <td>-0.760555</td>\n",
       "      <td>-0.789315</td>\n",
       "      <td>-0.668592</td>\n",
       "      <td>...</td>\n",
       "      <td>0.0</td>\n",
       "      <td>0.0</td>\n",
       "      <td>0.0</td>\n",
       "      <td>0.0</td>\n",
       "      <td>0.0</td>\n",
       "      <td>1.0</td>\n",
       "      <td>0.0</td>\n",
       "      <td>0.0</td>\n",
       "      <td>1.0</td>\n",
       "      <td>1.0</td>\n",
       "    </tr>\n",
       "    <tr>\n",
       "      <th>2</th>\n",
       "      <td>-0.295153</td>\n",
       "      <td>0.385911</td>\n",
       "      <td>-1.681281</td>\n",
       "      <td>-0.041593</td>\n",
       "      <td>0.318981</td>\n",
       "      <td>0.569899</td>\n",
       "      <td>-1.004152</td>\n",
       "      <td>1.097934</td>\n",
       "      <td>-0.741916</td>\n",
       "      <td>1.417297</td>\n",
       "      <td>...</td>\n",
       "      <td>0.0</td>\n",
       "      <td>0.0</td>\n",
       "      <td>0.0</td>\n",
       "      <td>0.0</td>\n",
       "      <td>0.0</td>\n",
       "      <td>1.0</td>\n",
       "      <td>0.0</td>\n",
       "      <td>0.0</td>\n",
       "      <td>1.0</td>\n",
       "      <td>1.0</td>\n",
       "    </tr>\n",
       "    <tr>\n",
       "      <th>3</th>\n",
       "      <td>0.239070</td>\n",
       "      <td>-0.208758</td>\n",
       "      <td>-1.681281</td>\n",
       "      <td>-0.041593</td>\n",
       "      <td>-0.919552</td>\n",
       "      <td>-0.935133</td>\n",
       "      <td>-0.793925</td>\n",
       "      <td>-0.625748</td>\n",
       "      <td>-0.964345</td>\n",
       "      <td>-0.457300</td>\n",
       "      <td>...</td>\n",
       "      <td>0.0</td>\n",
       "      <td>0.0</td>\n",
       "      <td>0.0</td>\n",
       "      <td>0.0</td>\n",
       "      <td>0.0</td>\n",
       "      <td>1.0</td>\n",
       "      <td>0.0</td>\n",
       "      <td>0.0</td>\n",
       "      <td>1.0</td>\n",
       "      <td>1.0</td>\n",
       "    </tr>\n",
       "    <tr>\n",
       "      <th>4</th>\n",
       "      <td>-0.295153</td>\n",
       "      <td>-0.208758</td>\n",
       "      <td>-1.681281</td>\n",
       "      <td>-0.041593</td>\n",
       "      <td>-0.919552</td>\n",
       "      <td>-0.902055</td>\n",
       "      <td>1.552464</td>\n",
       "      <td>-0.473714</td>\n",
       "      <td>1.582904</td>\n",
       "      <td>-0.489320</td>\n",
       "      <td>...</td>\n",
       "      <td>0.0</td>\n",
       "      <td>0.0</td>\n",
       "      <td>0.0</td>\n",
       "      <td>0.0</td>\n",
       "      <td>0.0</td>\n",
       "      <td>1.0</td>\n",
       "      <td>0.0</td>\n",
       "      <td>0.0</td>\n",
       "      <td>0.0</td>\n",
       "      <td>0.0</td>\n",
       "    </tr>\n",
       "  </tbody>\n",
       "</table>\n",
       "<p>5 rows × 32 columns</p>\n",
       "</div>"
      ],
      "text/plain": [
       "   num__TaxiIn  num__TaxiOut  num__DayofMonth  num__Month  num__Distance  \\\n",
       "0    -0.473227     -0.357425        -1.681281   -0.041593       0.318981   \n",
       "1     0.060996     -0.654760        -1.681281   -0.041593       0.318981   \n",
       "2    -0.295153      0.385911        -1.681281   -0.041593       0.318981   \n",
       "3     0.239070     -0.208758        -1.681281   -0.041593      -0.919552   \n",
       "4    -0.295153     -0.208758        -1.681281   -0.041593      -0.919552   \n",
       "\n",
       "   num__AirTime  num__CRSDepTime_sin  num__CRSDepTime_cos  num__DepTime_sin  \\\n",
       "0      0.669132             1.552464            -0.473714          1.531226   \n",
       "1      0.569899            -0.651478            -0.760555         -0.789315   \n",
       "2      0.569899            -1.004152             1.097934         -0.741916   \n",
       "3     -0.935133            -0.793925            -0.625748         -0.964345   \n",
       "4     -0.902055             1.552464            -0.473714          1.582904   \n",
       "\n",
       "   num__DepTime_cos  ...  cat__Airline_Frontier Airlines Inc.  \\\n",
       "0         -0.556689  ...                                  0.0   \n",
       "1         -0.668592  ...                                  0.0   \n",
       "2          1.417297  ...                                  0.0   \n",
       "3         -0.457300  ...                                  0.0   \n",
       "4         -0.489320  ...                                  0.0   \n",
       "\n",
       "   cat__Airline_JetBlue Airways  cat__Airline_Mesa Airlines Inc.  \\\n",
       "0                           0.0                              0.0   \n",
       "1                           0.0                              0.0   \n",
       "2                           0.0                              0.0   \n",
       "3                           0.0                              0.0   \n",
       "4                           0.0                              0.0   \n",
       "\n",
       "   cat__Airline_Republic Airlines  cat__Airline_SkyWest Airlines Inc.  \\\n",
       "0                             0.0                                 0.0   \n",
       "1                             0.0                                 0.0   \n",
       "2                             0.0                                 0.0   \n",
       "3                             0.0                                 0.0   \n",
       "4                             0.0                                 0.0   \n",
       "\n",
       "   cat__Airline_Southwest Airlines Co.  cat__Airline_Spirit Air Lines  \\\n",
       "0                                  1.0                            0.0   \n",
       "1                                  1.0                            0.0   \n",
       "2                                  1.0                            0.0   \n",
       "3                                  1.0                            0.0   \n",
       "4                                  1.0                            0.0   \n",
       "\n",
       "   cat__Airline_United Air Lines Inc.  remainder__ArrDel15  \\\n",
       "0                                 0.0                  0.0   \n",
       "1                                 0.0                  1.0   \n",
       "2                                 0.0                  1.0   \n",
       "3                                 0.0                  1.0   \n",
       "4                                 0.0                  0.0   \n",
       "\n",
       "   remainder__DepDel15  \n",
       "0                  0.0  \n",
       "1                  1.0  \n",
       "2                  1.0  \n",
       "3                  1.0  \n",
       "4                  0.0  \n",
       "\n",
       "[5 rows x 32 columns]"
      ]
     },
     "execution_count": 80,
     "metadata": {},
     "output_type": "execute_result"
    }
   ],
   "source": [
    "# Apply the preprocessing pipeline on the dataset\n",
    "df_prepared = preprocessor.fit_transform(df_filtered)\n",
    "\n",
    "# Scikit-learn strips the column headers in most cases, so just add them back on afterward.\n",
    "feature_names = preprocessor.get_feature_names_out()\n",
    "\n",
    "df_prepared = pd.DataFrame(data=df_prepared, columns=feature_names)\n",
    "\n",
    "df_prepared.head()"
   ]
  },
  {
   "cell_type": "code",
   "execution_count": 81,
   "id": "478a0d64",
   "metadata": {},
   "outputs": [
    {
     "name": "stdout",
     "output_type": "stream",
     "text": [
      "Missing Values Count for Each Column:\n",
      "num__TaxiIn                               0\n",
      "num__TaxiOut                              0\n",
      "num__DayofMonth                           0\n",
      "num__Month                                0\n",
      "num__Distance                             0\n",
      "num__AirTime                              0\n",
      "num__CRSDepTime_sin                       0\n",
      "num__CRSDepTime_cos                       0\n",
      "num__DepTime_sin                          0\n",
      "num__DepTime_cos                          0\n",
      "num__CRSArrTime_sin                       0\n",
      "num__CRSArrTime_cos                       0\n",
      "num__WheelsOff_sin                        0\n",
      "num__WheelsOff_cos                        0\n",
      "num__WheelsOn_sin                         0\n",
      "num__WheelsOn_cos                         0\n",
      "cat__Airline_Alaska Airlines Inc.         0\n",
      "cat__Airline_American Airlines Inc.       0\n",
      "cat__Airline_Comair Inc.                  0\n",
      "cat__Airline_Delta Air Lines Inc.         0\n",
      "cat__Airline_Endeavor Air Inc.            0\n",
      "cat__Airline_Envoy Air                    0\n",
      "cat__Airline_Frontier Airlines Inc.       0\n",
      "cat__Airline_JetBlue Airways              0\n",
      "cat__Airline_Mesa Airlines Inc.           0\n",
      "cat__Airline_Republic Airlines            0\n",
      "cat__Airline_SkyWest Airlines Inc.        0\n",
      "cat__Airline_Southwest Airlines Co.       0\n",
      "cat__Airline_Spirit Air Lines             0\n",
      "cat__Airline_United Air Lines Inc.        0\n",
      "remainder__ArrDel15                    3845\n",
      "remainder__DepDel15                    3388\n",
      "dtype: int64\n"
     ]
    }
   ],
   "source": [
    "missing_values_count = df_prepared.isnull().sum()\n",
    "print(\"Missing Values Count for Each Column:\")\n",
    "print(missing_values_count)\n"
   ]
  },
  {
   "cell_type": "code",
   "execution_count": 82,
   "id": "977d5198",
   "metadata": {},
   "outputs": [
    {
     "name": "stdout",
     "output_type": "stream",
     "text": [
      "Data Types of Columns:\n",
      "num__TaxiIn                            float64\n",
      "num__TaxiOut                           float64\n",
      "num__DayofMonth                        float64\n",
      "num__Month                             float64\n",
      "num__Distance                          float64\n",
      "num__AirTime                           float64\n",
      "num__CRSDepTime_sin                    float64\n",
      "num__CRSDepTime_cos                    float64\n",
      "num__DepTime_sin                       float64\n",
      "num__DepTime_cos                       float64\n",
      "num__CRSArrTime_sin                    float64\n",
      "num__CRSArrTime_cos                    float64\n",
      "num__WheelsOff_sin                     float64\n",
      "num__WheelsOff_cos                     float64\n",
      "num__WheelsOn_sin                      float64\n",
      "num__WheelsOn_cos                      float64\n",
      "cat__Airline_Alaska Airlines Inc.      float64\n",
      "cat__Airline_American Airlines Inc.    float64\n",
      "cat__Airline_Comair Inc.               float64\n",
      "cat__Airline_Delta Air Lines Inc.      float64\n",
      "cat__Airline_Endeavor Air Inc.         float64\n",
      "cat__Airline_Envoy Air                 float64\n",
      "cat__Airline_Frontier Airlines Inc.    float64\n",
      "cat__Airline_JetBlue Airways           float64\n",
      "cat__Airline_Mesa Airlines Inc.        float64\n",
      "cat__Airline_Republic Airlines         float64\n",
      "cat__Airline_SkyWest Airlines Inc.     float64\n",
      "cat__Airline_Southwest Airlines Co.    float64\n",
      "cat__Airline_Spirit Air Lines          float64\n",
      "cat__Airline_United Air Lines Inc.     float64\n",
      "remainder__ArrDel15                    float64\n",
      "remainder__DepDel15                    float64\n",
      "dtype: object\n"
     ]
    }
   ],
   "source": [
    "# data types of the columns\n",
    "data_types = df_prepared.dtypes\n",
    "print(\"Data Types of Columns:\")\n",
    "print(data_types)\n"
   ]
  },
  {
   "cell_type": "code",
   "execution_count": 83,
   "id": "5448a991",
   "metadata": {},
   "outputs": [],
   "source": [
    "df_prepared = df_prepared.dropna(subset=['remainder__ArrDel15', 'remainder__DepDel15'])"
   ]
  },
  {
   "cell_type": "markdown",
   "id": "3404a062",
   "metadata": {},
   "source": [
    "<strong>Notes:</strong>\n",
    "\n",
    "- Columns prefixed with num__ are numerical features.\n",
    "- Columns prefixed with cat__ are one-hot encoded categorical features.\n",
    "- The column remainder__Diverted_binary is the binary feature for Diverted_binary.\n",
    "\n",
    "All columns are of type float64, which might be due to the encoding performed during preprocessing. However, the columns representing binary features (Cancelled_binary and Diverted_binary) should ideally be of integer type (0 or 1) instead of float. We may need to convert these columns to integer type if they are supposed to represent binary values. Additionally, it seems that Cancelled_binary is missing from the output. We need to ensure that it's properly included in the preprocessing pipeline."
   ]
  },
  {
   "cell_type": "code",
   "execution_count": 84,
   "id": "a09bf6e9",
   "metadata": {},
   "outputs": [],
   "source": [
    "# Converting target column to Int\n",
    "# Convert binary columns to integer type\n",
    "df_prepared['remainder__ArrDel15'] = df_prepared['remainder__ArrDel15'].astype(int)\n",
    "df_prepared['remainder__DepDel15'] = df_prepared['remainder__DepDel15'].astype(int)\n",
    "\n"
   ]
  },
  {
   "cell_type": "code",
   "execution_count": 85,
   "id": "11d3a51f",
   "metadata": {},
   "outputs": [
    {
     "data": {
      "text/plain": [
       "(179852, 32)"
      ]
     },
     "execution_count": 85,
     "metadata": {},
     "output_type": "execute_result"
    }
   ],
   "source": [
    "df_prepared.shape"
   ]
  },
  {
   "cell_type": "code",
   "execution_count": 86,
   "id": "2f9dea5f",
   "metadata": {},
   "outputs": [],
   "source": [
    "from sklearn.model_selection import train_test_split\n",
    "from sklearn.svm import SVC\n",
    "from sklearn.ensemble import RandomForestClassifier\n",
    "from sklearn.linear_model import LogisticRegression\n",
    "from sklearn.metrics import accuracy_score\n",
    "\n",
    "# Define X (features) and y (target)\n",
    "X = df_prepared.drop(['remainder__ArrDel15'],axis=1)\n",
    "y = df_prepared['remainder__ArrDel15']\n"
   ]
  },
  {
   "cell_type": "code",
   "execution_count": 87,
   "id": "c1533607",
   "metadata": {},
   "outputs": [],
   "source": [
    "\n",
    "# Split the data into training and testing sets\n",
    "X_train, X_test, y_train, y_test = train_test_split(X, y, test_size=0.2, random_state=42)\n"
   ]
  },
  {
   "cell_type": "code",
   "execution_count": 88,
   "id": "e145a1d5",
   "metadata": {},
   "outputs": [
    {
     "data": {
      "text/plain": [
       "((143881, 31), (143881,), (35971, 31), (35971,))"
      ]
     },
     "execution_count": 88,
     "metadata": {},
     "output_type": "execute_result"
    }
   ],
   "source": [
    "X_train.shape, y_train.shape,X_test.shape,y_test.shape"
   ]
  },
  {
   "cell_type": "code",
   "execution_count": 89,
   "id": "16103ab4",
   "metadata": {},
   "outputs": [
    {
     "name": "stdout",
     "output_type": "stream",
     "text": [
      "Random Forest Accuracy: 0.9634983736899169\n"
     ]
    }
   ],
   "source": [
    "\n",
    "# Train Random Forest model\n",
    "rf_model = RandomForestClassifier()\n",
    "rf_model.fit(X_train, y_train)\n",
    "rf_pred = rf_model.predict(X_test)\n",
    "rf_accuracy = accuracy_score(y_test, rf_pred)\n",
    "print(\"Random Forest Accuracy:\", rf_accuracy)\n"
   ]
  },
  {
   "cell_type": "code",
   "execution_count": 90,
   "id": "43594541",
   "metadata": {},
   "outputs": [
    {
     "name": "stdout",
     "output_type": "stream",
     "text": [
      "Logistic Regression Accuracy: 0.9322787801284368\n"
     ]
    },
    {
     "name": "stderr",
     "output_type": "stream",
     "text": [
      "c:\\Users\\Owner\\anaconda3\\Lib\\site-packages\\sklearn\\linear_model\\_logistic.py:460: ConvergenceWarning: lbfgs failed to converge (status=1):\n",
      "STOP: TOTAL NO. of ITERATIONS REACHED LIMIT.\n",
      "\n",
      "Increase the number of iterations (max_iter) or scale the data as shown in:\n",
      "    https://scikit-learn.org/stable/modules/preprocessing.html\n",
      "Please also refer to the documentation for alternative solver options:\n",
      "    https://scikit-learn.org/stable/modules/linear_model.html#logistic-regression\n",
      "  n_iter_i = _check_optimize_result(\n"
     ]
    }
   ],
   "source": [
    "\n",
    "# Train Logistic Regression model\n",
    "lr_model = LogisticRegression()\n",
    "lr_model.fit(X_train, y_train)\n",
    "lr_pred = lr_model.predict(X_test)\n",
    "lr_accuracy = accuracy_score(y_test, lr_pred)\n",
    "print(\"Logistic Regression Accuracy:\", lr_accuracy)\n"
   ]
  },
  {
   "cell_type": "code",
   "execution_count": 91,
   "id": "3b22c5c3",
   "metadata": {},
   "outputs": [
    {
     "name": "stderr",
     "output_type": "stream",
     "text": [
      "c:\\Users\\Owner\\anaconda3\\Lib\\site-packages\\sklearn\\base.py:464: UserWarning: X does not have valid feature names, but KNeighborsClassifier was fitted with feature names\n",
      "  warnings.warn(\n"
     ]
    },
    {
     "name": "stdout",
     "output_type": "stream",
     "text": [
      "kNN Accuracy: 0.9258569403130299\n"
     ]
    }
   ],
   "source": [
    "from sklearn.neighbors import KNeighborsClassifier\n",
    "from sklearn.metrics import accuracy_score\n",
    "\n",
    "# Ensure X_test is a numpy array and is C-contiguous\n",
    "X_test = np.asarray(X_test, order='C')\n",
    "\n",
    "knn_model = KNeighborsClassifier(n_neighbors=3) \n",
    "knn_model.fit(X_train, y_train)\n",
    "\n",
    "# Attempt prediction again with the modified X_test\n",
    "knn_pred = knn_model.predict(X_test)\n",
    "knn_accuracy = accuracy_score(y_test, knn_pred)\n",
    "\n",
    "print(\"kNN Accuracy:\", knn_accuracy)"
   ]
  },
  {
   "cell_type": "code",
   "execution_count": 92,
   "id": "ca8ec282",
   "metadata": {},
   "outputs": [
    {
     "data": {
      "image/png": "[encoded data removed]",
      "text/plain": [
       "<Figure size 800x600 with 1 Axes>"
      ]
     },
     "metadata": {},
     "output_type": "display_data"
    },
    {
     "data": {
      "image/png": "[encoded data removed]",
      "text/plain": [
       "<Figure size 800x600 with 1 Axes>"
      ]
     },
     "metadata": {},
     "output_type": "display_data"
    },
    {
     "data": {
      "image/png": "[encoded data removed]",
      "text/plain": [
       "<Figure size 800x600 with 1 Axes>"
      ]
     },
     "metadata": {},
     "output_type": "display_data"
    }
   ],
   "source": [
    "# Define function to plot confusion matrix\n",
    "def plot_confusion_matrix(y_true, y_pred, title):\n",
    "    cm = confusion_matrix(y_true, y_pred)\n",
    "    plt.figure(figsize=(8, 6))\n",
    "    sns.heatmap(cm, annot=True, cmap='Blues', fmt='d', cbar=False)\n",
    "    plt.title(title)\n",
    "    plt.xlabel('Predicted')\n",
    "    plt.ylabel('Actual')\n",
    "    plt.show()\n",
    "\n",
    "# Plot confusion matrix for kNN model\n",
    "plot_confusion_matrix(y_test, knn_pred, title='Confusion Matrix - kNN Model')\n",
    "\n",
    "# Plot confusion matrix for Logistic Regression model\n",
    "plot_confusion_matrix(y_test, lr_pred, title='Confusion Matrix - Logistic Regression Model')\n",
    "\n",
    "# Plot confusion matrix for Random Forest model\n",
    "plot_confusion_matrix(y_test, rf_pred, title='Confusion Matrix - Random Forest Model')"
   ]
  },
  {
   "cell_type": "code",
   "execution_count": 93,
   "id": "4b0c8701",
   "metadata": {},
   "outputs": [
    {
     "name": "stdout",
     "output_type": "stream",
     "text": [
      "Classification Report - kNN Model:\n",
      "              precision    recall  f1-score   support\n",
      "\n",
      "           0       0.95      0.96      0.95     28812\n",
      "           1       0.83      0.78      0.81      7159\n",
      "\n",
      "    accuracy                           0.93     35971\n",
      "   macro avg       0.89      0.87      0.88     35971\n",
      "weighted avg       0.92      0.93      0.92     35971\n",
      "\n",
      "\n",
      "Classification Report - Logistic Regression Model:\n",
      "              precision    recall  f1-score   support\n",
      "\n",
      "           0       0.96      0.95      0.96     28812\n",
      "           1       0.82      0.85      0.83      7159\n",
      "\n",
      "    accuracy                           0.93     35971\n",
      "   macro avg       0.89      0.90      0.90     35971\n",
      "weighted avg       0.93      0.93      0.93     35971\n",
      "\n",
      "\n",
      "Classification Report - Random Forest Model:\n",
      "              precision    recall  f1-score   support\n",
      "\n",
      "           0       0.97      0.98      0.98     28812\n",
      "           1       0.92      0.89      0.91      7159\n",
      "\n",
      "    accuracy                           0.96     35971\n",
      "   macro avg       0.95      0.94      0.94     35971\n",
      "weighted avg       0.96      0.96      0.96     35971\n",
      "\n"
     ]
    }
   ],
   "source": [
    "from sklearn.metrics import accuracy_score, precision_score, recall_score, f1_score, classification_report\n",
    "from sklearn.metrics import confusion_matrix\n",
    "\n",
    "# Classification report for kNN model\n",
    "print(\"Classification Report - kNN Model:\")\n",
    "print(classification_report(y_test, knn_pred))\n",
    "\n",
    "# Classification report for Logistic Regression model\n",
    "print(\"\\nClassification Report - Logistic Regression Model:\")\n",
    "print(classification_report(y_test, lr_pred))   \n",
    "\n",
    "# Classification report for Random Forest model\n",
    "print(\"\\nClassification Report - Random Forest Model:\")\n",
    "print(classification_report(y_test, rf_pred))"
   ]
  },
  {
   "cell_type": "code",
   "execution_count": 94,
   "id": "a614adfa",
   "metadata": {},
   "outputs": [
    {
     "data": {
      "image/png": "[encoded data removed]",
      "text/plain": [
       "<Figure size 800x600 with 1 Axes>"
      ]
     },
     "metadata": {},
     "output_type": "display_data"
    }
   ],
   "source": [
    "from sklearn.metrics import roc_curve, auc\n",
    "import matplotlib.pyplot as plt\n",
    "\n",
    "# Calculate ROC curve\n",
    "fpr, tpr, thresholds = roc_curve(y_test, rf_pred)\n",
    "roc_auc = auc(fpr, tpr)\n",
    "\n",
    "# Plot ROC curve\n",
    "plt.figure(figsize=(8, 6))\n",
    "plt.plot(fpr, tpr, color='blue', lw=2, label='ROC curve (AUC = %0.2f)' % roc_auc)\n",
    "plt.plot([0, 1], [0, 1], color='red', linestyle='--')\n",
    "plt.xlim([0.0, 1.0])\n",
    "plt.ylim([0.0, 1.05])\n",
    "plt.xlabel('False Positive Rate')\n",
    "plt.ylabel('True Positive Rate')\n",
    "plt.title('Receiver Operating Characteristic (ROC) Curve')\n",
    "plt.legend(loc='lower right')\n",
    "plt.show()"
   ]
  },
  {
   "cell_type": "code",
   "execution_count": 95,
   "id": "4654e807",
   "metadata": {},
   "outputs": [
    {
     "data": {
      "image/png": "[encoded data removed]",
      "text/plain": [
       "<Figure size 800x600 with 1 Axes>"
      ]
     },
     "metadata": {},
     "output_type": "display_data"
    }
   ],
   "source": [
    "from sklearn.metrics import precision_recall_curve\n",
    "\n",
    "# Calculate precision-recall curve\n",
    "precision, recall, _ = precision_recall_curve(y_test, rf_pred)\n",
    "\n",
    "# Plot precision-recall curve\n",
    "plt.figure(figsize=(8, 6))\n",
    "plt.plot(recall, precision, color='blue', lw=2, label='Precision-Recall curve')\n",
    "plt.xlabel('Recall')\n",
    "plt.ylabel('Precision')\n",
    "plt.title('Precision-Recall Curve')\n",
    "plt.legend(loc='lower left')\n",
    "plt.show()"
   ]
  }
 ],
 "metadata": {
  "kernelspec": {
   "display_name": "Python 3 (ipykernel)",
   "language": "python",
   "name": "python3"
  },
  "language_info": {
   "codemirror_mode": {
    "name": "ipython",
    "version": 3
   },
   "file_extension": ".py",
   "mimetype": "text/x-python",
   "name": "python",
   "nbconvert_exporter": "python",
   "pygments_lexer": "ipython3",
   "version": "3.11.5"
  }
 },
 "nbformat": 4,
 "nbformat_minor": 5
}
