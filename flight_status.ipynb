{
 "cells": [
  {
   "cell_type": "markdown",
   "id": "ae5c0d3b",
   "metadata": {},
   "source": [
    "# EECS 3401 Project \n",
    "\n",
    "## Filght Status Prediction\n"
   ]
  },
  {
   "cell_type": "markdown",
   "id": "13c6cfed",
   "metadata": {},
   "source": [
    "#### Can we predict if the flight is diverted?"
   ]
  },
  {
   "cell_type": "code",
   "execution_count": 1,
   "id": "e2e3ec60",
   "metadata": {
    "ExecuteTime": {
     "end_time": "2024-03-22T01:59:08.307633400Z",
     "start_time": "2024-03-22T01:59:08.076264800Z"
    }
   },
   "outputs": [],
   "source": [
    "import zipfile\n",
    "import pandas as pd\n",
    "import numpy as np\n",
    "import sklearn\n",
    "import matplotlib.pyplot as plt\n",
    "import seaborn as sns"
   ]
  },
  {
   "cell_type": "code",
   "execution_count": 2,
   "id": "9bbb0270",
   "metadata": {
    "ExecuteTime": {
     "end_time": "2024-03-22T01:59:41.607556400Z",
     "start_time": "2024-03-22T01:59:08.308642900Z"
    }
   },
   "outputs": [
    {
     "data": {
      "text/plain": "   FlightDate                                    Airline Origin Dest  \\\n0  2022-04-04  Commutair Aka Champlain Enterprises, Inc.    GJT  DEN   \n1  2022-04-04  Commutair Aka Champlain Enterprises, Inc.    HRL  IAH   \n2  2022-04-04  Commutair Aka Champlain Enterprises, Inc.    DRO  DEN   \n3  2022-04-04  Commutair Aka Champlain Enterprises, Inc.    IAH  GPT   \n4  2022-04-04  Commutair Aka Champlain Enterprises, Inc.    DRO  DEN   \n5  2022-04-04  Commutair Aka Champlain Enterprises, Inc.    DEN  TUL   \n6  2022-04-04  Commutair Aka Champlain Enterprises, Inc.    IAH  LCH   \n7  2022-04-04  Commutair Aka Champlain Enterprises, Inc.    TYS  IAH   \n8  2022-04-04  Commutair Aka Champlain Enterprises, Inc.    IAH  AEX   \n9  2022-04-04  Commutair Aka Champlain Enterprises, Inc.    IAH  MOB   \n\n   Cancelled  Diverted  CRSDepTime  DepTime  DepDelayMinutes  DepDelay  ...  \\\n0      False     False        1133   1123.0              0.0     -10.0  ...   \n1      False     False         732    728.0              0.0      -4.0  ...   \n2      False     False        1529   1514.0              0.0     -15.0  ...   \n3      False     False        1435   1430.0              0.0      -5.0  ...   \n4      False     False        1135   1135.0              0.0       0.0  ...   \n5      False     False         955    952.0              0.0      -3.0  ...   \n6      False     False        2139   2136.0              0.0      -3.0  ...   \n7      False     False        1129   1117.0              0.0     -12.0  ...   \n8      False     False        1424   1414.0              0.0     -10.0  ...   \n9      False     False         954    947.0              0.0      -7.0  ...   \n\n   WheelsOff  WheelsOn  TaxiIn  CRSArrTime  ArrDelay  ArrDel15  \\\n0     1140.0    1220.0     8.0        1245     -17.0       0.0   \n1      744.0     839.0     9.0         849      -1.0       0.0   \n2     1535.0    1622.0    14.0        1639      -3.0       0.0   \n3     1446.0    1543.0     4.0        1605     -18.0       0.0   \n4     1154.0    1243.0     8.0        1245       6.0       0.0   \n5     1017.0    1234.0     4.0        1240      -2.0       0.0   \n6     2147.0    2213.0     5.0        2231     -13.0       0.0   \n7     1139.0    1255.0    16.0        1306       5.0       0.0   \n8     1430.0    1507.0     6.0        1524     -11.0       0.0   \n9     1004.0    1104.0     6.0        1121     -11.0       0.0   \n\n   ArrivalDelayGroups  ArrTimeBlk  DistanceGroup  DivAirportLandings  \n0                -2.0   1200-1259              1                   0  \n1                -1.0   0800-0859              2                   0  \n2                -1.0   1600-1659              2                   0  \n3                -2.0   1600-1659              2                   0  \n4                 0.0   1200-1259              2                   0  \n5                -1.0   1200-1259              3                   0  \n6                -1.0   2200-2259              1                   0  \n7                 0.0   1300-1359              4                   0  \n8                -1.0   1500-1559              1                   0  \n9                -1.0   1100-1159              2                   0  \n\n[10 rows x 61 columns]",
      "text/html": "<div>\n<style scoped>\n    .dataframe tbody tr th:only-of-type {\n        vertical-align: middle;\n    }\n\n    .dataframe tbody tr th {\n        vertical-align: top;\n    }\n\n    .dataframe thead th {\n        text-align: right;\n    }\n</style>\n<table border=\"1\" class=\"dataframe\">\n  <thead>\n    <tr style=\"text-align: right;\">\n      <th></th>\n      <th>FlightDate</th>\n      <th>Airline</th>\n      <th>Origin</th>\n      <th>Dest</th>\n      <th>Cancelled</th>\n      <th>Diverted</th>\n      <th>CRSDepTime</th>\n      <th>DepTime</th>\n      <th>DepDelayMinutes</th>\n      <th>DepDelay</th>\n      <th>...</th>\n      <th>WheelsOff</th>\n      <th>WheelsOn</th>\n      <th>TaxiIn</th>\n      <th>CRSArrTime</th>\n      <th>ArrDelay</th>\n      <th>ArrDel15</th>\n      <th>ArrivalDelayGroups</th>\n      <th>ArrTimeBlk</th>\n      <th>DistanceGroup</th>\n      <th>DivAirportLandings</th>\n    </tr>\n  </thead>\n  <tbody>\n    <tr>\n      <th>0</th>\n      <td>2022-04-04</td>\n      <td>Commutair Aka Champlain Enterprises, Inc.</td>\n      <td>GJT</td>\n      <td>DEN</td>\n      <td>False</td>\n      <td>False</td>\n      <td>1133</td>\n      <td>1123.0</td>\n      <td>0.0</td>\n      <td>-10.0</td>\n      <td>...</td>\n      <td>1140.0</td>\n      <td>1220.0</td>\n      <td>8.0</td>\n      <td>1245</td>\n      <td>-17.0</td>\n      <td>0.0</td>\n      <td>-2.0</td>\n      <td>1200-1259</td>\n      <td>1</td>\n      <td>0</td>\n    </tr>\n    <tr>\n      <th>1</th>\n      <td>2022-04-04</td>\n      <td>Commutair Aka Champlain Enterprises, Inc.</td>\n      <td>HRL</td>\n      <td>IAH</td>\n      <td>False</td>\n      <td>False</td>\n      <td>732</td>\n      <td>728.0</td>\n      <td>0.0</td>\n      <td>-4.0</td>\n      <td>...</td>\n      <td>744.0</td>\n      <td>839.0</td>\n      <td>9.0</td>\n      <td>849</td>\n      <td>-1.0</td>\n      <td>0.0</td>\n      <td>-1.0</td>\n      <td>0800-0859</td>\n      <td>2</td>\n      <td>0</td>\n    </tr>\n    <tr>\n      <th>2</th>\n      <td>2022-04-04</td>\n      <td>Commutair Aka Champlain Enterprises, Inc.</td>\n      <td>DRO</td>\n      <td>DEN</td>\n      <td>False</td>\n      <td>False</td>\n      <td>1529</td>\n      <td>1514.0</td>\n      <td>0.0</td>\n      <td>-15.0</td>\n      <td>...</td>\n      <td>1535.0</td>\n      <td>1622.0</td>\n      <td>14.0</td>\n      <td>1639</td>\n      <td>-3.0</td>\n      <td>0.0</td>\n      <td>-1.0</td>\n      <td>1600-1659</td>\n      <td>2</td>\n      <td>0</td>\n    </tr>\n    <tr>\n      <th>3</th>\n      <td>2022-04-04</td>\n      <td>Commutair Aka Champlain Enterprises, Inc.</td>\n      <td>IAH</td>\n      <td>GPT</td>\n      <td>False</td>\n      <td>False</td>\n      <td>1435</td>\n      <td>1430.0</td>\n      <td>0.0</td>\n      <td>-5.0</td>\n      <td>...</td>\n      <td>1446.0</td>\n      <td>1543.0</td>\n      <td>4.0</td>\n      <td>1605</td>\n      <td>-18.0</td>\n      <td>0.0</td>\n      <td>-2.0</td>\n      <td>1600-1659</td>\n      <td>2</td>\n      <td>0</td>\n    </tr>\n    <tr>\n      <th>4</th>\n      <td>2022-04-04</td>\n      <td>Commutair Aka Champlain Enterprises, Inc.</td>\n      <td>DRO</td>\n      <td>DEN</td>\n      <td>False</td>\n      <td>False</td>\n      <td>1135</td>\n      <td>1135.0</td>\n      <td>0.0</td>\n      <td>0.0</td>\n      <td>...</td>\n      <td>1154.0</td>\n      <td>1243.0</td>\n      <td>8.0</td>\n      <td>1245</td>\n      <td>6.0</td>\n      <td>0.0</td>\n      <td>0.0</td>\n      <td>1200-1259</td>\n      <td>2</td>\n      <td>0</td>\n    </tr>\n    <tr>\n      <th>5</th>\n      <td>2022-04-04</td>\n      <td>Commutair Aka Champlain Enterprises, Inc.</td>\n      <td>DEN</td>\n      <td>TUL</td>\n      <td>False</td>\n      <td>False</td>\n      <td>955</td>\n      <td>952.0</td>\n      <td>0.0</td>\n      <td>-3.0</td>\n      <td>...</td>\n      <td>1017.0</td>\n      <td>1234.0</td>\n      <td>4.0</td>\n      <td>1240</td>\n      <td>-2.0</td>\n      <td>0.0</td>\n      <td>-1.0</td>\n      <td>1200-1259</td>\n      <td>3</td>\n      <td>0</td>\n    </tr>\n    <tr>\n      <th>6</th>\n      <td>2022-04-04</td>\n      <td>Commutair Aka Champlain Enterprises, Inc.</td>\n      <td>IAH</td>\n      <td>LCH</td>\n      <td>False</td>\n      <td>False</td>\n      <td>2139</td>\n      <td>2136.0</td>\n      <td>0.0</td>\n      <td>-3.0</td>\n      <td>...</td>\n      <td>2147.0</td>\n      <td>2213.0</td>\n      <td>5.0</td>\n      <td>2231</td>\n      <td>-13.0</td>\n      <td>0.0</td>\n      <td>-1.0</td>\n      <td>2200-2259</td>\n      <td>1</td>\n      <td>0</td>\n    </tr>\n    <tr>\n      <th>7</th>\n      <td>2022-04-04</td>\n      <td>Commutair Aka Champlain Enterprises, Inc.</td>\n      <td>TYS</td>\n      <td>IAH</td>\n      <td>False</td>\n      <td>False</td>\n      <td>1129</td>\n      <td>1117.0</td>\n      <td>0.0</td>\n      <td>-12.0</td>\n      <td>...</td>\n      <td>1139.0</td>\n      <td>1255.0</td>\n      <td>16.0</td>\n      <td>1306</td>\n      <td>5.0</td>\n      <td>0.0</td>\n      <td>0.0</td>\n      <td>1300-1359</td>\n      <td>4</td>\n      <td>0</td>\n    </tr>\n    <tr>\n      <th>8</th>\n      <td>2022-04-04</td>\n      <td>Commutair Aka Champlain Enterprises, Inc.</td>\n      <td>IAH</td>\n      <td>AEX</td>\n      <td>False</td>\n      <td>False</td>\n      <td>1424</td>\n      <td>1414.0</td>\n      <td>0.0</td>\n      <td>-10.0</td>\n      <td>...</td>\n      <td>1430.0</td>\n      <td>1507.0</td>\n      <td>6.0</td>\n      <td>1524</td>\n      <td>-11.0</td>\n      <td>0.0</td>\n      <td>-1.0</td>\n      <td>1500-1559</td>\n      <td>1</td>\n      <td>0</td>\n    </tr>\n    <tr>\n      <th>9</th>\n      <td>2022-04-04</td>\n      <td>Commutair Aka Champlain Enterprises, Inc.</td>\n      <td>IAH</td>\n      <td>MOB</td>\n      <td>False</td>\n      <td>False</td>\n      <td>954</td>\n      <td>947.0</td>\n      <td>0.0</td>\n      <td>-7.0</td>\n      <td>...</td>\n      <td>1004.0</td>\n      <td>1104.0</td>\n      <td>6.0</td>\n      <td>1121</td>\n      <td>-11.0</td>\n      <td>0.0</td>\n      <td>-1.0</td>\n      <td>1100-1159</td>\n      <td>2</td>\n      <td>0</td>\n    </tr>\n  </tbody>\n</table>\n<p>10 rows × 61 columns</p>\n</div>"
     },
     "execution_count": 2,
     "metadata": {},
     "output_type": "execute_result"
    }
   ],
   "source": [
    "# Specify the path to your compressed folder and the CSV file inside\n",
    "compressed_folder_path = 'Combined_Flights_2022.zip'\n",
    "csv_file_name = 'Combined_Flights_2022.csv'\n",
    "\n",
    "# Extract the contents of the ZIP file\n",
    "with zipfile.ZipFile(compressed_folder_path, 'r') as zip_ref:\n",
    "    zip_ref.extractall('path/to/extracted/folder')\n",
    "\n",
    "# Create the full path to the extracted CSV file\n",
    "csv_file_path = f'path/to/extracted/folder/{csv_file_name}'\n",
    "\n",
    "# Read the CSV file using pandas\n",
    "df = pd.read_csv(csv_file_path)\n",
    "#df = pd.read_csv('Combined_Flights_2022.csv')\n",
    "df.head(10)"
   ]
  },
  {
   "cell_type": "code",
   "execution_count": 3,
   "id": "1b6878c7",
   "metadata": {
    "ExecuteTime": {
     "end_time": "2024-03-22T01:59:41.659150400Z",
     "start_time": "2024-03-22T01:59:41.606550400Z"
    }
   },
   "outputs": [
    {
     "data": {
      "text/plain": "61"
     },
     "execution_count": 3,
     "metadata": {},
     "output_type": "execute_result"
    }
   ],
   "source": [
    "columns = df.columns\n",
    "len(columns)"
   ]
  },
  {
   "cell_type": "code",
   "execution_count": 4,
   "id": "dc5d0a64",
   "metadata": {
    "ExecuteTime": {
     "end_time": "2024-03-22T01:59:41.677191500Z",
     "start_time": "2024-03-22T01:59:41.621071100Z"
    }
   },
   "outputs": [
    {
     "data": {
      "text/plain": "Index(['FlightDate', 'Airline', 'Origin', 'Dest', 'Cancelled', 'Diverted',\n       'CRSDepTime', 'DepTime', 'DepDelayMinutes', 'DepDelay', 'ArrTime',\n       'ArrDelayMinutes', 'AirTime', 'CRSElapsedTime', 'ActualElapsedTime',\n       'Distance', 'Year', 'Quarter', 'Month', 'DayofMonth', 'DayOfWeek',\n       'Marketing_Airline_Network', 'Operated_or_Branded_Code_Share_Partners',\n       'DOT_ID_Marketing_Airline', 'IATA_Code_Marketing_Airline',\n       'Flight_Number_Marketing_Airline', 'Operating_Airline',\n       'DOT_ID_Operating_Airline', 'IATA_Code_Operating_Airline',\n       'Tail_Number', 'Flight_Number_Operating_Airline', 'OriginAirportID',\n       'OriginAirportSeqID', 'OriginCityMarketID', 'OriginCityName',\n       'OriginState', 'OriginStateFips', 'OriginStateName', 'OriginWac',\n       'DestAirportID', 'DestAirportSeqID', 'DestCityMarketID', 'DestCityName',\n       'DestState', 'DestStateFips', 'DestStateName', 'DestWac', 'DepDel15',\n       'DepartureDelayGroups', 'DepTimeBlk', 'TaxiOut', 'WheelsOff',\n       'WheelsOn', 'TaxiIn', 'CRSArrTime', 'ArrDelay', 'ArrDel15',\n       'ArrivalDelayGroups', 'ArrTimeBlk', 'DistanceGroup',\n       'DivAirportLandings'],\n      dtype='object')"
     },
     "execution_count": 4,
     "metadata": {},
     "output_type": "execute_result"
    }
   ],
   "source": [
    "columns"
   ]
  },
  {
   "cell_type": "code",
   "execution_count": 5,
   "id": "123a8787",
   "metadata": {
    "ExecuteTime": {
     "end_time": "2024-03-22T01:59:41.739796600Z",
     "start_time": "2024-03-22T01:59:41.636106600Z"
    }
   },
   "outputs": [
    {
     "data": {
      "text/plain": "4078318"
     },
     "execution_count": 5,
     "metadata": {},
     "output_type": "execute_result"
    }
   ],
   "source": [
    "len(df.index)"
   ]
  },
  {
   "cell_type": "code",
   "execution_count": 6,
   "id": "a0726b2f",
   "metadata": {
    "ExecuteTime": {
     "end_time": "2024-03-22T01:59:42.006671400Z",
     "start_time": "2024-03-22T01:59:41.769342500Z"
    }
   },
   "outputs": [
    {
     "data": {
      "text/plain": "array(['GJT', 'HRL', 'DRO', 'IAH', 'DEN', 'TYS', 'MOB', 'LNK', 'BHM',\n       'IAD', 'ECP', 'AEX', 'LFT', 'BTR', 'ABQ', 'BUF', 'ALB', 'HSV',\n       'TUL', 'CPR', 'CRP', 'EWR', 'DCA', 'STL', 'CVG', 'RIC', 'PVD',\n       'CLT', 'GSO', 'ERI', 'ORD', 'LEX', 'ABE', 'CAK', 'AVL', 'DAY',\n       'CHO', 'ROA', 'PWM', 'LIT', 'MKE', 'BTV', 'OMA', 'GRB', 'MLI',\n       'SDF', 'FNT', 'CHS', 'PIT', 'TVC', 'ATW', 'DLH', 'ROC', 'SPI',\n       'HPN', 'MBS', 'CID', 'MYR', 'CAE', 'SGF', 'AVP', 'GRR', 'DSM',\n       'CLE', 'PIA', 'MSN', 'MDT', 'SBN', 'MEM', 'ICT', 'SHV', 'XNA',\n       'DIK', 'GPT', 'PNS', 'LRD', 'LCH', 'MFE', 'FLG', 'BRO', 'SAF',\n       'PQI', 'ORF', 'LGA', 'SYR', 'RDU', 'ILM', 'IND', 'PHL', 'CMH',\n       'SCE', 'ITH', 'JAX', 'OKC', 'JAN', 'GSP', 'TXK', 'ELP', 'MAF',\n       'AUS', 'IDA', 'BNA', 'SAV', 'AMA', 'ATL', 'BDL', 'BLI', 'BOI',\n       'BOS', 'BUR', 'BWI', 'BZN', 'COS', 'DAL', 'DTW', 'EUG', 'FAT',\n       'FLL', 'GEG', 'HDN', 'HNL', 'HOU', 'ISP', 'ITO', 'KOA', 'LAS',\n       'LAX', 'LBB', 'LGB', 'LIH', 'MCI', 'MCO', 'MDW', 'MHT', 'MIA',\n       'MSP', 'MSY', 'MTJ', 'OAK', 'OGG', 'ONT', 'PBI', 'PDX', 'PHX',\n       'PSP', 'RNO', 'RSW', 'SAN', 'SAT', 'SBA', 'SEA', 'SFO', 'SJC',\n       'SJU', 'SLC', 'SMF', 'SNA', 'SRQ', 'TPA', 'TUS', 'VPS', 'DFW',\n       'HHH', 'BFL', 'FAR', 'YUM', 'MLB', 'FSD', 'MRY', 'BMI', 'RAP',\n       'DAB', 'FAY', 'GNV', 'MGM', 'STS', 'TLH', 'MFR', 'JFK', 'AGS',\n       'EYW', 'ORH', 'BGR', 'CHA', 'CRW', 'BQK', 'OAJ', 'LAN', 'AZO',\n       'DHN', 'TRI', 'BIS', 'VLD', 'ABY', 'GTR', 'MLU', 'MOT', 'RST',\n       'CWA', 'CSG', 'EVV', 'GFK', 'FWA', 'BGM', 'STT', 'EGE', 'JAC',\n       'MSO', 'STX', 'GUC', 'PHF', 'PGV', 'ART', 'HTS', 'LYH', 'FLO',\n       'SBY', 'ADQ', 'ANC', 'BET', 'BRW', 'SCC', 'JNU', 'KTN', 'CDV',\n       'YAK', 'FAI', 'SIT', 'PSG', 'WRG', 'OME', 'OTZ', 'PAE', 'ADK',\n       'BQN', 'PSE', 'BIL', 'FCA', 'TTN', 'ILG', 'SWF', 'USA', 'SFB',\n       'PIE', 'AZA', 'RFD', 'GRI', 'PBG', 'PGD', 'PVU', 'TOL', 'BLV',\n       'LCK', 'ELM', 'PSM', 'SCK', 'IAG', 'PSC', 'CKB', 'STC', 'HGR',\n       'OWB', 'SMX', 'GTF', 'RDM', 'OGD', 'PPG', 'GCK', 'ACT', 'ALO',\n       'LAW', 'GGG', 'COU', 'SPS', 'ABI', 'CMI', 'DRT', 'FSM', 'LSE',\n       'TYR', 'GRK', 'DBQ', 'BPT', 'MHK', 'SJT', 'SWO', 'MQT', 'SBP',\n       'CLL', 'ACY', 'LBE', 'EWN', 'ROW', 'SGU', 'ACV', 'ASE', 'XWA',\n       'HLN', 'OTH', 'SLN', 'LWS', 'HOB', 'HYS', 'ALS', 'CNY', 'RKS',\n       'DVL', 'JMS', 'PAH', 'PRC', 'RIW', 'BFF', 'DDC', 'SUX', 'CMX',\n       'MEI', 'JLN', 'EAU', 'GCC', 'SHR', 'TBN', 'FOD', 'LAR', 'VEL',\n       'OGS', 'PUB', 'VCT', 'DEC', 'CYS', 'LBF', 'JST', 'MCW', 'RDD',\n       'SHD', 'CGI', 'EAR', 'MKG', 'LWB', 'LBL', 'COD', 'PIB', 'BTM',\n       'SUN', 'IMT', 'RHI', 'ESC', 'APN', 'ABR', 'PLN', 'INL', 'BRD',\n       'HIB', 'CIU', 'PIH', 'TWF', 'EKO', 'BJI', 'CDC', 'YKM', 'PUW',\n       'ALW', 'EAT', 'DLG', 'AKN', 'GUM', 'SPN', 'BIH', 'WYS', 'ACK',\n       'BKG', 'GST', 'MVY', 'HYA', 'PIR', 'ATY'], dtype=object)"
     },
     "execution_count": 6,
     "metadata": {},
     "output_type": "execute_result"
    }
   ],
   "source": [
    "origin_airtport_city = df['Origin'].unique()\n",
    "origin_airtport_city"
   ]
  },
  {
   "cell_type": "code",
   "execution_count": 7,
   "id": "37d1191e",
   "metadata": {
    "ExecuteTime": {
     "end_time": "2024-03-22T01:59:42.126132200Z",
     "start_time": "2024-03-22T01:59:41.843537800Z"
    }
   },
   "outputs": [
    {
     "data": {
      "text/plain": "ATL    183697\nORD    172169\nDFW    161218\nDEN    158092\nCLT    126088\nLAX    111935\nLGA    100260\nSEA     98884\nLAS     97674\nPHX     96095\nName: Origin, dtype: int64"
     },
     "execution_count": 7,
     "metadata": {},
     "output_type": "execute_result"
    }
   ],
   "source": [
    "busiest_airports = df['Origin'].value_counts().nlargest(10)\n",
    "busiest_airports"
   ]
  },
  {
   "cell_type": "code",
   "execution_count": 8,
   "id": "b2b6bd62",
   "metadata": {
    "ExecuteTime": {
     "end_time": "2024-03-22T01:59:42.384885500Z",
     "start_time": "2024-03-22T01:59:42.075280400Z"
    }
   },
   "outputs": [
    {
     "data": {
      "text/plain": "      FlightDate                 Airline Origin Dest  Cancelled  Diverted  \\\n1855  2022-04-01  Southwest Airlines Co.    ATL  AUS      False     False   \n1856  2022-04-01  Southwest Airlines Co.    ATL  AUS      False     False   \n1857  2022-04-01  Southwest Airlines Co.    ATL  AUS      False     False   \n1858  2022-04-01  Southwest Airlines Co.    ATL  BNA      False     False   \n1859  2022-04-01  Southwest Airlines Co.    ATL  BNA      False     False   \n\n      CRSDepTime  DepTime  DepDelayMinutes  DepDelay  ...  WheelsOff  \\\n1855         820    832.0             12.0      12.0  ...      845.0   \n1856        1440   1505.0             25.0      25.0  ...     1516.0   \n1857        1955   2105.0             70.0      70.0  ...     2123.0   \n1858        1510   1547.0             37.0      37.0  ...     1601.0   \n1859         820    819.0              0.0      -1.0  ...      833.0   \n\n      WheelsOn  TaxiIn  CRSArrTime  ArrDelay  ArrDel15  ArrivalDelayGroups  \\\n1855    1000.0     4.0        1000       4.0       0.0                 0.0   \n1856    1625.0     7.0        1615      17.0       1.0                 1.0   \n1857    2232.0     5.0        2135      62.0       1.0                 4.0   \n1858    1539.0     8.0        1510      37.0       1.0                 2.0   \n1859     813.0     5.0         835     -17.0       0.0                -2.0   \n\n      ArrTimeBlk  DistanceGroup  DivAirportLandings  \n1855   1000-1059              4                   0  \n1856   1600-1659              4                   0  \n1857   2100-2159              4                   0  \n1858   1500-1559              1                   0  \n1859   0800-0859              1                   0  \n\n[5 rows x 61 columns]",
      "text/html": "<div>\n<style scoped>\n    .dataframe tbody tr th:only-of-type {\n        vertical-align: middle;\n    }\n\n    .dataframe tbody tr th {\n        vertical-align: top;\n    }\n\n    .dataframe thead th {\n        text-align: right;\n    }\n</style>\n<table border=\"1\" class=\"dataframe\">\n  <thead>\n    <tr style=\"text-align: right;\">\n      <th></th>\n      <th>FlightDate</th>\n      <th>Airline</th>\n      <th>Origin</th>\n      <th>Dest</th>\n      <th>Cancelled</th>\n      <th>Diverted</th>\n      <th>CRSDepTime</th>\n      <th>DepTime</th>\n      <th>DepDelayMinutes</th>\n      <th>DepDelay</th>\n      <th>...</th>\n      <th>WheelsOff</th>\n      <th>WheelsOn</th>\n      <th>TaxiIn</th>\n      <th>CRSArrTime</th>\n      <th>ArrDelay</th>\n      <th>ArrDel15</th>\n      <th>ArrivalDelayGroups</th>\n      <th>ArrTimeBlk</th>\n      <th>DistanceGroup</th>\n      <th>DivAirportLandings</th>\n    </tr>\n  </thead>\n  <tbody>\n    <tr>\n      <th>1855</th>\n      <td>2022-04-01</td>\n      <td>Southwest Airlines Co.</td>\n      <td>ATL</td>\n      <td>AUS</td>\n      <td>False</td>\n      <td>False</td>\n      <td>820</td>\n      <td>832.0</td>\n      <td>12.0</td>\n      <td>12.0</td>\n      <td>...</td>\n      <td>845.0</td>\n      <td>1000.0</td>\n      <td>4.0</td>\n      <td>1000</td>\n      <td>4.0</td>\n      <td>0.0</td>\n      <td>0.0</td>\n      <td>1000-1059</td>\n      <td>4</td>\n      <td>0</td>\n    </tr>\n    <tr>\n      <th>1856</th>\n      <td>2022-04-01</td>\n      <td>Southwest Airlines Co.</td>\n      <td>ATL</td>\n      <td>AUS</td>\n      <td>False</td>\n      <td>False</td>\n      <td>1440</td>\n      <td>1505.0</td>\n      <td>25.0</td>\n      <td>25.0</td>\n      <td>...</td>\n      <td>1516.0</td>\n      <td>1625.0</td>\n      <td>7.0</td>\n      <td>1615</td>\n      <td>17.0</td>\n      <td>1.0</td>\n      <td>1.0</td>\n      <td>1600-1659</td>\n      <td>4</td>\n      <td>0</td>\n    </tr>\n    <tr>\n      <th>1857</th>\n      <td>2022-04-01</td>\n      <td>Southwest Airlines Co.</td>\n      <td>ATL</td>\n      <td>AUS</td>\n      <td>False</td>\n      <td>False</td>\n      <td>1955</td>\n      <td>2105.0</td>\n      <td>70.0</td>\n      <td>70.0</td>\n      <td>...</td>\n      <td>2123.0</td>\n      <td>2232.0</td>\n      <td>5.0</td>\n      <td>2135</td>\n      <td>62.0</td>\n      <td>1.0</td>\n      <td>4.0</td>\n      <td>2100-2159</td>\n      <td>4</td>\n      <td>0</td>\n    </tr>\n    <tr>\n      <th>1858</th>\n      <td>2022-04-01</td>\n      <td>Southwest Airlines Co.</td>\n      <td>ATL</td>\n      <td>BNA</td>\n      <td>False</td>\n      <td>False</td>\n      <td>1510</td>\n      <td>1547.0</td>\n      <td>37.0</td>\n      <td>37.0</td>\n      <td>...</td>\n      <td>1601.0</td>\n      <td>1539.0</td>\n      <td>8.0</td>\n      <td>1510</td>\n      <td>37.0</td>\n      <td>1.0</td>\n      <td>2.0</td>\n      <td>1500-1559</td>\n      <td>1</td>\n      <td>0</td>\n    </tr>\n    <tr>\n      <th>1859</th>\n      <td>2022-04-01</td>\n      <td>Southwest Airlines Co.</td>\n      <td>ATL</td>\n      <td>BNA</td>\n      <td>False</td>\n      <td>False</td>\n      <td>820</td>\n      <td>819.0</td>\n      <td>0.0</td>\n      <td>-1.0</td>\n      <td>...</td>\n      <td>833.0</td>\n      <td>813.0</td>\n      <td>5.0</td>\n      <td>835</td>\n      <td>-17.0</td>\n      <td>0.0</td>\n      <td>-2.0</td>\n      <td>0800-0859</td>\n      <td>1</td>\n      <td>0</td>\n    </tr>\n  </tbody>\n</table>\n<p>5 rows × 61 columns</p>\n</div>"
     },
     "execution_count": 8,
     "metadata": {},
     "output_type": "execute_result"
    }
   ],
   "source": [
    "specific_origin_airport = 'ATL'  # Replace with the airport code you're interested in\n",
    "df_ATL_filtered = df[df['Origin'] == specific_origin_airport]\n",
    "df_ATL_filtered.head()"
   ]
  },
  {
   "cell_type": "markdown",
   "id": "00c5e18b",
   "metadata": {},
   "source": [
    "## Dropping Unwanted columns\n",
    "\n",
    "These columns represent unique IDs and code which don't provide much value\n",
    "in the training the model and are unrealated to the data analysis."
   ]
  },
  {
   "cell_type": "code",
   "execution_count": 9,
   "id": "eeb6534d",
   "metadata": {
    "ExecuteTime": {
     "end_time": "2024-03-22T01:59:42.481070200Z",
     "start_time": "2024-03-22T01:59:42.375384400Z"
    }
   },
   "outputs": [
    {
     "name": "stdout",
     "output_type": "stream",
     "text": [
      "FlightDate               object\n",
      "Airline                  object\n",
      "Origin                   object\n",
      "Dest                     object\n",
      "Cancelled                  bool\n",
      "Diverted                   bool\n",
      "CRSDepTime                int64\n",
      "DepTime                 float64\n",
      "DepDelayMinutes         float64\n",
      "DepDelay                float64\n",
      "ArrTime                 float64\n",
      "ArrDelayMinutes         float64\n",
      "AirTime                 float64\n",
      "CRSElapsedTime          float64\n",
      "ActualElapsedTime       float64\n",
      "Distance                float64\n",
      "Year                      int64\n",
      "Quarter                   int64\n",
      "Month                     int64\n",
      "DayofMonth                int64\n",
      "DayOfWeek                 int64\n",
      "DepDel15                float64\n",
      "DepartureDelayGroups    float64\n",
      "DepTimeBlk               object\n",
      "TaxiOut                 float64\n",
      "WheelsOff               float64\n",
      "WheelsOn                float64\n",
      "TaxiIn                  float64\n",
      "CRSArrTime                int64\n",
      "ArrDelay                float64\n",
      "ArrDel15                float64\n",
      "ArrivalDelayGroups      float64\n",
      "ArrTimeBlk               object\n",
      "DistanceGroup             int64\n",
      "DivAirportLandings        int64\n",
      "dtype: object\n"
     ]
    }
   ],
   "source": [
    "# List of columns to drop (IDs)\n",
    "id_columns_to_drop = ['DOT_ID_Marketing_Airline', 'DOT_ID_Operating_Airline', 'OriginAirportID',\n",
    "                      'OriginAirportSeqID', 'OriginCityMarketID', 'DestAirportID', 'DestAirportSeqID',\n",
    "                      'DestCityMarketID', 'Flight_Number_Marketing_Airline', 'Flight_Number_Operating_Airline',\n",
    "                      'IATA_Code_Marketing_Airline', 'IATA_Code_Operating_Airline', 'Tail_Number',\n",
    "                      'Marketing_Airline_Network', 'Operated_or_Branded_Code_Share_Partners',\n",
    "                   'OriginCityName', 'OriginState', 'DestCityName', 'DestState',\n",
    "                      'OriginStateName','OriginStateFips','OriginWac'\n",
    "                  ,'DestStateName','DestStateFips','DestWac','Operating_Airline']\n",
    "\n",
    "# Drop ID columns from the DataFrame\n",
    "df_ATL_filtered = df_ATL_filtered.drop(columns=id_columns_to_drop)\n",
    "\n",
    "# Print data types of the remaining columns\n",
    "print(df_ATL_filtered.dtypes)"
   ]
  },
  {
   "cell_type": "markdown",
   "id": "a33aad42",
   "metadata": {},
   "source": [
    "## 4. Prepare the data for Machine Learning algorithms."
   ]
  },
  {
   "cell_type": "markdown",
   "id": "90c180e6",
   "metadata": {},
   "source": [
    "### - Exploring the columns."
   ]
  },
  {
   "cell_type": "code",
   "execution_count": 10,
   "id": "eb99fda0",
   "metadata": {
    "ExecuteTime": {
     "end_time": "2024-03-22T01:59:42.510799300Z",
     "start_time": "2024-03-22T01:59:42.422957700Z"
    }
   },
   "outputs": [
    {
     "data": {
      "text/plain": "35"
     },
     "execution_count": 10,
     "metadata": {},
     "output_type": "execute_result"
    }
   ],
   "source": [
    "columns = df_ATL_filtered.columns\n",
    "len(columns)"
   ]
  },
  {
   "cell_type": "code",
   "execution_count": 11,
   "id": "e4091e64",
   "metadata": {
    "ExecuteTime": {
     "end_time": "2024-03-22T01:59:42.558353600Z",
     "start_time": "2024-03-22T01:59:42.437997900Z"
    }
   },
   "outputs": [
    {
     "data": {
      "text/plain": "183697"
     },
     "execution_count": 11,
     "metadata": {},
     "output_type": "execute_result"
    }
   ],
   "source": [
    "len(df_ATL_filtered.index)"
   ]
  },
  {
   "cell_type": "code",
   "execution_count": 12,
   "id": "7552aa2c",
   "metadata": {
    "ExecuteTime": {
     "end_time": "2024-03-22T01:59:42.662256900Z",
     "start_time": "2024-03-22T01:59:42.456026900Z"
    }
   },
   "outputs": [
    {
     "data": {
      "text/plain": "False    180265\nTrue       3432\nName: Cancelled, dtype: int64"
     },
     "execution_count": 12,
     "metadata": {},
     "output_type": "execute_result"
    }
   ],
   "source": [
    "cancel_count = df_ATL_filtered['Cancelled'].value_counts()\n",
    "cancel_count"
   ]
  },
  {
   "cell_type": "code",
   "execution_count": 13,
   "id": "d304de13",
   "metadata": {
    "ExecuteTime": {
     "end_time": "2024-03-22T01:59:42.664257200Z",
     "start_time": "2024-03-22T01:59:42.471555600Z"
    }
   },
   "outputs": [
    {
     "data": {
      "text/plain": "14"
     },
     "execution_count": 13,
     "metadata": {},
     "output_type": "execute_result"
    }
   ],
   "source": [
    "airlines = df_ATL_filtered['Airline'].unique()\n",
    "len(airlines)"
   ]
  },
  {
   "cell_type": "code",
   "execution_count": 14,
   "id": "b053978a",
   "metadata": {
    "ExecuteTime": {
     "end_time": "2024-03-22T01:59:42.709906800Z",
     "start_time": "2024-03-22T01:59:42.499610400Z"
    }
   },
   "outputs": [
    {
     "data": {
      "text/plain": "154"
     },
     "execution_count": 14,
     "metadata": {},
     "output_type": "execute_result"
    }
   ],
   "source": [
    "dest = df_ATL_filtered['Dest'].unique()\n",
    "len(dest)"
   ]
  },
  {
   "cell_type": "code",
   "execution_count": 15,
   "id": "636a1bb4",
   "metadata": {
    "ExecuteTime": {
     "end_time": "2024-03-22T02:01:28.792488500Z",
     "start_time": "2024-03-22T02:01:28.737549Z"
    }
   },
   "outputs": [
    {
     "data": {
      "text/plain": "         FlightDate                 Airline Origin Dest  Cancelled  Diverted  \\\n1935     2022-04-01  Southwest Airlines Co.    ATL  SRQ      False      True   \n5391     2022-04-02  Southwest Airlines Co.    ATL  JAN      False      True   \n56528    2022-04-30  Southwest Airlines Co.    ATL  MDW      False      True   \n56547    2022-04-30  Southwest Airlines Co.    ATL  TPA      False      True   \n61341    2022-04-06  Southwest Airlines Co.    ATL  FLL      False      True   \n...             ...                     ...    ...  ...        ...       ...   \n4058990  2022-03-24       Republic Airlines    ATL  DCA      False      True   \n4069796  2022-03-11       Republic Airlines    ATL  HHH      False      True   \n4069799  2022-03-12       Republic Airlines    ATL  HHH      False      True   \n4069890  2022-03-19       Republic Airlines    ATL  LEX      False      True   \n4078230  2022-03-24       Republic Airlines    ATL  EWR      False      True   \n\n         CRSDepTime  DepTime  DepDelayMinutes  DepDelay  ...  WheelsOff  \\\n1935           1015   1014.0              0.0      -1.0  ...     1031.0   \n5391           1110   1404.0            174.0     174.0  ...     1415.0   \n56528          1600   1601.0              1.0       1.0  ...     1613.0   \n56547          1610   1611.0              1.0       1.0  ...     1629.0   \n61341          1645   1710.0             25.0      25.0  ...     1755.0   \n...             ...      ...              ...       ...  ...        ...   \n4058990        2109   2105.0              0.0      -4.0  ...     2122.0   \n4069796        1515   1720.0            125.0     125.0  ...     1742.0   \n4069799        1111   1315.0            124.0     124.0  ...     1334.0   \n4069890        1925   1012.0            887.0     887.0  ...     1034.0   \n4078230        1947   2016.0             29.0      29.0  ...     2105.0   \n\n         WheelsOn  TaxiIn  CRSArrTime  ArrDelay  ArrDel15  ArrivalDelayGroups  \\\n1935       1432.0     4.0        1155       NaN       NaN                 NaN   \n5391          NaN     NaN        1130       NaN       NaN                 NaN   \n56528      2140.0     3.0        1650       NaN       NaN                 NaN   \n56547      2019.0    17.0        1735       NaN       NaN                 NaN   \n61341      2148.0     3.0        1840       NaN       NaN                 NaN   \n...           ...     ...         ...       ...       ...                 ...   \n4058990      32.0     3.0        2305       NaN       NaN                 NaN   \n4069796    2024.0     8.0        1625       NaN       NaN                 NaN   \n4069799       NaN     NaN        1221       NaN       NaN                 NaN   \n4069890    1130.0     6.0        2041       NaN       NaN                 NaN   \n4078230      23.0    19.0        2200       NaN       NaN                 NaN   \n\n         ArrTimeBlk  DistanceGroup  DivAirportLandings  \n1935      1100-1159              2                   1  \n5391      1100-1159              2                   1  \n56528     1600-1659              3                   1  \n56547     1700-1759              2                   1  \n61341     1800-1859              3                   1  \n...             ...            ...                 ...  \n4058990   2300-2359              3                   1  \n4069796   1600-1659              1                   1  \n4069799   1200-1259              1                   1  \n4069890   2000-2059              2                   1  \n4078230   2200-2259              3                   1  \n\n[413 rows x 35 columns]",
      "text/html": "<div>\n<style scoped>\n    .dataframe tbody tr th:only-of-type {\n        vertical-align: middle;\n    }\n\n    .dataframe tbody tr th {\n        vertical-align: top;\n    }\n\n    .dataframe thead th {\n        text-align: right;\n    }\n</style>\n<table border=\"1\" class=\"dataframe\">\n  <thead>\n    <tr style=\"text-align: right;\">\n      <th></th>\n      <th>FlightDate</th>\n      <th>Airline</th>\n      <th>Origin</th>\n      <th>Dest</th>\n      <th>Cancelled</th>\n      <th>Diverted</th>\n      <th>CRSDepTime</th>\n      <th>DepTime</th>\n      <th>DepDelayMinutes</th>\n      <th>DepDelay</th>\n      <th>...</th>\n      <th>WheelsOff</th>\n      <th>WheelsOn</th>\n      <th>TaxiIn</th>\n      <th>CRSArrTime</th>\n      <th>ArrDelay</th>\n      <th>ArrDel15</th>\n      <th>ArrivalDelayGroups</th>\n      <th>ArrTimeBlk</th>\n      <th>DistanceGroup</th>\n      <th>DivAirportLandings</th>\n    </tr>\n  </thead>\n  <tbody>\n    <tr>\n      <th>1935</th>\n      <td>2022-04-01</td>\n      <td>Southwest Airlines Co.</td>\n      <td>ATL</td>\n      <td>SRQ</td>\n      <td>False</td>\n      <td>True</td>\n      <td>1015</td>\n      <td>1014.0</td>\n      <td>0.0</td>\n      <td>-1.0</td>\n      <td>...</td>\n      <td>1031.0</td>\n      <td>1432.0</td>\n      <td>4.0</td>\n      <td>1155</td>\n      <td>NaN</td>\n      <td>NaN</td>\n      <td>NaN</td>\n      <td>1100-1159</td>\n      <td>2</td>\n      <td>1</td>\n    </tr>\n    <tr>\n      <th>5391</th>\n      <td>2022-04-02</td>\n      <td>Southwest Airlines Co.</td>\n      <td>ATL</td>\n      <td>JAN</td>\n      <td>False</td>\n      <td>True</td>\n      <td>1110</td>\n      <td>1404.0</td>\n      <td>174.0</td>\n      <td>174.0</td>\n      <td>...</td>\n      <td>1415.0</td>\n      <td>NaN</td>\n      <td>NaN</td>\n      <td>1130</td>\n      <td>NaN</td>\n      <td>NaN</td>\n      <td>NaN</td>\n      <td>1100-1159</td>\n      <td>2</td>\n      <td>1</td>\n    </tr>\n    <tr>\n      <th>56528</th>\n      <td>2022-04-30</td>\n      <td>Southwest Airlines Co.</td>\n      <td>ATL</td>\n      <td>MDW</td>\n      <td>False</td>\n      <td>True</td>\n      <td>1600</td>\n      <td>1601.0</td>\n      <td>1.0</td>\n      <td>1.0</td>\n      <td>...</td>\n      <td>1613.0</td>\n      <td>2140.0</td>\n      <td>3.0</td>\n      <td>1650</td>\n      <td>NaN</td>\n      <td>NaN</td>\n      <td>NaN</td>\n      <td>1600-1659</td>\n      <td>3</td>\n      <td>1</td>\n    </tr>\n    <tr>\n      <th>56547</th>\n      <td>2022-04-30</td>\n      <td>Southwest Airlines Co.</td>\n      <td>ATL</td>\n      <td>TPA</td>\n      <td>False</td>\n      <td>True</td>\n      <td>1610</td>\n      <td>1611.0</td>\n      <td>1.0</td>\n      <td>1.0</td>\n      <td>...</td>\n      <td>1629.0</td>\n      <td>2019.0</td>\n      <td>17.0</td>\n      <td>1735</td>\n      <td>NaN</td>\n      <td>NaN</td>\n      <td>NaN</td>\n      <td>1700-1759</td>\n      <td>2</td>\n      <td>1</td>\n    </tr>\n    <tr>\n      <th>61341</th>\n      <td>2022-04-06</td>\n      <td>Southwest Airlines Co.</td>\n      <td>ATL</td>\n      <td>FLL</td>\n      <td>False</td>\n      <td>True</td>\n      <td>1645</td>\n      <td>1710.0</td>\n      <td>25.0</td>\n      <td>25.0</td>\n      <td>...</td>\n      <td>1755.0</td>\n      <td>2148.0</td>\n      <td>3.0</td>\n      <td>1840</td>\n      <td>NaN</td>\n      <td>NaN</td>\n      <td>NaN</td>\n      <td>1800-1859</td>\n      <td>3</td>\n      <td>1</td>\n    </tr>\n    <tr>\n      <th>...</th>\n      <td>...</td>\n      <td>...</td>\n      <td>...</td>\n      <td>...</td>\n      <td>...</td>\n      <td>...</td>\n      <td>...</td>\n      <td>...</td>\n      <td>...</td>\n      <td>...</td>\n      <td>...</td>\n      <td>...</td>\n      <td>...</td>\n      <td>...</td>\n      <td>...</td>\n      <td>...</td>\n      <td>...</td>\n      <td>...</td>\n      <td>...</td>\n      <td>...</td>\n      <td>...</td>\n    </tr>\n    <tr>\n      <th>4058990</th>\n      <td>2022-03-24</td>\n      <td>Republic Airlines</td>\n      <td>ATL</td>\n      <td>DCA</td>\n      <td>False</td>\n      <td>True</td>\n      <td>2109</td>\n      <td>2105.0</td>\n      <td>0.0</td>\n      <td>-4.0</td>\n      <td>...</td>\n      <td>2122.0</td>\n      <td>32.0</td>\n      <td>3.0</td>\n      <td>2305</td>\n      <td>NaN</td>\n      <td>NaN</td>\n      <td>NaN</td>\n      <td>2300-2359</td>\n      <td>3</td>\n      <td>1</td>\n    </tr>\n    <tr>\n      <th>4069796</th>\n      <td>2022-03-11</td>\n      <td>Republic Airlines</td>\n      <td>ATL</td>\n      <td>HHH</td>\n      <td>False</td>\n      <td>True</td>\n      <td>1515</td>\n      <td>1720.0</td>\n      <td>125.0</td>\n      <td>125.0</td>\n      <td>...</td>\n      <td>1742.0</td>\n      <td>2024.0</td>\n      <td>8.0</td>\n      <td>1625</td>\n      <td>NaN</td>\n      <td>NaN</td>\n      <td>NaN</td>\n      <td>1600-1659</td>\n      <td>1</td>\n      <td>1</td>\n    </tr>\n    <tr>\n      <th>4069799</th>\n      <td>2022-03-12</td>\n      <td>Republic Airlines</td>\n      <td>ATL</td>\n      <td>HHH</td>\n      <td>False</td>\n      <td>True</td>\n      <td>1111</td>\n      <td>1315.0</td>\n      <td>124.0</td>\n      <td>124.0</td>\n      <td>...</td>\n      <td>1334.0</td>\n      <td>NaN</td>\n      <td>NaN</td>\n      <td>1221</td>\n      <td>NaN</td>\n      <td>NaN</td>\n      <td>NaN</td>\n      <td>1200-1259</td>\n      <td>1</td>\n      <td>1</td>\n    </tr>\n    <tr>\n      <th>4069890</th>\n      <td>2022-03-19</td>\n      <td>Republic Airlines</td>\n      <td>ATL</td>\n      <td>LEX</td>\n      <td>False</td>\n      <td>True</td>\n      <td>1925</td>\n      <td>1012.0</td>\n      <td>887.0</td>\n      <td>887.0</td>\n      <td>...</td>\n      <td>1034.0</td>\n      <td>1130.0</td>\n      <td>6.0</td>\n      <td>2041</td>\n      <td>NaN</td>\n      <td>NaN</td>\n      <td>NaN</td>\n      <td>2000-2059</td>\n      <td>2</td>\n      <td>1</td>\n    </tr>\n    <tr>\n      <th>4078230</th>\n      <td>2022-03-24</td>\n      <td>Republic Airlines</td>\n      <td>ATL</td>\n      <td>EWR</td>\n      <td>False</td>\n      <td>True</td>\n      <td>1947</td>\n      <td>2016.0</td>\n      <td>29.0</td>\n      <td>29.0</td>\n      <td>...</td>\n      <td>2105.0</td>\n      <td>23.0</td>\n      <td>19.0</td>\n      <td>2200</td>\n      <td>NaN</td>\n      <td>NaN</td>\n      <td>NaN</td>\n      <td>2200-2259</td>\n      <td>3</td>\n      <td>1</td>\n    </tr>\n  </tbody>\n</table>\n<p>413 rows × 35 columns</p>\n</div>"
     },
     "execution_count": 15,
     "metadata": {},
     "output_type": "execute_result"
    }
   ],
   "source": [
    "df_ATL_filtered[df_ATL_filtered['Diverted']==True]"
   ]
  },
  {
   "cell_type": "markdown",
   "id": "f939e06f",
   "metadata": {},
   "source": [
    "<strong>Note :</strong>\n",
    "\n",
    "By selecting only true values of Diverted column we see that there are some columns that contain nan. It makes sense because arrival details related columns will be empty because flight never reached actual destination. We have to drop these columns because filling this will not provide any value to the model training instead it will create underfitted outcome. So, we will drop such columns. The list of columns dropped is following.\n",
    "['ArrDelay', 'ArrDel15', 'ArrivalDelayGroups','ArrDelayMinutes','ActualElapsedTime','AirTime']."
   ]
  },
  {
   "cell_type": "code",
   "execution_count": 16,
   "outputs": [
    {
     "data": {
      "text/plain": "      FlightDate                 Airline Origin Dest  Cancelled  Diverted  \\\n1855  2022-04-01  Southwest Airlines Co.    ATL  AUS      False     False   \n1856  2022-04-01  Southwest Airlines Co.    ATL  AUS      False     False   \n1857  2022-04-01  Southwest Airlines Co.    ATL  AUS      False     False   \n1858  2022-04-01  Southwest Airlines Co.    ATL  BNA      False     False   \n1859  2022-04-01  Southwest Airlines Co.    ATL  BNA      False     False   \n\n      CRSDepTime  DepTime  DepDelayMinutes  DepDelay  ...  \\\n1855         820    832.0             12.0      12.0  ...   \n1856        1440   1505.0             25.0      25.0  ...   \n1857        1955   2105.0             70.0      70.0  ...   \n1858        1510   1547.0             37.0      37.0  ...   \n1859         820    819.0              0.0      -1.0  ...   \n\n      DepartureDelayGroups  DepTimeBlk  TaxiOut  WheelsOff  WheelsOn  TaxiIn  \\\n1855                   0.0   0800-0859     13.0      845.0    1000.0     4.0   \n1856                   1.0   1400-1459     11.0     1516.0    1625.0     7.0   \n1857                   4.0   1900-1959     18.0     2123.0    2232.0     5.0   \n1858                   2.0   1500-1559     14.0     1601.0    1539.0     8.0   \n1859                  -1.0   0800-0859     14.0      833.0     813.0     5.0   \n\n      CRSArrTime  ArrTimeBlk  DistanceGroup  DivAirportLandings  \n1855        1000   1000-1059              4                   0  \n1856        1615   1600-1659              4                   0  \n1857        2135   2100-2159              4                   0  \n1858        1510   1500-1559              1                   0  \n1859         835   0800-0859              1                   0  \n\n[5 rows x 29 columns]",
      "text/html": "<div>\n<style scoped>\n    .dataframe tbody tr th:only-of-type {\n        vertical-align: middle;\n    }\n\n    .dataframe tbody tr th {\n        vertical-align: top;\n    }\n\n    .dataframe thead th {\n        text-align: right;\n    }\n</style>\n<table border=\"1\" class=\"dataframe\">\n  <thead>\n    <tr style=\"text-align: right;\">\n      <th></th>\n      <th>FlightDate</th>\n      <th>Airline</th>\n      <th>Origin</th>\n      <th>Dest</th>\n      <th>Cancelled</th>\n      <th>Diverted</th>\n      <th>CRSDepTime</th>\n      <th>DepTime</th>\n      <th>DepDelayMinutes</th>\n      <th>DepDelay</th>\n      <th>...</th>\n      <th>DepartureDelayGroups</th>\n      <th>DepTimeBlk</th>\n      <th>TaxiOut</th>\n      <th>WheelsOff</th>\n      <th>WheelsOn</th>\n      <th>TaxiIn</th>\n      <th>CRSArrTime</th>\n      <th>ArrTimeBlk</th>\n      <th>DistanceGroup</th>\n      <th>DivAirportLandings</th>\n    </tr>\n  </thead>\n  <tbody>\n    <tr>\n      <th>1855</th>\n      <td>2022-04-01</td>\n      <td>Southwest Airlines Co.</td>\n      <td>ATL</td>\n      <td>AUS</td>\n      <td>False</td>\n      <td>False</td>\n      <td>820</td>\n      <td>832.0</td>\n      <td>12.0</td>\n      <td>12.0</td>\n      <td>...</td>\n      <td>0.0</td>\n      <td>0800-0859</td>\n      <td>13.0</td>\n      <td>845.0</td>\n      <td>1000.0</td>\n      <td>4.0</td>\n      <td>1000</td>\n      <td>1000-1059</td>\n      <td>4</td>\n      <td>0</td>\n    </tr>\n    <tr>\n      <th>1856</th>\n      <td>2022-04-01</td>\n      <td>Southwest Airlines Co.</td>\n      <td>ATL</td>\n      <td>AUS</td>\n      <td>False</td>\n      <td>False</td>\n      <td>1440</td>\n      <td>1505.0</td>\n      <td>25.0</td>\n      <td>25.0</td>\n      <td>...</td>\n      <td>1.0</td>\n      <td>1400-1459</td>\n      <td>11.0</td>\n      <td>1516.0</td>\n      <td>1625.0</td>\n      <td>7.0</td>\n      <td>1615</td>\n      <td>1600-1659</td>\n      <td>4</td>\n      <td>0</td>\n    </tr>\n    <tr>\n      <th>1857</th>\n      <td>2022-04-01</td>\n      <td>Southwest Airlines Co.</td>\n      <td>ATL</td>\n      <td>AUS</td>\n      <td>False</td>\n      <td>False</td>\n      <td>1955</td>\n      <td>2105.0</td>\n      <td>70.0</td>\n      <td>70.0</td>\n      <td>...</td>\n      <td>4.0</td>\n      <td>1900-1959</td>\n      <td>18.0</td>\n      <td>2123.0</td>\n      <td>2232.0</td>\n      <td>5.0</td>\n      <td>2135</td>\n      <td>2100-2159</td>\n      <td>4</td>\n      <td>0</td>\n    </tr>\n    <tr>\n      <th>1858</th>\n      <td>2022-04-01</td>\n      <td>Southwest Airlines Co.</td>\n      <td>ATL</td>\n      <td>BNA</td>\n      <td>False</td>\n      <td>False</td>\n      <td>1510</td>\n      <td>1547.0</td>\n      <td>37.0</td>\n      <td>37.0</td>\n      <td>...</td>\n      <td>2.0</td>\n      <td>1500-1559</td>\n      <td>14.0</td>\n      <td>1601.0</td>\n      <td>1539.0</td>\n      <td>8.0</td>\n      <td>1510</td>\n      <td>1500-1559</td>\n      <td>1</td>\n      <td>0</td>\n    </tr>\n    <tr>\n      <th>1859</th>\n      <td>2022-04-01</td>\n      <td>Southwest Airlines Co.</td>\n      <td>ATL</td>\n      <td>BNA</td>\n      <td>False</td>\n      <td>False</td>\n      <td>820</td>\n      <td>819.0</td>\n      <td>0.0</td>\n      <td>-1.0</td>\n      <td>...</td>\n      <td>-1.0</td>\n      <td>0800-0859</td>\n      <td>14.0</td>\n      <td>833.0</td>\n      <td>813.0</td>\n      <td>5.0</td>\n      <td>835</td>\n      <td>0800-0859</td>\n      <td>1</td>\n      <td>0</td>\n    </tr>\n  </tbody>\n</table>\n<p>5 rows × 29 columns</p>\n</div>"
     },
     "execution_count": 16,
     "metadata": {},
     "output_type": "execute_result"
    }
   ],
   "source": [
    "# Drop the columns from the DataFrame\n",
    "df_ATL_filtered = df_ATL_filtered.drop(columns=['ArrDelay', 'ArrDel15', 'ArrivalDelayGroups','ArrDelayMinutes','ActualElapsedTime','AirTime'])\n",
    "df_ATL_filtered.head()"
   ],
   "metadata": {
    "collapsed": false,
    "ExecuteTime": {
     "end_time": "2024-03-22T02:09:30.984194400Z",
     "start_time": "2024-03-22T02:09:30.907932100Z"
    }
   },
   "id": "1c5ff677927309cc"
  },
  {
   "cell_type": "code",
   "execution_count": 19,
   "id": "6d2e42a7",
   "metadata": {
    "ExecuteTime": {
     "end_time": "2024-03-22T02:12:34.782575700Z",
     "start_time": "2024-03-22T02:12:34.729373700Z"
    }
   },
   "outputs": [
    {
     "data": {
      "text/plain": "         DepDelay  DepDelayMinutes ArrTimeBlk DepTimeBlk  FlightDate Origin  \\\n1855         12.0             12.0  1000-1059  0800-0859  2022-04-01    ATL   \n1856         25.0             25.0  1600-1659  1400-1459  2022-04-01    ATL   \n1857         70.0             70.0  2100-2159  1900-1959  2022-04-01    ATL   \n1858         37.0             37.0  1500-1559  1500-1559  2022-04-01    ATL   \n1859         -1.0              0.0  0800-0859  0800-0859  2022-04-01    ATL   \n...           ...              ...        ...        ...         ...    ...   \n4077926      11.0             11.0  2100-2159  1900-1959  2022-03-31    ATL   \n4077960      35.0             35.0  2200-2259  1900-1959  2022-03-31    ATL   \n4078230      29.0             29.0  2200-2259  1900-1959  2022-03-24    ATL   \n4078259     149.0            149.0  1900-1959  1700-1759  2022-03-13    ATL   \n4078304      -4.0              0.0  1400-1459  1200-1259  2022-03-31    ATL   \n\n        Dest  DepartureDelayGroups  \n1855     AUS                   0.0  \n1856     AUS                   1.0  \n1857     AUS                   4.0  \n1858     BNA                   2.0  \n1859     BNA                  -1.0  \n...      ...                   ...  \n4077926  IAD                   0.0  \n4077960  EWR                   2.0  \n4078230  EWR                   1.0  \n4078259  EWR                   9.0  \n4078304  EWR                  -1.0  \n\n[183697 rows x 8 columns]",
      "text/html": "<div>\n<style scoped>\n    .dataframe tbody tr th:only-of-type {\n        vertical-align: middle;\n    }\n\n    .dataframe tbody tr th {\n        vertical-align: top;\n    }\n\n    .dataframe thead th {\n        text-align: right;\n    }\n</style>\n<table border=\"1\" class=\"dataframe\">\n  <thead>\n    <tr style=\"text-align: right;\">\n      <th></th>\n      <th>DepDelay</th>\n      <th>DepDelayMinutes</th>\n      <th>ArrTimeBlk</th>\n      <th>DepTimeBlk</th>\n      <th>FlightDate</th>\n      <th>Origin</th>\n      <th>Dest</th>\n      <th>DepartureDelayGroups</th>\n    </tr>\n  </thead>\n  <tbody>\n    <tr>\n      <th>1855</th>\n      <td>12.0</td>\n      <td>12.0</td>\n      <td>1000-1059</td>\n      <td>0800-0859</td>\n      <td>2022-04-01</td>\n      <td>ATL</td>\n      <td>AUS</td>\n      <td>0.0</td>\n    </tr>\n    <tr>\n      <th>1856</th>\n      <td>25.0</td>\n      <td>25.0</td>\n      <td>1600-1659</td>\n      <td>1400-1459</td>\n      <td>2022-04-01</td>\n      <td>ATL</td>\n      <td>AUS</td>\n      <td>1.0</td>\n    </tr>\n    <tr>\n      <th>1857</th>\n      <td>70.0</td>\n      <td>70.0</td>\n      <td>2100-2159</td>\n      <td>1900-1959</td>\n      <td>2022-04-01</td>\n      <td>ATL</td>\n      <td>AUS</td>\n      <td>4.0</td>\n    </tr>\n    <tr>\n      <th>1858</th>\n      <td>37.0</td>\n      <td>37.0</td>\n      <td>1500-1559</td>\n      <td>1500-1559</td>\n      <td>2022-04-01</td>\n      <td>ATL</td>\n      <td>BNA</td>\n      <td>2.0</td>\n    </tr>\n    <tr>\n      <th>1859</th>\n      <td>-1.0</td>\n      <td>0.0</td>\n      <td>0800-0859</td>\n      <td>0800-0859</td>\n      <td>2022-04-01</td>\n      <td>ATL</td>\n      <td>BNA</td>\n      <td>-1.0</td>\n    </tr>\n    <tr>\n      <th>...</th>\n      <td>...</td>\n      <td>...</td>\n      <td>...</td>\n      <td>...</td>\n      <td>...</td>\n      <td>...</td>\n      <td>...</td>\n      <td>...</td>\n    </tr>\n    <tr>\n      <th>4077926</th>\n      <td>11.0</td>\n      <td>11.0</td>\n      <td>2100-2159</td>\n      <td>1900-1959</td>\n      <td>2022-03-31</td>\n      <td>ATL</td>\n      <td>IAD</td>\n      <td>0.0</td>\n    </tr>\n    <tr>\n      <th>4077960</th>\n      <td>35.0</td>\n      <td>35.0</td>\n      <td>2200-2259</td>\n      <td>1900-1959</td>\n      <td>2022-03-31</td>\n      <td>ATL</td>\n      <td>EWR</td>\n      <td>2.0</td>\n    </tr>\n    <tr>\n      <th>4078230</th>\n      <td>29.0</td>\n      <td>29.0</td>\n      <td>2200-2259</td>\n      <td>1900-1959</td>\n      <td>2022-03-24</td>\n      <td>ATL</td>\n      <td>EWR</td>\n      <td>1.0</td>\n    </tr>\n    <tr>\n      <th>4078259</th>\n      <td>149.0</td>\n      <td>149.0</td>\n      <td>1900-1959</td>\n      <td>1700-1759</td>\n      <td>2022-03-13</td>\n      <td>ATL</td>\n      <td>EWR</td>\n      <td>9.0</td>\n    </tr>\n    <tr>\n      <th>4078304</th>\n      <td>-4.0</td>\n      <td>0.0</td>\n      <td>1400-1459</td>\n      <td>1200-1259</td>\n      <td>2022-03-31</td>\n      <td>ATL</td>\n      <td>EWR</td>\n      <td>-1.0</td>\n    </tr>\n  </tbody>\n</table>\n<p>183697 rows × 8 columns</p>\n</div>"
     },
     "execution_count": 19,
     "metadata": {},
     "output_type": "execute_result"
    }
   ],
   "source": [
    "df_ATL_filtered[['DepDelay','DepDelayMinutes','ArrTimeBlk','DepTimeBlk','FlightDate','Origin','Dest','DepartureDelayGroups']]"
   ]
  },
  {
   "cell_type": "markdown",
   "id": "d32b967b",
   "metadata": {},
   "source": [
    "We can observe follwing - \n",
    "1. There are 14 unique airlines taking off from the Atlante airport. This information is required in model training.\n",
    "2. There are 154 destination where the origin was 'ATL'.\n",
    "3. ArrTimeBlk and DepTimeBlk columns are represent hourly intervals so we will take in consideration the start of the hour\n",
    "for example - '1000-1059' we will on consider '10' hours.\n",
    "4. The columns representing _Delay and _DelayMinutes represent same things but have slight differnce in handling early departures and early arrivals\n",
    "for our model we to check by using both columns separtly and compare which contributes to more accurate models.\n",
    "5. Orgin column will be dropped cause its redundant for us.\n",
    "6. We will also drop the year and quarter columns, the  main reason for that is we are taking data from year 2022 thats why its totally \n",
    "useless for us.\n",
    "7. We need to convert the columns reperesenting time in 'hhmm' format using sine and cosine function to capture their cyclical nature,\n",
    "if we don't do so then the ml algorithms will plot time as continous form which is not the case\n"
   ]
  },
  {
   "cell_type": "markdown",
   "id": "9845eef9",
   "metadata": {},
   "source": [
    "### - Dropping the uneccesary columns"
   ]
  },
  {
   "cell_type": "code",
   "execution_count": 21,
   "id": "66ab6e49",
   "metadata": {
    "ExecuteTime": {
     "end_time": "2024-03-22T02:13:16.611071Z",
     "start_time": "2024-03-22T02:13:16.554588500Z"
    }
   },
   "outputs": [
    {
     "name": "stdout",
     "output_type": "stream",
     "text": [
      "Cancelled                  bool\n",
      "Diverted                   bool\n",
      "CRSDepTime                int64\n",
      "DepTime                 float64\n",
      "DepDelayMinutes         float64\n",
      "ArrTime                 float64\n",
      "CRSElapsedTime          float64\n",
      "Distance                float64\n",
      "Month                     int64\n",
      "DayofMonth                int64\n",
      "DayOfWeek                 int64\n",
      "DepDel15                float64\n",
      "DepartureDelayGroups    float64\n",
      "DepTimeBlk               object\n",
      "TaxiOut                 float64\n",
      "WheelsOff               float64\n",
      "WheelsOn                float64\n",
      "TaxiIn                  float64\n",
      "CRSArrTime                int64\n",
      "ArrTimeBlk               object\n",
      "DistanceGroup             int64\n",
      "DivAirportLandings        int64\n",
      "dtype: object\n"
     ]
    }
   ],
   "source": [
    "# dropping columns that are not useful for model training.\n",
    "# Initially we will drop the ArrDelay and DepDelay for the first run\n",
    "list_cols_drop_ml = ['FlightDate','Year','Airline','Origin','Dest', 'DepDelay','Quarter']\n",
    "df_ATL_filtered = df_ATL_filtered.drop(columns=list_cols_drop_ml)\n",
    "print(df_ATL_filtered.dtypes)\n",
    "\n"
   ]
  },
  {
   "cell_type": "code",
   "execution_count": 22,
   "id": "23b67337",
   "metadata": {
    "ExecuteTime": {
     "end_time": "2024-03-22T02:13:31.931363Z",
     "start_time": "2024-03-22T02:13:31.916844600Z"
    }
   },
   "outputs": [
    {
     "name": "stdout",
     "output_type": "stream",
     "text": [
      "Total columns - 22\n"
     ]
    }
   ],
   "source": [
    "columns = df_ATL_filtered.columns\n",
    "print('Total columns - ' + str(len(columns)))"
   ]
  },
  {
   "cell_type": "markdown",
   "id": "29616efc",
   "metadata": {},
   "source": [
    "### - Extracting hour from the ArrTimeBlk and DepTimeBlk time intervals"
   ]
  },
  {
   "cell_type": "code",
   "execution_count": 23,
   "id": "5e401c98",
   "metadata": {
    "ExecuteTime": {
     "end_time": "2024-03-22T02:13:36.495781900Z",
     "start_time": "2024-03-22T02:13:35.721503600Z"
    }
   },
   "outputs": [
    {
     "name": "stdout",
     "output_type": "stream",
     "text": [
      "Cancelled                  bool\n",
      "Diverted                   bool\n",
      "CRSDepTime                int64\n",
      "DepTime                 float64\n",
      "DepDelayMinutes         float64\n",
      "ArrTime                 float64\n",
      "CRSElapsedTime          float64\n",
      "Distance                float64\n",
      "Month                     int64\n",
      "DayofMonth                int64\n",
      "DayOfWeek                 int64\n",
      "DepDel15                float64\n",
      "DepartureDelayGroups    float64\n",
      "DepTimeBlk               object\n",
      "TaxiOut                 float64\n",
      "WheelsOff               float64\n",
      "WheelsOn                float64\n",
      "TaxiIn                  float64\n",
      "CRSArrTime                int64\n",
      "ArrTimeBlk               object\n",
      "DistanceGroup             int64\n",
      "DivAirportLandings        int64\n",
      "ArrTimeBlk_numeric        int32\n",
      "DepTimeBlk_numeric        int32\n",
      "dtype: object\n"
     ]
    }
   ],
   "source": [
    "# 'ArrTimeBlk' and 'DepTimeBlk' are the columns with time block intervals\n",
    "df_ATL_filtered['ArrTimeBlk_numeric'] = df_ATL_filtered['ArrTimeBlk'].str.split('-').str[0].astype(int)\n",
    "\n",
    "# Repeat the process for 'DepTimeBlk' \n",
    "df_ATL_filtered['DepTimeBlk_numeric'] = df_ATL_filtered['DepTimeBlk'].str.split('-').str[0].astype(int)\n",
    "\n",
    "# Print data types of the updated DataFrame\n",
    "print(df_ATL_filtered.dtypes)"
   ]
  },
  {
   "cell_type": "code",
   "execution_count": 24,
   "id": "e2b90821",
   "metadata": {
    "ExecuteTime": {
     "end_time": "2024-03-22T02:13:45.087938800Z",
     "start_time": "2024-03-22T02:13:45.032612600Z"
    }
   },
   "outputs": [
    {
     "data": {
      "text/plain": "      Cancelled  Diverted  CRSDepTime  DepTime  DepDelayMinutes  ArrTime  \\\n1855      False     False         820    832.0             12.0   1004.0   \n1856      False     False        1440   1505.0             25.0   1632.0   \n1857      False     False        1955   2105.0             70.0   2237.0   \n1858      False     False        1510   1547.0             37.0   1547.0   \n1859      False     False         820    819.0              0.0    818.0   \n\n      CRSElapsedTime  Distance  Month  DayofMonth  ...  DepartureDelayGroups  \\\n1855           160.0     813.0      4           1  ...                   0.0   \n1856           155.0     813.0      4           1  ...                   1.0   \n1857           160.0     813.0      4           1  ...                   4.0   \n1858            60.0     214.0      4           1  ...                   2.0   \n1859            75.0     214.0      4           1  ...                  -1.0   \n\n      TaxiOut  WheelsOff  WheelsOn  TaxiIn  CRSArrTime  DistanceGroup  \\\n1855     13.0      845.0    1000.0     4.0        1000              4   \n1856     11.0     1516.0    1625.0     7.0        1615              4   \n1857     18.0     2123.0    2232.0     5.0        2135              4   \n1858     14.0     1601.0    1539.0     8.0        1510              1   \n1859     14.0      833.0     813.0     5.0         835              1   \n\n      DivAirportLandings  ArrTimeBlk_numeric  DepTimeBlk_numeric  \n1855                   0                1000                 800  \n1856                   0                1600                1400  \n1857                   0                2100                1900  \n1858                   0                1500                1500  \n1859                   0                 800                 800  \n\n[5 rows x 22 columns]",
      "text/html": "<div>\n<style scoped>\n    .dataframe tbody tr th:only-of-type {\n        vertical-align: middle;\n    }\n\n    .dataframe tbody tr th {\n        vertical-align: top;\n    }\n\n    .dataframe thead th {\n        text-align: right;\n    }\n</style>\n<table border=\"1\" class=\"dataframe\">\n  <thead>\n    <tr style=\"text-align: right;\">\n      <th></th>\n      <th>Cancelled</th>\n      <th>Diverted</th>\n      <th>CRSDepTime</th>\n      <th>DepTime</th>\n      <th>DepDelayMinutes</th>\n      <th>ArrTime</th>\n      <th>CRSElapsedTime</th>\n      <th>Distance</th>\n      <th>Month</th>\n      <th>DayofMonth</th>\n      <th>...</th>\n      <th>DepartureDelayGroups</th>\n      <th>TaxiOut</th>\n      <th>WheelsOff</th>\n      <th>WheelsOn</th>\n      <th>TaxiIn</th>\n      <th>CRSArrTime</th>\n      <th>DistanceGroup</th>\n      <th>DivAirportLandings</th>\n      <th>ArrTimeBlk_numeric</th>\n      <th>DepTimeBlk_numeric</th>\n    </tr>\n  </thead>\n  <tbody>\n    <tr>\n      <th>1855</th>\n      <td>False</td>\n      <td>False</td>\n      <td>820</td>\n      <td>832.0</td>\n      <td>12.0</td>\n      <td>1004.0</td>\n      <td>160.0</td>\n      <td>813.0</td>\n      <td>4</td>\n      <td>1</td>\n      <td>...</td>\n      <td>0.0</td>\n      <td>13.0</td>\n      <td>845.0</td>\n      <td>1000.0</td>\n      <td>4.0</td>\n      <td>1000</td>\n      <td>4</td>\n      <td>0</td>\n      <td>1000</td>\n      <td>800</td>\n    </tr>\n    <tr>\n      <th>1856</th>\n      <td>False</td>\n      <td>False</td>\n      <td>1440</td>\n      <td>1505.0</td>\n      <td>25.0</td>\n      <td>1632.0</td>\n      <td>155.0</td>\n      <td>813.0</td>\n      <td>4</td>\n      <td>1</td>\n      <td>...</td>\n      <td>1.0</td>\n      <td>11.0</td>\n      <td>1516.0</td>\n      <td>1625.0</td>\n      <td>7.0</td>\n      <td>1615</td>\n      <td>4</td>\n      <td>0</td>\n      <td>1600</td>\n      <td>1400</td>\n    </tr>\n    <tr>\n      <th>1857</th>\n      <td>False</td>\n      <td>False</td>\n      <td>1955</td>\n      <td>2105.0</td>\n      <td>70.0</td>\n      <td>2237.0</td>\n      <td>160.0</td>\n      <td>813.0</td>\n      <td>4</td>\n      <td>1</td>\n      <td>...</td>\n      <td>4.0</td>\n      <td>18.0</td>\n      <td>2123.0</td>\n      <td>2232.0</td>\n      <td>5.0</td>\n      <td>2135</td>\n      <td>4</td>\n      <td>0</td>\n      <td>2100</td>\n      <td>1900</td>\n    </tr>\n    <tr>\n      <th>1858</th>\n      <td>False</td>\n      <td>False</td>\n      <td>1510</td>\n      <td>1547.0</td>\n      <td>37.0</td>\n      <td>1547.0</td>\n      <td>60.0</td>\n      <td>214.0</td>\n      <td>4</td>\n      <td>1</td>\n      <td>...</td>\n      <td>2.0</td>\n      <td>14.0</td>\n      <td>1601.0</td>\n      <td>1539.0</td>\n      <td>8.0</td>\n      <td>1510</td>\n      <td>1</td>\n      <td>0</td>\n      <td>1500</td>\n      <td>1500</td>\n    </tr>\n    <tr>\n      <th>1859</th>\n      <td>False</td>\n      <td>False</td>\n      <td>820</td>\n      <td>819.0</td>\n      <td>0.0</td>\n      <td>818.0</td>\n      <td>75.0</td>\n      <td>214.0</td>\n      <td>4</td>\n      <td>1</td>\n      <td>...</td>\n      <td>-1.0</td>\n      <td>14.0</td>\n      <td>833.0</td>\n      <td>813.0</td>\n      <td>5.0</td>\n      <td>835</td>\n      <td>1</td>\n      <td>0</td>\n      <td>800</td>\n      <td>800</td>\n    </tr>\n  </tbody>\n</table>\n<p>5 rows × 22 columns</p>\n</div>"
     },
     "execution_count": 24,
     "metadata": {},
     "output_type": "execute_result"
    }
   ],
   "source": [
    "# dropping the 'ArrTimeBlk' and DepTimeBlk\n",
    "df_ATL_filtered = df_ATL_filtered.drop(columns=['DepTimeBlk', 'ArrTimeBlk'])\n",
    "df_ATL_filtered.head(5)"
   ]
  },
  {
   "cell_type": "markdown",
   "id": "e52740f5",
   "metadata": {},
   "source": [
    "### - Handling columns with value in 'hhmm' format"
   ]
  },
  {
   "cell_type": "code",
   "execution_count": 25,
   "id": "e2703589",
   "metadata": {
    "ExecuteTime": {
     "end_time": "2024-03-22T02:14:11.246378200Z",
     "start_time": "2024-03-22T02:14:11.208427500Z"
    }
   },
   "outputs": [
    {
     "data": {
      "text/plain": "         CRSDepTime  DepTime  CRSArrTime  ArrTime  WheelsOff  WheelsOn  \\\n1855            820    832.0        1000   1004.0      845.0    1000.0   \n1856           1440   1505.0        1615   1632.0     1516.0    1625.0   \n1857           1955   2105.0        2135   2237.0     2123.0    2232.0   \n1858           1510   1547.0        1510   1547.0     1601.0    1539.0   \n1859            820    819.0         835    818.0      833.0     813.0   \n...             ...      ...         ...      ...        ...       ...   \n4077926        1929   1940.0        2120   2116.0     1957.0    2108.0   \n4077960        1952   2027.0        2220   2258.0     2050.0    2221.0   \n4078230        1947   2016.0        2200     42.0     2105.0      23.0   \n4078259        1704   1933.0        1918   2159.0     1955.0    2145.0   \n4078304        1202   1158.0        1422   1404.0     1216.0    1358.0   \n\n         ArrTimeBlk_numeric  DepTimeBlk_numeric  \n1855                   1000                 800  \n1856                   1600                1400  \n1857                   2100                1900  \n1858                   1500                1500  \n1859                    800                 800  \n...                     ...                 ...  \n4077926                2100                1900  \n4077960                2200                1900  \n4078230                2200                1900  \n4078259                1900                1700  \n4078304                1400                1200  \n\n[183697 rows x 8 columns]",
      "text/html": "<div>\n<style scoped>\n    .dataframe tbody tr th:only-of-type {\n        vertical-align: middle;\n    }\n\n    .dataframe tbody tr th {\n        vertical-align: top;\n    }\n\n    .dataframe thead th {\n        text-align: right;\n    }\n</style>\n<table border=\"1\" class=\"dataframe\">\n  <thead>\n    <tr style=\"text-align: right;\">\n      <th></th>\n      <th>CRSDepTime</th>\n      <th>DepTime</th>\n      <th>CRSArrTime</th>\n      <th>ArrTime</th>\n      <th>WheelsOff</th>\n      <th>WheelsOn</th>\n      <th>ArrTimeBlk_numeric</th>\n      <th>DepTimeBlk_numeric</th>\n    </tr>\n  </thead>\n  <tbody>\n    <tr>\n      <th>1855</th>\n      <td>820</td>\n      <td>832.0</td>\n      <td>1000</td>\n      <td>1004.0</td>\n      <td>845.0</td>\n      <td>1000.0</td>\n      <td>1000</td>\n      <td>800</td>\n    </tr>\n    <tr>\n      <th>1856</th>\n      <td>1440</td>\n      <td>1505.0</td>\n      <td>1615</td>\n      <td>1632.0</td>\n      <td>1516.0</td>\n      <td>1625.0</td>\n      <td>1600</td>\n      <td>1400</td>\n    </tr>\n    <tr>\n      <th>1857</th>\n      <td>1955</td>\n      <td>2105.0</td>\n      <td>2135</td>\n      <td>2237.0</td>\n      <td>2123.0</td>\n      <td>2232.0</td>\n      <td>2100</td>\n      <td>1900</td>\n    </tr>\n    <tr>\n      <th>1858</th>\n      <td>1510</td>\n      <td>1547.0</td>\n      <td>1510</td>\n      <td>1547.0</td>\n      <td>1601.0</td>\n      <td>1539.0</td>\n      <td>1500</td>\n      <td>1500</td>\n    </tr>\n    <tr>\n      <th>1859</th>\n      <td>820</td>\n      <td>819.0</td>\n      <td>835</td>\n      <td>818.0</td>\n      <td>833.0</td>\n      <td>813.0</td>\n      <td>800</td>\n      <td>800</td>\n    </tr>\n    <tr>\n      <th>...</th>\n      <td>...</td>\n      <td>...</td>\n      <td>...</td>\n      <td>...</td>\n      <td>...</td>\n      <td>...</td>\n      <td>...</td>\n      <td>...</td>\n    </tr>\n    <tr>\n      <th>4077926</th>\n      <td>1929</td>\n      <td>1940.0</td>\n      <td>2120</td>\n      <td>2116.0</td>\n      <td>1957.0</td>\n      <td>2108.0</td>\n      <td>2100</td>\n      <td>1900</td>\n    </tr>\n    <tr>\n      <th>4077960</th>\n      <td>1952</td>\n      <td>2027.0</td>\n      <td>2220</td>\n      <td>2258.0</td>\n      <td>2050.0</td>\n      <td>2221.0</td>\n      <td>2200</td>\n      <td>1900</td>\n    </tr>\n    <tr>\n      <th>4078230</th>\n      <td>1947</td>\n      <td>2016.0</td>\n      <td>2200</td>\n      <td>42.0</td>\n      <td>2105.0</td>\n      <td>23.0</td>\n      <td>2200</td>\n      <td>1900</td>\n    </tr>\n    <tr>\n      <th>4078259</th>\n      <td>1704</td>\n      <td>1933.0</td>\n      <td>1918</td>\n      <td>2159.0</td>\n      <td>1955.0</td>\n      <td>2145.0</td>\n      <td>1900</td>\n      <td>1700</td>\n    </tr>\n    <tr>\n      <th>4078304</th>\n      <td>1202</td>\n      <td>1158.0</td>\n      <td>1422</td>\n      <td>1404.0</td>\n      <td>1216.0</td>\n      <td>1358.0</td>\n      <td>1400</td>\n      <td>1200</td>\n    </tr>\n  </tbody>\n</table>\n<p>183697 rows × 8 columns</p>\n</div>"
     },
     "execution_count": 25,
     "metadata": {},
     "output_type": "execute_result"
    }
   ],
   "source": [
    "# Columns that are in the \"hhmm\" format\n",
    "df_ATL_filtered[['CRSDepTime','DepTime','CRSArrTime','ArrTime','WheelsOff','WheelsOn','ArrTimeBlk_numeric','DepTimeBlk_numeric']]\n"
   ]
  },
  {
   "cell_type": "code",
   "execution_count": 49,
   "id": "1525317b",
   "metadata": {
    "ExecuteTime": {
     "end_time": "2024-03-02T17:33:51.250272300Z",
     "start_time": "2024-03-02T17:33:50.877126800Z"
    }
   },
   "outputs": [
    {
     "name": "stdout",
     "output_type": "stream",
     "text": [
      "Cancelled                    bool\n",
      "Diverted                     bool\n",
      "DepDelayMinutes           float64\n",
      "ArrDelayMinutes           float64\n",
      "AirTime                   float64\n",
      "CRSElapsedTime            float64\n",
      "ActualElapsedTime         float64\n",
      "Distance                  float64\n",
      "Month                       int64\n",
      "DayofMonth                  int64\n",
      "DayOfWeek                   int64\n",
      "DepDel15                  float64\n",
      "DepartureDelayGroups      float64\n",
      "TaxiOut                   float64\n",
      "TaxiIn                    float64\n",
      "ArrDel15                  float64\n",
      "ArrivalDelayGroups        float64\n",
      "DistanceGroup               int64\n",
      "DivAirportLandings          int64\n",
      "CRSDepTime_sin            float64\n",
      "CRSDepTime_cos            float64\n",
      "DepTime_sin               float64\n",
      "DepTime_cos               float64\n",
      "CRSArrTime_sin            float64\n",
      "CRSArrTime_cos            float64\n",
      "ArrTime_sin               float64\n",
      "ArrTime_cos               float64\n",
      "WheelsOff_sin             float64\n",
      "WheelsOff_cos             float64\n",
      "WheelsOn_sin              float64\n",
      "WheelsOn_cos              float64\n",
      "ArrTimeBlk_numeric_sin    float64\n",
      "ArrTimeBlk_numeric_cos    float64\n",
      "DepTimeBlk_numeric_sin    float64\n",
      "DepTimeBlk_numeric_cos    float64\n",
      "dtype: object\n"
     ]
    }
   ],
   "source": [
    "time_columns = ['CRSDepTime', 'DepTime', 'CRSArrTime', 'ArrTime', 'WheelsOff', 'WheelsOn', 'ArrTimeBlk_numeric', 'DepTimeBlk_numeric']\n",
    "\n",
    "for column in time_columns:\n",
    "    # Extract hour and minute\n",
    "    df_ATL_filtered[column + '_hour'] = df_ATL_filtered[column] // 100\n",
    "    df_ATL_filtered[column + '_minute'] = df_ATL_filtered[column] % 100\n",
    "\n",
    "    # Apply trigonometric transformations\n",
    "    df_ATL_filtered[column + '_sin'] = np.sin(2 * np.pi * (df_ATL_filtered[column + '_hour'] * 60 + df_ATL_filtered[column + '_minute']) / (24 * 60))\n",
    "    df_ATL_filtered[column + '_cos'] = np.cos(2 * np.pi * (df_ATL_filtered[column + '_hour'] * 60 + df_ATL_filtered[column + '_minute']) / (24 * 60))\n",
    "\n",
    "    # Drop the original columns\n",
    "    df_ATL_filtered = df_ATL_filtered.drop(columns=[column, column + '_hour', column + '_minute'])\n",
    "\n",
    "# Print data types of the updated DataFrame\n",
    "print(df_ATL_filtered.dtypes)"
   ]
  },
  {
   "cell_type": "markdown",
   "id": "72f21f09",
   "metadata": {},
   "source": [
    "##### Explaination -\n",
    "\n",
    "1. **Converting 'hhmm' to Minutes:**\n",
    "   - `df_ATL_filtered[column + '_hour'] * 60 + df_ATL_filtered[column + '_minute']`: This part converts the 'hhmm' format to minutes. It takes the hour component, multiplies it by 60 to convert to minutes, and adds the minute component.\n",
    "\n",
    "2. **Normalizing to [0, 1):**\n",
    "   - `(df_ATL_filtered[column + '_hour'] * 60 + df_ATL_filtered[column + '_minute']) / (24 * 60)`: This part normalizes the minutes to the range [0, 1) by dividing by the total number of minutes in a day (24 hours * 60 minutes).\n",
    "\n",
    "3. **Trigonometric Transformations:**\n",
    "   - `2 * np.pi * ...`: This part scales the normalized time to the range [0, 2π), making it suitable for trigonometric functions.\n",
    "\n",
    "   - `np.sin(...)`: This calculates the sine of the scaled, normalized time. The sine function produces a wave-like pattern with values between -1 and 1. It captures the cyclical nature of time, where similar times of day will have similar sine values.\n",
    "\n",
    "   - `np.cos(...)`: Similarly, this calculates the cosine of the scaled, normalized time. The cosine function is another periodic function that is shifted relative to the sine function. It provides an additional perspective on the cyclical pattern.\n",
    "\n",
    "In summary, the sine and cosine transformations encode the time information into two continuous features that capture both the cyclicality and the phase (shift) within the day. This encoding is often beneficial for machine learning models to capture the temporal patterns in a way that respects the circular nature of time. The resulting features (`column + '_sin'` and `column + '_cos'`) can be used as inputs to your machine learning model for predicting flight cancellations."
   ]
  },
  {
   "cell_type": "markdown",
   "id": "5f97ee9c",
   "metadata": {},
   "source": [
    "### - Converting columns with Boolean values to Binary"
   ]
  },
  {
   "cell_type": "code",
   "execution_count": 50,
   "id": "b9118644",
   "metadata": {
    "ExecuteTime": {
     "end_time": "2024-03-02T17:33:51.324894Z",
     "start_time": "2024-03-02T17:33:51.253282500Z"
    }
   },
   "outputs": [
    {
     "data": {
      "text/plain": [
       "\"\\ndf_ATL_filtered['Cancelled_binary'] = df_ATL_filtered['Cancelled'].astype(int)\\ndf_ATL_filtered['Diverted_binary'] = df_ATL_filtered['Diverted'].astype(int)\\n\\n# Drop the original boolean columns if needed\\ndf_ATL_filtered = df_ATL_filtered.drop(columns=['Cancelled', 'Diverted'])\\n\\n# Print data types of the updated DataFrame\\nprint(df_ATL_filtered.dtypes) \""
      ]
     },
     "execution_count": 50,
     "metadata": {},
     "output_type": "execute_result"
    }
   ],
   "source": [
    "'''\n",
    "df_ATL_filtered['Cancelled_binary'] = df_ATL_filtered['Cancelled'].astype(int)\n",
    "df_ATL_filtered['Diverted_binary'] = df_ATL_filtered['Diverted'].astype(int)\n",
    "\n",
    "# Drop the original boolean columns if needed\n",
    "df_ATL_filtered = df_ATL_filtered.drop(columns=['Cancelled', 'Diverted'])\n",
    "\n",
    "# Print data types of the updated DataFrame\n",
    "print(df_ATL_filtered.dtypes) '''"
   ]
  },
  {
   "cell_type": "code",
   "execution_count": 51,
   "id": "290d3408",
   "metadata": {
    "ExecuteTime": {
     "end_time": "2024-03-02T17:33:51.326891600Z",
     "start_time": "2024-03-02T17:33:51.296343200Z"
    }
   },
   "outputs": [
    {
     "data": {
      "text/html": [
       "<div>\n",
       "<style scoped>\n",
       "    .dataframe tbody tr th:only-of-type {\n",
       "        vertical-align: middle;\n",
       "    }\n",
       "\n",
       "    .dataframe tbody tr th {\n",
       "        vertical-align: top;\n",
       "    }\n",
       "\n",
       "    .dataframe thead th {\n",
       "        text-align: right;\n",
       "    }\n",
       "</style>\n",
       "<table border=\"1\" class=\"dataframe\">\n",
       "  <thead>\n",
       "    <tr style=\"text-align: right;\">\n",
       "      <th></th>\n",
       "      <th>Cancelled</th>\n",
       "      <th>Diverted</th>\n",
       "      <th>DepDelayMinutes</th>\n",
       "      <th>ArrDelayMinutes</th>\n",
       "      <th>AirTime</th>\n",
       "      <th>CRSElapsedTime</th>\n",
       "      <th>ActualElapsedTime</th>\n",
       "      <th>Distance</th>\n",
       "      <th>Month</th>\n",
       "      <th>DayofMonth</th>\n",
       "      <th>...</th>\n",
       "      <th>ArrTime_sin</th>\n",
       "      <th>ArrTime_cos</th>\n",
       "      <th>WheelsOff_sin</th>\n",
       "      <th>WheelsOff_cos</th>\n",
       "      <th>WheelsOn_sin</th>\n",
       "      <th>WheelsOn_cos</th>\n",
       "      <th>ArrTimeBlk_numeric_sin</th>\n",
       "      <th>ArrTimeBlk_numeric_cos</th>\n",
       "      <th>DepTimeBlk_numeric_sin</th>\n",
       "      <th>DepTimeBlk_numeric_cos</th>\n",
       "    </tr>\n",
       "  </thead>\n",
       "  <tbody>\n",
       "    <tr>\n",
       "      <th>1855</th>\n",
       "      <td>False</td>\n",
       "      <td>False</td>\n",
       "      <td>12.0</td>\n",
       "      <td>4.0</td>\n",
       "      <td>135.0</td>\n",
       "      <td>160.0</td>\n",
       "      <td>152.0</td>\n",
       "      <td>813.0</td>\n",
       "      <td>4</td>\n",
       "      <td>1</td>\n",
       "      <td>...</td>\n",
       "      <td>0.484810</td>\n",
       "      <td>-0.874620</td>\n",
       "      <td>0.751840</td>\n",
       "      <td>-0.659346</td>\n",
       "      <td>0.500000</td>\n",
       "      <td>-0.866025</td>\n",
       "      <td>0.500000</td>\n",
       "      <td>-0.866025</td>\n",
       "      <td>0.866025</td>\n",
       "      <td>-0.500000</td>\n",
       "    </tr>\n",
       "    <tr>\n",
       "      <th>1856</th>\n",
       "      <td>False</td>\n",
       "      <td>False</td>\n",
       "      <td>25.0</td>\n",
       "      <td>17.0</td>\n",
       "      <td>129.0</td>\n",
       "      <td>155.0</td>\n",
       "      <td>147.0</td>\n",
       "      <td>813.0</td>\n",
       "      <td>4</td>\n",
       "      <td>1</td>\n",
       "      <td>...</td>\n",
       "      <td>-0.927184</td>\n",
       "      <td>-0.374607</td>\n",
       "      <td>-0.754710</td>\n",
       "      <td>-0.656059</td>\n",
       "      <td>-0.915311</td>\n",
       "      <td>-0.402747</td>\n",
       "      <td>-0.866025</td>\n",
       "      <td>-0.500000</td>\n",
       "      <td>-0.500000</td>\n",
       "      <td>-0.866025</td>\n",
       "    </tr>\n",
       "    <tr>\n",
       "      <th>1857</th>\n",
       "      <td>False</td>\n",
       "      <td>False</td>\n",
       "      <td>70.0</td>\n",
       "      <td>62.0</td>\n",
       "      <td>129.0</td>\n",
       "      <td>160.0</td>\n",
       "      <td>152.0</td>\n",
       "      <td>813.0</td>\n",
       "      <td>4</td>\n",
       "      <td>1</td>\n",
       "      <td>...</td>\n",
       "      <td>-0.354291</td>\n",
       "      <td>0.935135</td>\n",
       "      <td>-0.632705</td>\n",
       "      <td>0.774393</td>\n",
       "      <td>-0.374607</td>\n",
       "      <td>0.927184</td>\n",
       "      <td>-0.707107</td>\n",
       "      <td>0.707107</td>\n",
       "      <td>-0.965926</td>\n",
       "      <td>0.258819</td>\n",
       "    </tr>\n",
       "    <tr>\n",
       "      <th>1858</th>\n",
       "      <td>False</td>\n",
       "      <td>False</td>\n",
       "      <td>37.0</td>\n",
       "      <td>37.0</td>\n",
       "      <td>38.0</td>\n",
       "      <td>60.0</td>\n",
       "      <td>60.0</td>\n",
       "      <td>214.0</td>\n",
       "      <td>4</td>\n",
       "      <td>1</td>\n",
       "      <td>...</td>\n",
       "      <td>-0.836286</td>\n",
       "      <td>-0.548293</td>\n",
       "      <td>-0.868199</td>\n",
       "      <td>-0.496217</td>\n",
       "      <td>-0.816642</td>\n",
       "      <td>-0.577145</td>\n",
       "      <td>-0.707107</td>\n",
       "      <td>-0.707107</td>\n",
       "      <td>-0.707107</td>\n",
       "      <td>-0.707107</td>\n",
       "    </tr>\n",
       "    <tr>\n",
       "      <th>1859</th>\n",
       "      <td>False</td>\n",
       "      <td>False</td>\n",
       "      <td>0.0</td>\n",
       "      <td>0.0</td>\n",
       "      <td>40.0</td>\n",
       "      <td>75.0</td>\n",
       "      <td>59.0</td>\n",
       "      <td>214.0</td>\n",
       "      <td>4</td>\n",
       "      <td>1</td>\n",
       "      <td>...</td>\n",
       "      <td>0.824126</td>\n",
       "      <td>-0.566406</td>\n",
       "      <td>0.785317</td>\n",
       "      <td>-0.619094</td>\n",
       "      <td>0.836286</td>\n",
       "      <td>-0.548293</td>\n",
       "      <td>0.866025</td>\n",
       "      <td>-0.500000</td>\n",
       "      <td>0.866025</td>\n",
       "      <td>-0.500000</td>\n",
       "    </tr>\n",
       "  </tbody>\n",
       "</table>\n",
       "<p>5 rows × 35 columns</p>\n",
       "</div>"
      ],
      "text/plain": [
       "      Cancelled  Diverted  DepDelayMinutes  ArrDelayMinutes  AirTime  \\\n",
       "1855      False     False             12.0              4.0    135.0   \n",
       "1856      False     False             25.0             17.0    129.0   \n",
       "1857      False     False             70.0             62.0    129.0   \n",
       "1858      False     False             37.0             37.0     38.0   \n",
       "1859      False     False              0.0              0.0     40.0   \n",
       "\n",
       "      CRSElapsedTime  ActualElapsedTime  Distance  Month  DayofMonth  ...  \\\n",
       "1855           160.0              152.0     813.0      4           1  ...   \n",
       "1856           155.0              147.0     813.0      4           1  ...   \n",
       "1857           160.0              152.0     813.0      4           1  ...   \n",
       "1858            60.0               60.0     214.0      4           1  ...   \n",
       "1859            75.0               59.0     214.0      4           1  ...   \n",
       "\n",
       "      ArrTime_sin  ArrTime_cos  WheelsOff_sin  WheelsOff_cos  WheelsOn_sin  \\\n",
       "1855     0.484810    -0.874620       0.751840      -0.659346      0.500000   \n",
       "1856    -0.927184    -0.374607      -0.754710      -0.656059     -0.915311   \n",
       "1857    -0.354291     0.935135      -0.632705       0.774393     -0.374607   \n",
       "1858    -0.836286    -0.548293      -0.868199      -0.496217     -0.816642   \n",
       "1859     0.824126    -0.566406       0.785317      -0.619094      0.836286   \n",
       "\n",
       "      WheelsOn_cos  ArrTimeBlk_numeric_sin  ArrTimeBlk_numeric_cos  \\\n",
       "1855     -0.866025                0.500000               -0.866025   \n",
       "1856     -0.402747               -0.866025               -0.500000   \n",
       "1857      0.927184               -0.707107                0.707107   \n",
       "1858     -0.577145               -0.707107               -0.707107   \n",
       "1859     -0.548293                0.866025               -0.500000   \n",
       "\n",
       "      DepTimeBlk_numeric_sin  DepTimeBlk_numeric_cos  \n",
       "1855                0.866025               -0.500000  \n",
       "1856               -0.500000               -0.866025  \n",
       "1857               -0.965926                0.258819  \n",
       "1858               -0.707107               -0.707107  \n",
       "1859                0.866025               -0.500000  \n",
       "\n",
       "[5 rows x 35 columns]"
      ]
     },
     "execution_count": 51,
     "metadata": {},
     "output_type": "execute_result"
    }
   ],
   "source": [
    "df_ATL_filtered.head(5)"
   ]
  },
  {
   "cell_type": "markdown",
   "id": "f6ecf81c81382b0",
   "metadata": {
    "collapsed": false
   },
   "source": [
    "### - Handling missing values in the dataset"
   ]
  },
  {
   "cell_type": "code",
   "execution_count": 52,
   "id": "a311b93dfa68f8fc",
   "metadata": {
    "ExecuteTime": {
     "end_time": "2024-03-02T17:42:19.278390500Z",
     "start_time": "2024-03-02T17:42:19.168550400Z"
    },
    "collapsed": false
   },
   "outputs": [
    {
     "name": "stdout",
     "output_type": "stream",
     "text": [
      "Missing Values :\n",
      "Cancelled                    0\n",
      "Diverted                     0\n",
      "DepDelayMinutes           3388\n",
      "ArrDelayMinutes           3845\n",
      "AirTime                   3845\n",
      "CRSElapsedTime               0\n",
      "ActualElapsedTime         3845\n",
      "Distance                     0\n",
      "Month                        0\n",
      "DayofMonth                   0\n",
      "DayOfWeek                    0\n",
      "DepDel15                  3388\n",
      "DepartureDelayGroups      3388\n",
      "TaxiOut                   3425\n",
      "TaxiIn                    3453\n",
      "ArrDel15                  3845\n",
      "ArrivalDelayGroups        3845\n",
      "DistanceGroup                0\n",
      "DivAirportLandings           0\n",
      "CRSDepTime_sin               0\n",
      "CRSDepTime_cos               0\n",
      "DepTime_sin               3388\n",
      "DepTime_cos               3388\n",
      "CRSArrTime_sin               0\n",
      "CRSArrTime_cos               0\n",
      "ArrTime_sin               3453\n",
      "ArrTime_cos               3453\n",
      "WheelsOff_sin             3425\n",
      "WheelsOff_cos             3425\n",
      "WheelsOn_sin              3453\n",
      "WheelsOn_cos              3453\n",
      "ArrTimeBlk_numeric_sin       0\n",
      "ArrTimeBlk_numeric_cos       0\n",
      "DepTimeBlk_numeric_sin       0\n",
      "DepTimeBlk_numeric_cos       0\n",
      "dtype: int64\n"
     ]
    }
   ],
   "source": [
    "# Verify that missing values are filled\n",
    "missing_values_after_imputation = df_ATL_filtered.isnull().sum()\n",
    "print(\"Missing Values :\")\n",
    "print(missing_values_after_imputation)"
   ]
  },
  {
   "cell_type": "markdown",
   "id": "58e00cfe",
   "metadata": {},
   "source": [
    "<strong>Important Note</strong>\n",
    "- For the column 'Cancelled' every row value that is True, the following columns <b>['DepTime' 'DepDelayMinutes' 'DepDelay' 'ArrTime'\t'ArrDelayMinutes' 'AirTime' 'CRSElapsedTime' 'TaxiOut'\t'WheelsOff'\t'WheelsOn'\t'TaxiIn' 'DepDel15' 'ArrDelay'\t'ArrDel15'\t'ArrivalDelayGroups']</b> are 'nan'. This means no flight data is collected if the flight is cancelled that adds up.\n",
    "- For the column 'Diverted'  every row value that is True, the columns containg information about arrival details is 'nan' for those particular rows.\n",
    "-  to resolve this we will "
   ]
  },
  {
   "cell_type": "code",
   "execution_count": null,
   "id": "cbc2bd3be124c889",
   "metadata": {
    "collapsed": false
   },
   "outputs": [],
   "source": []
  }
 ],
 "metadata": {
  "kernelspec": {
   "display_name": "Python 3 (ipykernel)",
   "language": "python",
   "name": "python3"
  },
  "language_info": {
   "codemirror_mode": {
    "name": "ipython",
    "version": 3
   },
   "file_extension": ".py",
   "mimetype": "text/x-python",
   "name": "python",
   "nbconvert_exporter": "python",
   "pygments_lexer": "ipython3",
   "version": "3.10.11"
  }
 },
 "nbformat": 4,
 "nbformat_minor": 5
}
